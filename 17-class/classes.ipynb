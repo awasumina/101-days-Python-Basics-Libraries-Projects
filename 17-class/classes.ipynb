{
  "nbformat": 4,
  "nbformat_minor": 0,
  "metadata": {
    "colab": {
      "provenance": []
    },
    "kernelspec": {
      "name": "python3",
      "display_name": "Python 3"
    },
    "language_info": {
      "name": "python"
    }
  },
  "cells": [
    {
      "cell_type": "code",
      "execution_count": 6,
      "metadata": {
        "colab": {
          "base_uri": "https://localhost:8080/"
        },
        "id": "3tFReezPGegH",
        "outputId": "9cb610b8-4c7a-4587-ac93-cfce03c3c670"
      },
      "outputs": [
        {
          "output_type": "stream",
          "name": "stdout",
          "text": [
            "awa is a Developer\n",
            "Divya is a HR\n",
            "1 is a one\n"
          ]
        }
      ],
      "source": [
        "class Person:\n",
        "\n",
        "  def __init__(self, name, occ):      #constructors\n",
        "    # print(\"Hey I am a person\")\n",
        "    self.name = name\n",
        "    self.occ = occ\n",
        "\n",
        "  def info(self):\n",
        "    print(f\"{self.name} is a {self.occ}\")\n",
        "\n",
        "\n",
        "a = Person(\"awa\", \"Developer\")\n",
        "b = Person(\"Divya\", \"HR\")\n",
        "c = Person(1, \"one\")\n",
        "a.info()\n",
        "b.info()\n",
        "c.info()"
      ]
    },
    {
      "cell_type": "code",
      "source": [
        "#decorators\n",
        "def greet(fx):\n",
        "  def mfx(*args, **kwargs):\n",
        "    print(\"Good Morning\")\n",
        "    fx(*args, **kwargs)\n",
        "    print(\"Thanks for using this function\")\n",
        "  return mfx\n",
        "\n",
        "@greet\n",
        "def hello():\n",
        "  print(\"Hello world\")\n",
        "\n",
        "\n",
        "\n",
        "hello()"
      ],
      "metadata": {
        "colab": {
          "base_uri": "https://localhost:8080/"
        },
        "id": "E8QfF3Aiv75i",
        "outputId": "cac3f7b1-76b7-4940-dfc3-c9e3305884bb"
      },
      "execution_count": 7,
      "outputs": [
        {
          "output_type": "stream",
          "name": "stdout",
          "text": [
            "Good Morning\n",
            "Hello world\n",
            "Thanks for using this function\n"
          ]
        }
      ]
    },
    {
      "cell_type": "code",
      "source": [
        "def greet(fx):\n",
        "  def mfx(*args, **kwargs):\n",
        "    print(\"Good Morning\")\n",
        "    fx(*args, **kwargs)\n",
        "    print(\"Thanks for using this function\")\n",
        "  return mfx\n",
        "\n",
        "\n",
        "\n",
        "@greet\n",
        "def add(a, b):\n",
        "  print(a+b)\n",
        "\n",
        "\n",
        "add(1, 2)"
      ],
      "metadata": {
        "colab": {
          "base_uri": "https://localhost:8080/"
        },
        "id": "bjh4aTXByl-c",
        "outputId": "12224f2e-d677-4a4a-f863-a219ee860576"
      },
      "execution_count": 8,
      "outputs": [
        {
          "output_type": "stream",
          "name": "stdout",
          "text": [
            "Good Morning\n",
            "3\n",
            "Thanks for using this function\n"
          ]
        }
      ]
    }
  ]
}