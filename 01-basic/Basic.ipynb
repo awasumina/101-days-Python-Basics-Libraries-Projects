{
  "nbformat": 4,
  "nbformat_minor": 0,
  "metadata": {
    "colab": {
      "provenance": []
    },
    "kernelspec": {
      "name": "python3",
      "display_name": "Python 3"
    },
    "language_info": {
      "name": "python"
    }
  },
  "cells": [
    {
      "cell_type": "code",
      "execution_count": 6,
      "metadata": {
        "colab": {
          "base_uri": "https://localhost:8080/"
        },
        "id": "2-Fd9a7XeIYl",
        "outputId": "aa8f1778-4bb8-4cc6-d3a9-a42bd61274db"
      },
      "outputs": [
        {
          "output_type": "stream",
          "name": "stdout",
          "text": [
            "hey \n",
            "bye\n",
            "hey it's me\n"
          ]
        }
      ],
      "source": [
        "# comment sequence\n",
        "print(\"hey \\nbye\")\n",
        "print('hey it\\'s me')"
      ]
    },
    {
      "cell_type": "code",
      "source": [
        "a= 123.3\n",
        "b= \"me\"\n",
        "c= complex(5,3)  #complex number define\n",
        "print(c)\n",
        "print(type(a))\n",
        "print(type(b))\n",
        "print(type(c))\n",
        "# print(a + b)    concatenation of string and int is error"
      ],
      "metadata": {
        "colab": {
          "base_uri": "https://localhost:8080/"
        },
        "id": "PtPb9xnJfhKv",
        "outputId": "55eea102-21ec-4bd6-f7e3-0fc9c95047f4"
      },
      "execution_count": 22,
      "outputs": [
        {
          "output_type": "stream",
          "name": "stdout",
          "text": [
            "(5+3j)\n",
            "<class 'float'>\n",
            "<class 'str'>\n",
            "<class 'complex'>\n"
          ]
        }
      ]
    },
    {
      "cell_type": "code",
      "source": [
        "print(15//6)\n",
        "print(15/6)\n",
        "print(5**2)"
      ],
      "metadata": {
        "colab": {
          "base_uri": "https://localhost:8080/"
        },
        "id": "iT8PEwKTg3yx",
        "outputId": "00abf2c2-5e54-4afc-a84d-1443761eb1c6"
      },
      "execution_count": 21,
      "outputs": [
        {
          "output_type": "stream",
          "name": "stdout",
          "text": [
            "2\n",
            "2.5\n",
            "25\n"
          ]
        }
      ]
    },
    {
      "cell_type": "code",
      "source": [
        "a=1\n",
        "b=2\n",
        "print(a+b)\n",
        "c=\"1\"\n",
        "d=\"2\"\n",
        "print(c+d)  #string concatenation\n",
        "print(int(c)+int(d))  #typecasting\n",
        "\n",
        "# explicit conversion - done by user\n",
        "# implicit conversion - done by python - lower to higher data type conversion\n",
        "\n",
        "e=1.1\n",
        "f=2\n",
        "print(e+f)    #implicit conversion"
      ],
      "metadata": {
        "colab": {
          "base_uri": "https://localhost:8080/"
        },
        "id": "PC7eaIgKh7fR",
        "outputId": "8c8ea386-d607-4a66-b913-48d22be895c0"
      },
      "execution_count": 27,
      "outputs": [
        {
          "output_type": "stream",
          "name": "stdout",
          "text": [
            "3\n",
            "12\n",
            "3\n",
            "3.1\n"
          ]
        }
      ]
    }
  ]
}