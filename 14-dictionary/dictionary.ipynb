{
  "cells": [
    {
      "cell_type": "code",
      "execution_count": 6,
      "metadata": {
        "colab": {
          "base_uri": "https://localhost:8080/"
        },
        "id": "lPCDQpwJ-6Li",
        "outputId": "08cec894-58a7-44ce-f8ff-cc2117cba297"
      },
      "outputs": [
        {
          "name": "stdout",
          "output_type": "stream",
          "text": [
            "{'name': 'Karan', 'age': 19, 'eligible': True}\n",
            "<class 'dict'>\n",
            "Karan\n",
            "dict_keys(['name', 'age', 'eligible'])\n",
            "dict_values(['Karan', 19, True])\n"
          ]
        }
      ],
      "source": [
        "#ordered and non sequence\n",
        "info = {'name':'Karan', 'age':19, 'eligible':True}\n",
        "print(info)\n",
        "print(type(info))\n",
        "print(info[\"name\"])\n",
        " \n",
        "print(info.keys())\n",
        "print(info.values())\n"
      ]
    },
    {
      "cell_type": "code",
      "execution_count": 8,
      "metadata": {
        "colab": {
          "base_uri": "https://localhost:8080/"
        },
        "id": "ILEXTPW3_fdG",
        "outputId": "ca41dd93-b78f-4ccf-fea4-3a918b8b06a7"
      },
      "outputs": [
        {
          "name": "stdout",
          "output_type": "stream",
          "text": [
            "The value corresponding to the key name is Karan\n",
            "The value corresponding to the key age is 19\n",
            "The value corresponding to the key eligible is True\n",
            "\n",
            "\n",
            "dict_items([('name', 'Karan'), ('age', 19), ('eligible', True)])\n",
            "The value corresponding to the key name is Karan\n",
            "The value corresponding to the key age is 19\n",
            "The value corresponding to the key eligible is True\n"
          ]
        }
      ],
      "source": [
        "info = {'name':'Karn', 'age':19, 'eligible':True}\n",
        "\n",
        "for key in info.keys():\n",
        "  print(f\"The value corresponding to the key {key} is {info[key]}\")\n",
        "\n",
        "print(\"\\n\")\n",
        "print(info.items())\n",
        "for key, value in info.items(): \n",
        "  print(f\"The value corresponding to the key {key} is {value}\")\n"
      ]
    },
    {
      "cell_type": "code",
      "execution_count": 19,
      "metadata": {
        "colab": {
          "base_uri": "https://localhost:8080/"
        },
        "id": "lPl9xSTgAQa0",
        "outputId": "d293fef9-2b4d-43c3-f8e7-74b743a27f56"
      },
      "outputs": [
        {
          "name": "stdout",
          "output_type": "stream",
          "text": [
            "{122: 45, 123: 89, 567: 69, 670: 69, 222: 67, 566: 90, 999: 45}\n",
            "{122: 45, 123: 89, 567: 69, 670: 69, 222: 67, 566: 90}\n",
            "{123: 89, 567: 69, 670: 69, 222: 67, 566: 90}\n"
          ]
        }
      ],
      "source": [
        "ep1 = {122: 45, 123: 89, 567: 69, 670: 69}\n",
        "ep2 = {222: 67, 566: 90, 999:45}\n",
        "\n",
        "ep1.update(ep2)\n",
        "print(ep1)\n",
        "\n",
        "# ep1.clear()\n",
        "# print(ep1)\n",
        "\n",
        "# ep1.pop(122)\n",
        "# print(ep1)\n",
        "\n",
        "ep1.popitem()   #pop top item\n",
        "print(ep1)\n",
        "\n",
        "del ep1[122]\n",
        "print(ep1) "
      ]
    }
  ],
  "metadata": {
    "colab": {
      "provenance": []
    },
    "kernelspec": {
      "display_name": "Python 3",
      "name": "python3"
    },
    "language_info": {
      "name": "python"
    }
  },
  "nbformat": 4,
  "nbformat_minor": 0
}
