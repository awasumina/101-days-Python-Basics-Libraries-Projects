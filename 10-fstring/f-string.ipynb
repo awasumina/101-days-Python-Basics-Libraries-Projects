{
  "nbformat": 4,
  "nbformat_minor": 0,
  "metadata": {
    "colab": {
      "provenance": []
    },
    "kernelspec": {
      "name": "python3",
      "display_name": "Python 3"
    },
    "language_info": {
      "name": "python"
    }
  },
  "cells": [
    {
      "cell_type": "code",
      "execution_count": null,
      "metadata": {
        "colab": {
          "base_uri": "https://localhost:8080/"
        },
        "id": "vKO0dOkbJskk",
        "outputId": "ae0c3428-3999-4696-837f-bb4eaef94cc8"
      },
      "outputs": [
        {
          "output_type": "stream",
          "name": "stdout",
          "text": [
            "I am Sumina and I am from Nepal\n"
          ]
        }
      ],
      "source": [
        "#this is older way of f string\n",
        "x = \"I am {} and I am from {}\"\n",
        "country=\"Nepal\"\n",
        "name = \"awasumina\"\n",
        "\n",
        "print(x.format(name,country))"
      ]
    },
    {
      "cell_type": "code",
      "source": [
        "#newer way:\n",
        "#python 3.6 onwards\n",
        "country=\"Nepal\"\n",
        "name = \"awasumina\"\n",
        "print(f\"I am {name} and I am from {country}\")\n",
        "print(f\"I am {{name}} and I am from {{country}}\") #if want to display the fstring"
      ],
      "metadata": {
        "colab": {
          "base_uri": "https://localhost:8080/"
        },
        "id": "1DwomRnFKN0S",
        "outputId": "d6f0e6ab-2a9d-4d15-83f6-b1d0ea88d20e"
      },
      "execution_count": 13,
      "outputs": [
        {
          "output_type": "stream",
          "name": "stdout",
          "text": [
            "I am awasumina and I am from Nepal\n",
            "I am {name} and I am from {country}\n"
          ]
        }
      ]
    },
    {
      "cell_type": "code",
      "source": [
        "#old way\n",
        "txt = \"The value Rs.{price:.2f}\"\n",
        "print(txt.format(price=49.19999999))"
      ],
      "metadata": {
        "colab": {
          "base_uri": "https://localhost:8080/"
        },
        "id": "qT47thvJKpuN",
        "outputId": "d74227f9-228b-44c1-9c74-db61d38cc1a9"
      },
      "execution_count": null,
      "outputs": [
        {
          "output_type": "stream",
          "name": "stdout",
          "text": [
            "The value Rs.49.20\n"
          ]
        }
      ]
    },
    {
      "cell_type": "code",
      "source": [
        "price=49.19999999\n",
        "txt = f\"The value Rs.{price:.2f}\"\n",
        "print(txt)"
      ],
      "metadata": {
        "id": "jzpdmCtNKPL-",
        "colab": {
          "base_uri": "https://localhost:8080/"
        },
        "outputId": "91da91d1-59ed-4c85-c50a-b37e408f86fc"
      },
      "execution_count": 12,
      "outputs": [
        {
          "output_type": "stream",
          "name": "stdout",
          "text": [
            "The value Rs.49.20\n"
          ]
        }
      ]
    }
  ]
}