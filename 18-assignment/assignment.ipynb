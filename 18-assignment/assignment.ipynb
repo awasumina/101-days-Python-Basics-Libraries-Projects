{
  "cells": [
    {
      "cell_type": "code",
      "execution_count": null,
      "metadata": {
        "colab": {
          "base_uri": "https://localhost:8080/"
        },
        "id": "wm6DCo_wBmwV",
        "outputId": "653dac7d-aff9-4cf1-f18f-5dc09c340347"
      },
      "outputs": [
        {
          "name": "stdout",
          "output_type": "stream",
          "text": [
            "07:22:19\n",
            "Good Morning\n"
          ]
        }
      ],
      "source": [
        "# display greeting according to time using if else\n",
        "import time\n",
        "timestamp = time.strftime('%H:%M:%S')\n",
        "print(timestamp)\n",
        "hr =int(time.strftime('%H'))\n",
        "if(hr<12):\n",
        "  print(\"Good Morning\")\n",
        "elif(hr<17): \n",
        "  print(\"Good Afternoon\")\n",
        "else:\n",
        "  print(\"Good Evening\")"
      ]
    },
    {
      "cell_type": "code",
      "execution_count": null,
      "metadata": {
        "colab": {
          "base_uri": "https://localhost:8080/"
        },
        "id": "1rTvIeD9BppM",
        "outputId": "5c9e73e1-5532-421b-edfc-600b88fd64a2"
      },
      "outputs": [
        {
          "name": "stdout",
          "output_type": "stream",
          "text": [
            "Welcome to KBC quiz\n",
            "Enter your Name : Sumina Awa\n",
            "Which planet is known as the \"Red Planet\"?\n",
            "Answer: Mars\n",
            "Correct Answer\n",
            "Do you want to continue: y\n",
            "What is the name of the biggest ocean on Earth?\n",
            "Answer: Pacific\n",
            "Correct Answer\n",
            "Do you want to continue: y\n",
            "What is the largest organ in the human body\n",
            "Answer: skin\n",
            "Correct Answer\n",
            "Do you want to continue: y\n",
            "What is the tallest mammal in the world?\n",
            "Answer: elephant\n",
            "Sorry it Incorrect\n",
            "Do you want to continue: n\n",
            "\n",
            "Congratulations Sumina Awa you earned Rs. 300\n"
          ]
        }
      ],
      "source": [
        "#Create a KBC using list data type to store quesstion and their correct asnwer\n",
        "#display final amount person takinh home after playing game\n",
        "\n",
        "import random as r\n",
        "print(\"Welcome to KBC quiz\")\n",
        "money=0\n",
        "name= input(\"Enter your Name : \")\n",
        "q=[\"What is the capital city of France?\",\"Which planet is known as the \\\"Red Planet\\\"?\", \"Who wrote the famous book series \\\"Harry Potter\\\"?\",\"What is the tallest mammal in the world?\",\"In which year did the Titanic sink?\",\"What is the name of the biggest ocean on Earth?\",\"What is the process by which plants make their food called?\",\"Who painted the famous artwork \\\"Mona Lisa\\\"?\",\"What is the largest organ in the human body\",\"Which bird is known for its ability to mimic human speech\"]\n",
        "a=[\"Paris\",\"Mars\",\"Rowling\",\"Giraffe\",\"1912\",\"Pacific\",\"Photosynthesis\",\"Vinci\",\"Skin\",\"Parrot\"]\n",
        "while(True):\n",
        "  index = r.randint(0,9)\n",
        "  print(q[index])\n",
        "  ans = input(\"Answer: \").capitalize()\n",
        "  if(ans==a[index]):\n",
        "    money=money+100\n",
        "    print(\"Correct Answer\")\n",
        "  else:\n",
        "    print(\"Sorry it Incorrect\")\n",
        "  ask = input(\"Do you want to continue: \")\n",
        "  if(ask=='n' or ask=='N'):\n",
        "    break\n",
        "print(\"\\nCongratulations \" +name + \" you earned Rs. \"+ str(money))\n",
        "\n",
        "\n"
      ]
    },
    {
      "cell_type": "code",
      "execution_count": null,
      "metadata": {
        "colab": {
          "base_uri": "https://localhost:8080/"
        },
        "id": "zSx2Vzf3ITBR",
        "outputId": "4aa893a3-4f69-4aec-e1c8-1c4a825e8d46"
      },
      "outputs": [
        {
          "name": "stdout",
          "output_type": "stream",
          "text": [
            "0\n",
            "1\n",
            "1\n",
            "2\n",
            "3\n",
            "5\n",
            "8\n",
            "13\n"
          ]
        }
      ],
      "source": [
        "#  Write a program to print the Fibonacci sequence\n",
        "a=0\n",
        "b=1\n",
        "# c=a+b\n",
        "def fibo(n):\n",
        "  global a,b\n",
        "  print(a)\n",
        "  c=a+b\n",
        "  a=b\n",
        "  b=c\n",
        "\n",
        "  if((n-1)==0):\n",
        "    return\n",
        "  else:\n",
        "    return fibo(n-1)\n",
        "\n",
        "fibo(8)"
      ]
    },
    {
      "cell_type": "code",
      "execution_count": null,
      "metadata": {
        "colab": {
          "base_uri": "https://localhost:8080/"
        },
        "id": "cyx3LVzGhigl",
        "outputId": "b1d90aa4-7bc8-4d7d-8a6a-e05ba82ff5da"
      },
      "outputs": [
        {
          "name": "stdout",
          "output_type": "stream",
          "text": [
            "Enter 0=scissor 1=paper 2=rock1\n",
            "Computer gave paper\n",
            "Draw\n",
            "Your Score: 0\n",
            "Enter 0=scissor 1=paper 2=rock2\n",
            "Computer gave paper\n",
            "You lose\n",
            "Your current Score: 0\n",
            "Do you want to continuen\n"
          ]
        }
      ],
      "source": [
        "# create a rock paper scissor game\n",
        "# 0==>rock\n",
        "# 1==>paper\n",
        "# 2==>scissor\n",
        "\n",
        "#       s p r\n",
        "#       0 1 2 =comp\n",
        "# s 0   D W L\n",
        "# p 1   L D W\n",
        "# r 2   W L D\n",
        "\n",
        "import random as r\n",
        "\n",
        "comp = r.randint(0,2)\n",
        "if(comp==0):\n",
        "  compvalue=\"scissor\"\n",
        "elif(comp==1):\n",
        "  compvalue=\"paper\"\n",
        "else:\n",
        "  compvalue=\"rock\"\n",
        "\n",
        "mscore=0\n",
        "cscore=0\n",
        "while(True):\n",
        "  man=int(input(\"Enter 0=scissor 1=paper 2=rock\"))\n",
        "  print(\"Computer gave \" +compvalue)\n",
        "  if(man==comp):\n",
        "    print(\"Draw\")\n",
        "    print(\"Your Score: \"+str(mscore))\n",
        "\n",
        "  elif((man==0 and comp==1) or (man==1 and comp==2) or (man==2 and comp==0)):\n",
        "    print(\"You win\")\n",
        "    print(\"Score: \"+str(mscore+1))\n",
        "  else:\n",
        "    print(\"You lose\") \n",
        "    print(\"Your current Score: \"+str(mscore))\n",
        "\n",
        "    char=input(\"Do you want to continue: \")\n",
        "    if(char=='N' or char=='n'):\n",
        "      break"
      ]
    }
  ],
  "metadata": {
    "colab": {
      "provenance": []
    },
    "kernelspec": {
      "display_name": "Python 3",
      "name": "python3"
    },
    "language_info": {
      "name": "python"
    }
  },
  "nbformat": 4,
  "nbformat_minor": 0
}
