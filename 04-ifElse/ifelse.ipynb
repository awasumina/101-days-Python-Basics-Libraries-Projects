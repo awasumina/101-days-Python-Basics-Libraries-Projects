{
  "cells": [
    {
      "cell_type": "code",
      "execution_count": 4,
      "metadata": {
        "colab": {
          "base_uri": "https://localhost:8080/"
        },
        "id": "qPd3LJV74Dn2",
        "outputId": "443ad035-6651-43ba-f4dd-a7f3e5f82c8d"
      },
      "outputs": [
        {
          "name": "stdout",
          "output_type": "stream",
          "text": [
            "true\n"
          ]
        }
      ],
      "source": [
        "a= True\n",
        "if(a):\n",
        "  print(\"true\")\n",
        "else:\n",
        "  print(\"false\")"
      ]
    },
    {
      "cell_type": "code",
      "execution_count": 20,
      "metadata": {
        "colab": {
          "base_uri": "https://localhost:8080/"
        },
        "id": "n5lsTW995vi2",
        "outputId": "2242803f-f984-4679-a03c-d14738aa163c"
      },
      "outputs": [
        {
          "name": "stdout",
          "output_type": "stream",
          "text": [
            "Enter your budget:25\n",
            "Buy Toffee\n",
            "Be happy\n"
          ]
        }
      ],
      "source": [
        "#  In Python, you use and for logical conjunctions like \"and,\" \"or,\" \"not,\" whereas in C and many other programming languages, including Java and JavaScript, you use &&, ||, and ! for logical operations.\n",
        "\n",
        "num=input(\"Enter your budget:\")\n",
        "if(int(num)>50):\n",
        "  print(\"Buy ice cream\")\n",
        "elif(int(num)>20 and int(num)<50):      #use of and operator\n",
        "  print(\"Buy Toffee\")\n",
        "else:\n",
        "  print(\"go home\")\n",
        "\n",
        "print(\"Be happy\")"
      ]
    },
    {
      "cell_type": "code",
      "execution_count": 10,
      "metadata": {
        "colab": {
          "base_uri": "https://localhost:8080/"
        },
        "id": "klFAvENx64V3",
        "outputId": "46b77d3b-1642-44e3-ac7a-7cfa6cf99a09"
      },
      "outputs": [
        {
          "name": "stdout",
          "output_type": "stream",
          "text": [
            "Number is between 11-20\n"
          ]
        }
      ],
      "source": [
        "# nested if else\n",
        "num = 18\n",
        "if (num < 0):\n",
        "    print(\"Number is negative.\")\n",
        "elif (num > 0):\n",
        "    if (num <= 10):\n",
        "        print(\"Number is between 1-10\")\n",
        "    elif (num > 10 and num <= 20):\n",
        "        print(\"Number is between 11-20\")\n",
        "    else:\n",
        "        print(\"Number is greater than 20\")\n",
        "else:\n",
        "    print(\"Number is zero\")"
      ]
    },
    {
      "cell_type": "code",
      "execution_count": 19,
      "metadata": {
        "colab": {
          "base_uri": "https://localhost:8080/"
        },
        "id": "Z9LskeHq7U_Z",
        "outputId": "010fb903-fb25-4826-8ebb-b65aef8f158e"
      },
      "outputs": [
        {
          "name": "stdout",
          "output_type": "stream",
          "text": [
            "12:20:37\n",
            "Good Evening\n"
          ]
        }
      ],
      "source": [
        "#assignment\n",
        "\n",
        "import time\n",
        "timestamp = time.strftime('%H:%M:%S')\n",
        "print(timestamp)\n",
        "hr =int(time.strftime('%H'))\n",
        "if(hr<12):\n",
        "  print(\"Good Morning\")\n",
        "elif(hr<17):\n",
        "  print(\"Good Afternoon\")\n",
        "else:\n",
        "  print(\"Good Evening\")"
      ]
    }
  ],
  "metadata": {
    "colab": {
      "provenance": []
    },
    "kernelspec": {
      "display_name": "Python 3",
      "name": "python3"
    },
    "language_info": {
      "name": "python"
    }
  },
  "nbformat": 4,
  "nbformat_minor": 0
}
