{
  "cells": [
    {
      "cell_type": "code",
      "execution_count": 2,
      "metadata": {
        "colab": {
          "base_uri": "https://localhost:8080/"
        },
        "id": "EypE7qZgCTsh",
        "outputId": "ea6d5ea8-90ba-4ea8-c5fc-03b74f7e6da6"
      },
      "outputs": [
        {
          "name": "stdout",
          "output_type": "stream",
          "text": [
            "   id      title  popularity release_date  movie_id genre_act        genre_sci\n",
            "0  19  Grown Ups      38.864   2010-06-24        19       NaN  Science Fiction\n",
            "(1, 7)\n"
          ]
        }
      ],
      "source": [
        "import pandas as pd\n",
        "\n",
        "data = {\n",
        "    'id': [11, 14290, 19, 9672, 12819, 3089, 11934, 13807, 73873, 11622],\n",
        "    'title': ['Oliver Twist', 'Better Luck Tomorrow', 'Grown Ups', 'Infamous', 'Alpha and Omega',\n",
        "              'Red River', 'The Hudsucker Proxy', 'Exiled', 'Albert Nobbs', 'Blast from the Past'],\n",
        "    'popularity': [20.416, 3.877, 38.864, 3.681, 12.301, 5.345, 14.189, 8.486, 7.802, 8.737],\n",
        "    'release_date': ['2005-09-23', '2002-01-12', '2010-06-24', '2006-11-16', '2010-09-17',\n",
        "                     '1948-08-26', '1994-03-11', '2006-09-06', '2011-12-21', '1999-02-12']\n",
        "}\n",
        "\n",
        "movies = pd.DataFrame(data)\n",
        "\n",
        "scifi_data = {\n",
        "    'movie_id': [11, 18, 19, 38, 62, 335866, 347548, 360188, 367551, 371690],\n",
        "    'genre': ['Science Fiction', 'Science Fiction', 'Science Fiction', 'Science Fiction', 'Science Fiction',\n",
        "              'Science Fiction', 'Science Fiction', 'Science Fiction', 'Science Fiction', 'Science Fiction']\n",
        "}\n",
        "\n",
        "scifi_movies = pd.DataFrame(scifi_data)\n",
        "\n",
        "action_data = {\n",
        "    'movie_id': [11, 18, 22, 24, 58, 381902, 385383, 389425, 407887, 417859],\n",
        "    'genre': ['Action', 'Action', 'Action', 'Action', 'Action',\n",
        "              'Action', 'Action', 'Action', 'Action', 'Action']\n",
        "}\n",
        "\n",
        "action_movies = pd.DataFrame(action_data)\n",
        "\n",
        "\n",
        "# Merge action_movies to the scifi_movies with right join\n",
        "action_scifi = action_movies.merge(scifi_movies, on='movie_id', how='right',\n",
        "                                   suffixes=('_act','_sci'))\n",
        "\n",
        "# From action_scifi, select only the rows where the genre_act column is null\n",
        "scifi_only = action_scifi[action_scifi['genre_act'].isnull()]\n",
        "\n",
        "# Merge the movies and scifi_only tables with an inner join\n",
        "movies_and_scifi_only = movies.merge(scifi_only, left_on=\"id\",right_on=\"movie_id\" ,how='inner')\n",
        "\n",
        "# Print the first few rows and shape of movies_and_scifi_only\n",
        "print(movies_and_scifi_only.head())\n",
        "print(movies_and_scifi_only.shape)"
      ]
    },
    {
      "cell_type": "code",
      "execution_count": 9,
      "metadata": {
        "colab": {
          "base_uri": "https://localhost:8080/"
        },
        "id": "HgvS_DZZEqXQ",
        "outputId": "ac794620-8a41-44ed-d74c-9c2b02bf5402"
      },
      "outputs": [
        {
          "name": "stdout",
          "output_type": "stream",
          "text": [
            "                   character_1       id           name_1 character_2 name_2\n",
            "0                       Yinsen    17857       Shaun Toub         NaN    NaN\n",
            "2  Obadiah Stane / Iron Monger     1229     Jeff Bridges         NaN    NaN\n",
            "3                  War Machine    18288  Terrence Howard         NaN    NaN\n",
            "4           Christine Everhart    57451      Leslie Bibb         NaN    NaN\n",
            "5        Reporter (uncredited)  1209728       Chris Reid         NaN    NaN\n"
          ]
        }
      ],
      "source": [
        "import pandas as pd\n",
        "\n",
        "iron_1_actors_data = {\n",
        "    'character': [\n",
        "        'Yinsen', 'Virginia \"Pepper\" Potts', 'Obadiah Stane / Iron Monger', 'War Machine',\n",
        "        'Christine Everhart', 'Reporter (uncredited)', 'News Cameraman (uncredited)',\n",
        "        'Rooftop Fireman (uncredited)', 'Whiplash One (voice) (uncredited)', 'Reporter (uncredited)'\n",
        "    ],\n",
        "    'id': [\n",
        "        17857, 12052, 1229, 18288, 57451, 1209728, 1209729, 1209730, 1209731, 1429470\n",
        "    ],\n",
        "    'name': [\n",
        "        'Shaun Toub', 'Gwyneth Paltrow', 'Jeff Bridges', 'Terrence Howard', 'Leslie Bibb',\n",
        "        'Chris Reid', 'Toi Rose', 'George F. Watson', 'David Zyler', 'Nick W. Nicholson'\n",
        "    ]\n",
        "}\n",
        "\n",
        "iron_1_actors = pd.DataFrame(iron_1_actors_data)\n",
        "\n",
        "iron_2_actors_data = {\n",
        "    'character': [\n",
        "        'Ivan Vanko / Whiplash', 'Natalie Rushman / Natasha Romanoff / Black Widow',\n",
        "        'Justin Hammer', 'Director Nick Fury', 'Virginia \"Pepper\" Potts',\n",
        "        'US Senator (uncredited)', 'Background (uncredited)',\n",
        "        'Tony Stark Usher (uncredited)', 'Expo Attendee (uncredited)',\n",
        "        'Stark Expo Attendee (uncredited)'\n",
        "    ],\n",
        "    'id': [\n",
        "        2295, 1245, 6807, 2231, 12052, 1265840, 1265841, 1122811, 1205141, 1429470\n",
        "    ],\n",
        "    'name': [\n",
        "        'Mickey Rourke', 'Scarlett Johansson', 'Sam Rockwell', 'Samuel L. Jackson',\n",
        "        'Gwyneth Paltrow', 'Michael A. Templeton', 'Rosa Tyabji',\n",
        "        'Peter Sebastian Wrobel', 'Maria Zambrana', 'Nick W. Nicholson'\n",
        "    ]\n",
        "}\n",
        "\n",
        "iron_2_actors = pd.DataFrame(iron_2_actors_data)\n",
        "\n",
        "\n",
        "# Merge iron_1_actors to iron_2_actors on id with outer join using suffixes\n",
        "iron_1_and_2 = iron_1_actors.merge(iron_2_actors,\n",
        "                                     on=\"id\",\n",
        "                                     how=\"outer\",\n",
        "                                     suffixes=('_1','_2'))\n",
        "\n",
        "# Create an index that returns true if name_1 or name_2 are null\n",
        "m = ((iron_1_and_2['name_1'].isnull()) |\n",
        "     (iron_1_and_2['name_2'].isnull()))\n",
        "\n",
        "# Print the first few rows of iron_1_and_2\n",
        "print(iron_1_and_2[m].head())"
      ]
    },
    {
      "cell_type": "code",
      "execution_count": null,
      "metadata": {
        "id": "q3yGQHGsENvC"
      },
      "outputs": [],
      "source": [
        "import pandas as pd\n",
        "import matplotlib.pyplot as plt\n",
        "\n",
        "pop_movies_data = {\n",
        "    'id': [211672, 157336, 293660, 118340, 76341, 135397, 22, 119450, 131631, 177572],\n",
        "    'title': ['Minions', 'Interstellar', 'Deadpool', 'Guardians of the Galaxy', 'Mad Max: Fury Road',\n",
        "              'Jurassic World', 'Pirates of the Caribbean: The Curse of the Black Pearl',\n",
        "              'Dawn of the Planet of the Apes', 'The Hunger Games: Mockingjay - Part 1', 'Big Hero 6'],\n",
        "    'popularity': [875.581, 724.248, 514.570, 481.099, 434.279, 418.709, 271.973, 243.792, 206.227, 203.735],\n",
        "    'release_date': ['2015-06-17', '2014-11-05', '2016-02-09', '2014-07-30', '2015-05-13',\n",
        "                     '2015-06-09', '2003-07-09', '2014-06-26', '2014-11-18', '2014-10-24'],\n",
        "    'genre': ['Crime', 'Comedy', 'Science Fiction', 'Action', 'Adventure',\n",
        "              'Drama', 'Thriller', 'Drama', 'Family', 'Documentary']\n",
        "}\n",
        "\n",
        "pop_movies = pd.DataFrame(pop_movies_data)\n",
        "\n",
        "movie_to_genres_data = {\n",
        "    'movie_id': [5, 5, 11, 11, 11, 426469, 433715, 433715, 447027, 459488],\n",
        "    'genre': ['Crime', 'Comedy', 'Science Fiction', 'Action', 'Adventure',\n",
        "              'Drama', 'Thriller', 'Drama', 'Family', 'Documentary']\n",
        "}\n",
        "\n",
        "movie_to_genres = pd.DataFrame(movie_to_genres_data)\n",
        "\n",
        "# Use right join to merge the movie_to_genres and pop_movies tables\n",
        "genres_movies = movie_to_genres.merge(pop_movies, how='right', left_on='movie_id', right_on='id')\n",
        "\n",
        "\n",
        "# Count the number of genres \n",
        "genre_count = genres_movies.groupby('genre').agg({'id':'count'})\n",
        "\n",
        "# Plot a bar chart of the genre_count\n",
        "genre_count.plot(kind='bar')\n",
        "plt.show()"
      ]
    },
    {
      "cell_type": "markdown",
      "metadata": {
        "id": "cmo-yO07DVR5"
      },
      "source": []
    }
  ],
  "metadata": {
    "colab": {
      "provenance": []
    },
    "kernelspec": {
      "display_name": "Python 3",
      "name": "python3"
    },
    "language_info": {
      "name": "python"
    }
  },
  "nbformat": 4,
  "nbformat_minor": 0
}
