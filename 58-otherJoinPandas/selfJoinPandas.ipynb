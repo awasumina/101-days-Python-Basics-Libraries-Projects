{
  "nbformat": 4,
  "nbformat_minor": 0,
  "metadata": {
    "colab": {
      "provenance": []
    },
    "kernelspec": {
      "name": "python3",
      "display_name": "Python 3"
    },
    "language_info": {
      "name": "python"
    }
  },
  "cells": [
    {
      "cell_type": "code",
      "execution_count": 2,
      "metadata": {
        "colab": {
          "base_uri": "https://localhost:8080/"
        },
        "id": "u78aSvvVoyXm",
        "outputId": "73f234fd-508a-4682-ca42-3c8a41f349b5"
      },
      "outputs": [
        {
          "output_type": "stream",
          "name": "stdout",
          "text": [
            "       id   job_dir          name_dir            job_crew          name_crew\n",
            "12  19995  Director     James Cameron              Editor  Stephen E. Rivkin\n",
            "13  19995  Director     James Cameron      Sound Designer  Christopher Boyes\n",
            "14  19995  Director     James Cameron             Casting          Mali Finn\n",
            "21  25975  Director  Brian Herzlinger  Executive Producer     Clark Peterson\n",
            "25  25975  Director          Jon Gunn  Executive Producer     Clark Peterson\n"
          ]
        }
      ],
      "source": [
        "import pandas as pd\n",
        "\n",
        "data = {\n",
        "    'id': [19995, 19995, 19995, 19995, 126186, 25975, 25975, 25975, 25975],\n",
        "    'job': ['Editor', 'Sound Designer', 'Casting', 'Director', 'Director', 'Executive Producer', 'Director', 'Director', 'Director'],\n",
        "    'name': ['Stephen E. Rivkin', 'Christopher Boyes', 'Mali Finn', 'James Cameron', 'Daniel Hsia', 'Clark Peterson', 'Brian Herzlinger', 'Jon Gunn', 'Brett Winn']\n",
        "}\n",
        "\n",
        "crews = pd.DataFrame(data)\n",
        "\n",
        "# Merge the crews table to itself\n",
        "crews_self_merged = crews.merge(crews, on='id', how='inner',\n",
        "                                suffixes=('_dir','_crew'))\n",
        "\n",
        "# Create a boolean index to select the appropriate rows\n",
        "boolean_filter = ((crews_self_merged['job_dir'] == 'Director') &\n",
        "                  (crews_self_merged['job_crew'] != 'Director'))\n",
        "direct_crews = crews_self_merged[boolean_filter]\n",
        "\n",
        "# Print the first few rows of direct_crews\n",
        "print(direct_crews.head())"
      ]
    }
  ]
}