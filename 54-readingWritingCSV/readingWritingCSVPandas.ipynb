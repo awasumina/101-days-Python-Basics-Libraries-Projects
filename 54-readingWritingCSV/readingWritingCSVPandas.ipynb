{
  "nbformat": 4,
  "nbformat_minor": 0,
  "metadata": {
    "colab": {
      "provenance": []
    },
    "kernelspec": {
      "name": "python3",
      "display_name": "Python 3"
    },
    "language_info": {
      "name": "python"
    }
  },
  "cells": [
    {
      "cell_type": "code",
      "execution_count": null,
      "metadata": {
        "id": "W1pgFaG4Ts2N"
      },
      "outputs": [],
      "source": [
        "# From previous steps\n",
        "airline_bumping = pd.read_csv(\"airline_bumping.csv\")\n",
        "print(airline_bumping.head())\n",
        "airline_totals = airline_bumping.groupby(\"airline\")[[\"nb_bumped\", \"total_passengers\"]].sum()\n",
        "airline_totals[\"bumps_per_10k\"] = airline_totals[\"nb_bumped\"] / airline_totals[\"total_passengers\"] * 10000\n",
        "\n",
        "# Print airline_totals\n",
        "print(airline_totals)"
      ]
    },
    {
      "cell_type": "code",
      "source": [
        "# Create airline_totals_sorted\n",
        "airline_totals_sorted = airline_totals.sort_values('bumps_per_10k',ascending=False)\n",
        "\n",
        "# Prin airline_totals_sorted\n",
        "print(airline_totals_sorted)\n",
        "\n",
        "# Save as airline_totals_sorted.csv\n",
        "airline_totals_sorted.to_csv(\"airline_totals_sorted.csv\")"
      ],
      "metadata": {
        "id": "3I4CUHQqUZFG"
      },
      "execution_count": null,
      "outputs": []
    }
  ]
}