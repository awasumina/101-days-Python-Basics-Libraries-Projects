{
  "cells": [
    {
      "cell_type": "code",
      "execution_count": 2,
      "metadata": {
        "colab": {
          "base_uri": "https://localhost:8080/"
        },
        "id": "pC1CQb9NZFA5",
        "outputId": "9f40bc09-9cea-49c3-86f8-734da2eb67ad"
      },
      "outputs": [
        {
          "name": "stdout",
          "output_type": "stream",
          "text": [
            "[0.98156645 0.01197094 0.00646261]\n"
          ]
        }
      ],
      "source": [
        "import pandas as pd\n",
        "\n",
        "data = {\n",
        "    'store': [1, 1, 1, 1, 1, 39, 39, 39, 39, 39],\n",
        "    'type': ['A', 'A', 'A', 'A', 'A', 'B', 'B', 'B', 'C', 'C'],\n",
        "    'department': [1, 1, 1, 1, 1, 99, 99, 99, 99, 99],\n",
        "    'date': ['2010-02-05', '2010-03-05', '2010-04-02', '2010-05-07', '2010-06-04',\n",
        "             '2011-12-09', '2012-02-03', '2012-06-08', '2012-07-13', '2012-10-05'],\n",
        "    'weekly_sales': [24924.50, 21827.90, 57258.43, 17413.94, 17558.09,\n",
        "                     895.00, 350.00, 450.00, 0.06, 915.00],\n",
        "    'is_holiday': [False, False, False, False, False, False, False, False, False, False],\n",
        "    'temperature_c': [5.728, 8.056, 16.817, 22.528, 27.050,\n",
        "                      9.644, 15.939, 27.289, 25.644, 22.250],\n",
        "    'fuel_price_usd_per_l': [0.679, 0.693, 0.718, 0.749, 0.715,\n",
        "                             0.834, 0.888, 0.912, 0.860, 0.956],\n",
        "    'unemployment': [8.106, 8.106, 7.808, 7.808, 7.808,\n",
        "                     7.716, 7.244, 6.989, 6.623, 6.228]\n",
        "}\n",
        "sales = pd.DataFrame(data)\n",
        "\n",
        "# Calc total weekly sales\n",
        "sales_all = sales[\"weekly_sales\"].sum()\n",
        "\n",
        "# Subset for type A stores, calc total weekly sales\n",
        "sales_A = sales[sales[\"type\"] == \"A\"][\"weekly_sales\"].sum()\n",
        "\n",
        "# Subset for type B stores, calc total weekly sales\n",
        "sales_B = sales[sales[\"type\"] == \"B\"][\"weekly_sales\"].sum()\n",
        "\n",
        "\n",
        "# Subset for type C stores, calc total weekly sales\n",
        "sales_C = sales[sales[\"type\"] == \"C\"][\"weekly_sales\"].sum()\n",
        "\n",
        "# Get proportion for each type\n",
        "sales_propn_by_type = [sales_A, sales_B, sales_C] / sales_all\n",
        "print(sales_propn_by_type)\n"
      ]
    },
    {
      "cell_type": "code",
      "execution_count": 4,
      "metadata": {
        "colab": {
          "base_uri": "https://localhost:8080/"
        },
        "id": "LGfeIR6_dTKs",
        "outputId": "739ebcb5-15ac-4f52-952c-a9f4f84582e9"
      },
      "outputs": [
        {
          "name": "stdout",
          "output_type": "stream",
          "text": [
            "type\n",
            "A    0.981566\n",
            "B    0.011971\n",
            "C    0.006463\n",
            "Name: weekly_sales, dtype: float64\n",
            "type  is_holiday\n",
            "A     False         138982.86\n",
            "B     False           1695.00\n",
            "C     False            915.06\n",
            "Name: weekly_sales, dtype: float64\n"
          ]
        }
      ],
      "source": [
        "import pandas as pd\n",
        "\n",
        "data = {\n",
        "    'store': [1, 1, 1, 1, 1, 39, 39, 39, 39, 39],\n",
        "    'type': ['A', 'A', 'A', 'A', 'A', 'B', 'B', 'B', 'C', 'C'],\n",
        "    'department': [1, 1, 1, 1, 1, 99, 99, 99, 99, 99],\n",
        "    'date': ['2010-02-05', '2010-03-05', '2010-04-02', '2010-05-07', '2010-06-04',\n",
        "             '2011-12-09', '2012-02-03', '2012-06-08', '2012-07-13', '2012-10-05'],\n",
        "    'weekly_sales': [24924.50, 21827.90, 57258.43, 17413.94, 17558.09,\n",
        "                     895.00, 350.00, 450.00, 0.06, 915.00],\n",
        "    'is_holiday': [False, False, False, False, False, False, False, False, False, False],\n",
        "    'temperature_c': [5.728, 8.056, 16.817, 22.528, 27.050,\n",
        "                      9.644, 15.939, 27.289, 25.644, 22.250],\n",
        "    'fuel_price_usd_per_l': [0.679, 0.693, 0.718, 0.749, 0.715,\n",
        "                             0.834, 0.888, 0.912, 0.860, 0.956],\n",
        "    'unemployment': [8.106, 8.106, 7.808, 7.808, 7.808,\n",
        "                     7.716, 7.244, 6.989, 6.623, 6.228]\n",
        "}\n",
        "sales = pd.DataFrame(data)\n",
        "\n",
        "\n",
        "# Group by type; calc total weekly sales\n",
        "sales_by_type = sales.groupby(\"type\")[\"weekly_sales\"].sum()\n",
        "\n",
        "# Get proportion for each type\n",
        "sales_propn_by_type = sales_by_type / sum(sales_by_type)\n",
        "print(sales_propn_by_type)\n",
        "\n",
        "# From previous step\n",
        "sales_by_type = sales.groupby(\"type\")[\"weekly_sales\"].sum()\n",
        "\n",
        "# Group by type and is_holiday; calc total weekly sales\n",
        "sales_by_type_is_holiday = sales.groupby([\"type\",\"is_holiday\"])[\"weekly_sales\"].sum()\n",
        "print(sales_by_type_is_holiday)\n"
      ]
    },
    {
      "cell_type": "code",
      "execution_count": 5,
      "metadata": {
        "colab": {
          "base_uri": "https://localhost:8080/"
        },
        "id": "enJRKuaPdV5k",
        "outputId": "b69aa0aa-e02a-4fa8-9249-84f0db08aff7"
      },
      "outputs": [
        {
          "name": "stdout",
          "output_type": "stream",
          "text": [
            "           min       max       mean    median\n",
            "type                                         \n",
            "A     17413.94  57258.43  27796.572  21827.90\n",
            "B       350.00    895.00    565.000    450.00\n",
            "C         0.06    915.00    457.530    457.53\n",
            "     unemployment                          fuel_price_usd_per_l         \\\n",
            "              min    max      mean  median                  min    max   \n",
            "type                                                                     \n",
            "A           7.808  8.106  7.927200  7.8080                0.679  0.749   \n",
            "B           6.989  7.716  7.316333  7.2440                0.834  0.912   \n",
            "C           6.228  6.623  6.425500  6.4255                0.860  0.956   \n",
            "\n",
            "                     \n",
            "        mean median  \n",
            "type                 \n",
            "A     0.7108  0.715  \n",
            "B     0.8780  0.888  \n",
            "C     0.9080  0.908  \n"
          ]
        }
      ],
      "source": [
        "import pandas as pd\n",
        "\n",
        "data = {\n",
        "    'store': [1, 1, 1, 1, 1, 39, 39, 39, 39, 39],\n",
        "    'type': ['A', 'A', 'A', 'A', 'A', 'B', 'B', 'B', 'C', 'C'],\n",
        "    'department': [1, 1, 1, 1, 1, 99, 99, 99, 99, 99],\n",
        "    'date': ['2010-02-05', '2010-03-05', '2010-04-02', '2010-05-07', '2010-06-04',\n",
        "             '2011-12-09', '2012-02-03', '2012-06-08', '2012-07-13', '2012-10-05'],\n",
        "    'weekly_sales': [24924.50, 21827.90, 57258.43, 17413.94, 17558.09,\n",
        "                     895.00, 350.00, 450.00, 0.06, 915.00],\n",
        "    'is_holiday': [False, False, False, False, False, False, False, False, False, False],\n",
        "    'temperature_c': [5.728, 8.056, 16.817, 22.528, 27.050,\n",
        "                      9.644, 15.939, 27.289, 25.644, 22.250],\n",
        "    'fuel_price_usd_per_l': [0.679, 0.693, 0.718, 0.749, 0.715,\n",
        "                             0.834, 0.888, 0.912, 0.860, 0.956],\n",
        "    'unemployment': [8.106, 8.106, 7.808, 7.808, 7.808,\n",
        "                     7.716, 7.244, 6.989, 6.623, 6.228]\n",
        "}\n",
        "sales = pd.DataFrame(data)\n",
        "\n",
        "# Import numpy with the alias np\n",
        "import numpy as np\n",
        "\n",
        "# For each store type, aggregate weekly_sales: get min, max, mean, and median\n",
        "sales_stats = sales.groupby(\"type\")[\"weekly_sales\"].agg([min,max,np.mean,np.median])\n",
        "\n",
        "# Print sales_stats\n",
        "print(sales_stats)\n",
        "\n",
        "# For each store type, aggregate unemployment and fuel_price_usd_per_l: get min, max, mean, and median\n",
        "unemp_fuel_stats = sales.groupby(\"type\")[[\"unemployment\",\"fuel_price_usd_per_l\"]].agg([min,max,np.mean,np.median])\n",
        "\n",
        "# Print unemp_fuel_stats\n",
        "print(unemp_fuel_stats)"
      ]
    }
  ],
  "metadata": {
    "colab": {
      "provenance": []
    },
    "kernelspec": {
      "display_name": "Python 3",
      "name": "python3"
    },
    "language_info": {
      "name": "python"
    }
  },
  "nbformat": 4,
  "nbformat_minor": 0
}
