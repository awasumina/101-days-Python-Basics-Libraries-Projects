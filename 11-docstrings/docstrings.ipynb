{
  "nbformat": 4,
  "nbformat_minor": 0,
  "metadata": {
    "colab": {
      "provenance": []
    },
    "kernelspec": {
      "name": "python3",
      "display_name": "Python 3"
    },
    "language_info": {
      "name": "python"
    }
  },
  "cells": [
    {
      "cell_type": "code",
      "execution_count": 3,
      "metadata": {
        "colab": {
          "base_uri": "https://localhost:8080/"
        },
        "id": "3RHqp1JLWzfl",
        "outputId": "76b69de8-8481-4fbe-edce-adc15d177041"
      },
      "outputs": [
        {
          "output_type": "stream",
          "name": "stdout",
          "text": [
            "25\n",
            "Takes in a number n, returns the square of n\n"
          ]
        }
      ],
      "source": [
        "# docstring are string literals that apper after definition of function,method, class, module\n",
        "#docstring is not comment\n",
        "#use for documentation\n",
        "def square(n):\n",
        "  '''Takes in a number n, returns the square of n'''\n",
        "  print(n**2)\n",
        "square(5)\n",
        "print(square.__doc__)   #to view docstring"
      ]
    }
  ]
}