{
  "nbformat": 4,
  "nbformat_minor": 0,
  "metadata": {
    "colab": {
      "provenance": []
    },
    "kernelspec": {
      "name": "python3",
      "display_name": "Python 3"
    },
    "language_info": {
      "name": "python"
    }
  },
  "cells": [
    {
      "cell_type": "code",
      "execution_count": null,
      "metadata": {
        "id": "SyDP6Lnoeu9F"
      },
      "outputs": [],
      "source": [
        "import numpy as np\n",
        "import matplotlib.pyplot as plt\n",
        "\n",
        "# Flip rgb_array so that it is the mirror image of the original\n",
        "mirrored_monet = np.flip(rgb_array,axis=(1))\n",
        "plt.imshow(mirrored_monet)\n",
        "plt.show()"
      ]
    },
    {
      "cell_type": "code",
      "source": [
        "import numpy as np\n",
        "import matplotlib.pyplot as plt\n",
        "\n",
        "# Flip rgb_array so that it is upside down\n",
        "upside_down_monet = np.flip(rgb_array,axis=(0,1))\n",
        "plt.imshow(upside_down_monet)\n",
        "plt.show()"
      ],
      "metadata": {
        "id": "X2GJRhX0fNJy"
      },
      "execution_count": null,
      "outputs": []
    },
    {
      "cell_type": "code",
      "source": [
        "import numpy as np\n",
        "import matplotlib.pyplot as plt\n",
        "\n",
        "# Transpose the 3-D rgb_array so that the image appears rotated 90 degrees left and as a mirror image of itself.\n",
        "\n",
        "transposed_rgb = np.transpose(rgb_array,axes=(1,0,2))\n",
        "plt.imshow(transposed_rgb)\n",
        "plt.show()\n",
        "\n"
      ],
      "metadata": {
        "id": "ZaSIbBQ5fu7G"
      },
      "execution_count": null,
      "outputs": []
    }
  ]
}