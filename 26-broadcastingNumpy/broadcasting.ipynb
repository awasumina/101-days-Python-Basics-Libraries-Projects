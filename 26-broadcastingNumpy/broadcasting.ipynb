{
  "cells": [
    {
      "cell_type": "code",
      "execution_count": 2,
      "metadata": {
        "colab": {
          "base_uri": "https://localhost:8080/"
        },
        "id": "QgN9a5JRrSH0",
        "outputId": "f03ced6b-edfe-411d-f21a-89eea99d9f2b"
      },
      "outputs": [
        {
          "name": "stdout",
          "output_type": "stream",
          "text": [
            "[[ 4175.34 24164.25  8743.57]\n",
            " [ 4239.48 24591.25  9416.26]\n",
            " [ 4813.19 28012.91 10964.35]\n",
            " [ 4671.6  26149.74 10665.12]\n",
            " [ 5364.45 29394.75 11863.95]\n",
            " [ 5161.33 28241.57 10943.75]\n",
            " [ 5559.7  28943.3  11267.8 ]\n",
            " [ 5480.8  28870.4  12012.  ]\n",
            " [ 4820.4  25737.64 10054.86]\n",
            " [ 5109.52 26834.08 10874.24]\n",
            " [ 5418.24 25913.1  13669.02]\n",
            " [ 6696.3  28074.97 18587.03]]\n"
          ]
        }
      ],
      "source": [
        "import numpy as np\n",
        "monthly_sales=np.array([[ 4134, 23925,  8657],\n",
        "       [ 4116, 23875,  9142],\n",
        "       [ 4673, 27197, 10645],\n",
        "       [ 4580, 25637, 10456],\n",
        "       [ 5109, 27995, 11299],\n",
        "       [ 5011, 27419, 10625],\n",
        "       [ 5245, 27305, 10630],\n",
        "       [ 5270, 27760, 11550],\n",
        "       [ 4680, 24988,  9762],\n",
        "       [ 4913, 25802, 10456],\n",
        "       [ 5312, 25405, 13401],\n",
        "       [ 6630, 27797, 18403]])\n",
        "\n",
        "monthly_growth_rate=np.array([1.01, 1.03, 1.03, 1.02, 1.05, 1.03, 1.06, 1.04, 1.03, 1.04, 1.02, 1.01])\n",
        "\n",
        "# Convert monthly_growth_rate into a NumPy array\n",
        "monthly_growth_1D = np.array(monthly_growth_rate)\n",
        "\n",
        "# Reshape monthly_growth_1D\n",
        "monthly_growth_2D = monthly_growth_1D.reshape(12,1)\n",
        "\n",
        "# Multiply each column in monthly_sales by monthly_growth_2D\n",
        "print(monthly_sales * monthly_growth_2D)\n",
        "\n"
      ]
    },
    {
      "cell_type": "code",
      "execution_count": 3,
      "metadata": {
        "colab": {
          "base_uri": "https://localhost:8080/"
        },
        "id": "h54T6X9nwoGr",
        "outputId": "4cfd7345-9e94-4ceb-ce2a-fbe635ce00e9"
      },
      "outputs": [
        {
          "name": "stdout",
          "output_type": "stream",
          "text": [
            "[1.0775     1.00833333 0.99333333]\n",
            "(3,) (12, 3)\n",
            "[[ 4454.385      24124.375       8599.28666667]\n",
            " [ 4434.99       24073.95833333  9081.05333333]\n",
            " [ 5035.1575     27423.64166667 10574.03333333]\n",
            " [ 4934.95       25850.64166667 10386.29333333]\n",
            " [ 5504.9475     28228.29166667 11223.67333333]\n",
            " [ 5399.3525     27647.49166667 10554.16666667]\n",
            " [ 5651.4875     27532.54166667 10559.13333333]\n",
            " [ 5678.425      27991.33333333 11473.        ]\n",
            " [ 5042.7        25196.23333333  9696.92      ]\n",
            " [ 5293.7575     26017.01666667 10386.29333333]\n",
            " [ 5723.68       25616.70833333 13311.66      ]\n",
            " [ 7143.825      28028.64166667 18280.31333333]]\n"
          ]
        }
      ],
      "source": [
        "import numpy as np\n",
        "\n",
        "monthly_sales=np.array([[ 4134, 23925,  8657],\n",
        "       [ 4116, 23875,  9142],\n",
        "       [ 4673, 27197, 10645],\n",
        "       [ 4580, 25637, 10456],\n",
        "       [ 5109, 27995, 11299],\n",
        "       [ 5011, 27419, 10625],\n",
        "       [ 5245, 27305, 10630],\n",
        "       [ 5270, 27760, 11550],\n",
        "       [ 4680, 24988,  9762],\n",
        "       [ 4913, 25802, 10456],\n",
        "       [ 5312, 25405, 13401],\n",
        "       [ 6630, 27797, 18403]])\n",
        "\n",
        "monthly_industry_multipliers= np.array([[0.98, 1.02, 1.  ],\n",
        "       [1.00, 1.01, 0.97],\n",
        "       [1.06, 1.03, 0.98],\n",
        "       [1.08, 1.01, 0.98],\n",
        "       [1.08, 0.98, 0.98],\n",
        "       [1.1 , 0.99, 0.99],\n",
        "       [1.12, 1.01, 1.  ],\n",
        "       [1.1 , 1.02, 1.  ],\n",
        "       [1.11, 1.01, 1.01],\n",
        "       [1.08, 0.99, 0.97],\n",
        "       [1.09, 1.  , 1.02],\n",
        "       [1.13, 1.03, 1.02]])\n",
        "\n",
        "\n",
        "\n",
        "# Find the mean sales projection multiplier for each industry\n",
        "mean_multipliers = monthly_industry_multipliers.mean(axis=0)\n",
        "print(mean_multipliers)\n",
        "  \n",
        "# Print the shapes of mean_multipliers and monthly_sales\n",
        "print(mean_multipliers.shape, monthly_sales.shape)\n",
        "\n",
        "# Multiply each value by the multiplier for that industry\n",
        "projected_sales = monthly_sales*mean_multipliers\n",
        "print(projected_sales)"
      ]
    }
  ],
  "metadata": {
    "colab": {
      "provenance": []
    },
    "kernelspec": {
      "display_name": "Python 3",
      "name": "python3"
    },
    "language_info": {
      "name": "python"
    }
  },
  "nbformat": 4,
  "nbformat_minor": 0
}
