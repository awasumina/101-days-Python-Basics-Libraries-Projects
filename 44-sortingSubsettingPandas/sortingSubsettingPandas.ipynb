{
  "nbformat": 4,
  "nbformat_minor": 0,
  "metadata": {
    "colab": {
      "provenance": []
    },
    "kernelspec": {
      "name": "python3",
      "display_name": "Python 3"
    },
    "language_info": {
      "name": "python"
    }
  },
  "cells": [
    {
      "cell_type": "code",
      "execution_count": 1,
      "metadata": {
        "id": "5NDFkcR4XxgH",
        "colab": {
          "base_uri": "https://localhost:8080/"
        },
        "outputId": "d009334b-5230-4038-acda-e8b5488174f9"
      },
      "outputs": [
        {
          "output_type": "stream",
          "name": "stdout",
          "text": [
            "                region         state  individuals  family_members  state_pop\n",
            "50            Mountain       Wyoming        434.0           205.0     577601\n",
            "34  West North Central  North Dakota        467.0            75.0     758080\n",
            "7       South Atlantic      Delaware        708.0           374.0     965479\n",
            "39         New England  Rhode Island        747.0           354.0    1058287\n",
            "45         New England       Vermont        780.0           511.0     624358\n"
          ]
        }
      ],
      "source": [
        "import pandas as pd\n",
        "\n",
        "\n",
        "homelessness = pd.DataFrame({\n",
        "    'region': ['East South Central', 'Pacific', 'Mountain', 'West South Central', 'Pacific', 'Mountain', 'New England', 'South Atlantic', 'South Atlantic', 'South Atlantic', 'South Atlantic', 'Pacific', 'Mountain', 'East North Central', 'East North Central', 'West North Central', 'West North Central', 'East South Central', 'West South Central', 'New England', 'South Atlantic', 'New England', 'East North Central', 'West North Central', 'East South Central', 'West North Central', 'Mountain', 'West North Central', 'Mountain', 'New England', 'Mid-Atlantic', 'Mountain', 'Mid-Atlantic', 'South Atlantic', 'West North Central', 'East North Central', 'West South Central', 'Pacific', 'Mid-Atlantic', 'New England', 'South Atlantic', 'West North Central', 'East South Central', 'West South Central', 'Mountain', 'New England', 'South Atlantic', 'Pacific', 'South Atlantic', 'East North Central', 'Mountain'],\n",
        "    'state': ['Alabama', 'Alaska', 'Arizona', 'Arkansas', 'California', 'Colorado', 'Connecticut', 'Delaware', 'District of Columbia', 'Florida', 'Georgia', 'Hawaii', 'Idaho', 'Illinois', 'Indiana', 'Iowa', 'Kansas', 'Kentucky', 'Louisiana', 'Maine', 'Maryland', 'Massachusetts', 'Michigan', 'Minnesota', 'Mississippi', 'Missouri', 'Montana', 'Nebraska', 'Nevada', 'New Hampshire', 'New Jersey', 'New Mexico', 'New York', 'North Carolina', 'North Dakota', 'Ohio', 'Oklahoma', 'Oregon', 'Pennsylvania', 'Rhode Island', 'South Carolina', 'South Dakota', 'Tennessee', 'Texas', 'Utah', 'Vermont', 'Virginia', 'Washington', 'West Virginia', 'Wisconsin', 'Wyoming'],\n",
        "    'individuals': [2570.0, 1434.0, 7259.0, 2280.0, 109008.0, 7607.0, 2280.0, 708.0, 3770.0, 21443.0, 6943.0, 4131.0, 1297.0, 6752.0, 3776.0, 1711.0, 1443.0, 2735.0, 2540.0, 1450.0, 4914.0, 6811.0, 5209.0, 3993.0, 1024.0, 3776.0, 983.0, 1745.0, 7058.0, 835.0, 6048.0, 1949.0, 39827.0, 6451.0, 467.0, 6929.0, 2823.0, 11139.0, 8163.0, 747.0, 3082.0, 836.0, 6139.0, 19199.0, 1904.0, 780.0, 3928.0, 16424.0, 1021.0, 2740.0, 434.0],\n",
        "    'family_members': [864.0, 582.0, 2606.0, 432.0, 20964.0, 3250.0, 1696.0, 374.0, 3134.0, 9587.0, 2556.0, 2399.0, 715.0, 3891.0, 1482.0, 1038.0, 773.0, 953.0, 519.0, 1066.0, 2230.0, 13257.0, 3142.0, 3250.0, 328.0, 2107.0, 422.0, 676.0, 486.0, 615.0, 3350.0, 602.0, 52070.0, 2817.0, 75.0, 3320.0, 1048.0, 3337.0, 5349.0, 354.0, 851.0, 323.0, 1744.0, 6111.0, 972.0, 511.0, 2047.0, 5880.0, 222.0, 2167.0, 205.0],\n",
        "    'state_pop': [4887681, 735139, 7158024, 3009733, 39461588, 5691287, 3571520, 965479, 701547, 21244317, 10511131, 1420593, 1750536, 12723071, 6695497, 3148618, 2911359, 4461153, 4659690, 1339057, 6035802, 6882635, 9984072, 5606249, 2981020, 6121623, 1060665, 1925614, 3027341, 1353465, 8886025, 2092741, 19530351, 10381615, 758080, 11676341, 3940235, 4181886, 12800922, 1058287, 5084156, 878698, 6771631, 28628666, 3153550, 624358, 8501286, 7523869, 1804291, 5807406, 577601]\n",
        "})\n",
        "\n",
        "# Sort homelessness by individuals\n",
        "homelessness_ind = homelessness.sort_values(\"individuals\")\n",
        "\n",
        "# Print the top few rows\n",
        "print(homelessness_ind.head())"
      ]
    },
    {
      "cell_type": "code",
      "source": [
        "import pandas as pd\n",
        "\n",
        "\n",
        "homelessness = pd.DataFrame({\n",
        "    'region': ['East South Central', 'Pacific', 'Mountain', 'West South Central', 'Pacific', 'Mountain', 'New England', 'South Atlantic', 'South Atlantic', 'South Atlantic', 'South Atlantic', 'Pacific', 'Mountain', 'East North Central', 'East North Central', 'West North Central', 'West North Central', 'East South Central', 'West South Central', 'New England', 'South Atlantic', 'New England', 'East North Central', 'West North Central', 'East South Central', 'West North Central', 'Mountain', 'West North Central', 'Mountain', 'New England', 'Mid-Atlantic', 'Mountain', 'Mid-Atlantic', 'South Atlantic', 'West North Central', 'East North Central', 'West South Central', 'Pacific', 'Mid-Atlantic', 'New England', 'South Atlantic', 'West North Central', 'East South Central', 'West South Central', 'Mountain', 'New England', 'South Atlantic', 'Pacific', 'South Atlantic', 'East North Central', 'Mountain'],\n",
        "    'state': ['Alabama', 'Alaska', 'Arizona', 'Arkansas', 'California', 'Colorado', 'Connecticut', 'Delaware', 'District of Columbia', 'Florida', 'Georgia', 'Hawaii', 'Idaho', 'Illinois', 'Indiana', 'Iowa', 'Kansas', 'Kentucky', 'Louisiana', 'Maine', 'Maryland', 'Massachusetts', 'Michigan', 'Minnesota', 'Mississippi', 'Missouri', 'Montana', 'Nebraska', 'Nevada', 'New Hampshire', 'New Jersey', 'New Mexico', 'New York', 'North Carolina', 'North Dakota', 'Ohio', 'Oklahoma', 'Oregon', 'Pennsylvania', 'Rhode Island', 'South Carolina', 'South Dakota', 'Tennessee', 'Texas', 'Utah', 'Vermont', 'Virginia', 'Washington', 'West Virginia', 'Wisconsin', 'Wyoming'],\n",
        "    'individuals': [2570.0, 1434.0, 7259.0, 2280.0, 109008.0, 7607.0, 2280.0, 708.0, 3770.0, 21443.0, 6943.0, 4131.0, 1297.0, 6752.0, 3776.0, 1711.0, 1443.0, 2735.0, 2540.0, 1450.0, 4914.0, 6811.0, 5209.0, 3993.0, 1024.0, 3776.0, 983.0, 1745.0, 7058.0, 835.0, 6048.0, 1949.0, 39827.0, 6451.0, 467.0, 6929.0, 2823.0, 11139.0, 8163.0, 747.0, 3082.0, 836.0, 6139.0, 19199.0, 1904.0, 780.0, 3928.0, 16424.0, 1021.0, 2740.0, 434.0],\n",
        "    'family_members': [864.0, 582.0, 2606.0, 432.0, 20964.0, 3250.0, 1696.0, 374.0, 3134.0, 9587.0, 2556.0, 2399.0, 715.0, 3891.0, 1482.0, 1038.0, 773.0, 953.0, 519.0, 1066.0, 2230.0, 13257.0, 3142.0, 3250.0, 328.0, 2107.0, 422.0, 676.0, 486.0, 615.0, 3350.0, 602.0, 52070.0, 2817.0, 75.0, 3320.0, 1048.0, 3337.0, 5349.0, 354.0, 851.0, 323.0, 1744.0, 6111.0, 972.0, 511.0, 2047.0, 5880.0, 222.0, 2167.0, 205.0],\n",
        "    'state_pop': [4887681, 735139, 7158024, 3009733, 39461588, 5691287, 3571520, 965479, 701547, 21244317, 10511131, 1420593, 1750536, 12723071, 6695497, 3148618, 2911359, 4461153, 4659690, 1339057, 6035802, 6882635, 9984072, 5606249, 2981020, 6121623, 1060665, 1925614, 3027341, 1353465, 8886025, 2092741, 19530351, 10381615, 758080, 11676341, 3940235, 4181886, 12800922, 1058287, 5084156, 878698, 6771631, 28628666, 3153550, 624358, 8501286, 7523869, 1804291, 5807406, 577601]\n",
        "})\n",
        "\n",
        "# Sort homelessness by descending family members\n",
        "homelessness_fam = homelessness.sort_values(\"family_members\",ascending=False)\n",
        "\n",
        "# Print the top few rows\n",
        "print(homelessness_fam.head())"
      ],
      "metadata": {
        "colab": {
          "base_uri": "https://localhost:8080/"
        },
        "id": "Ziwhl1i_YnW8",
        "outputId": "869c6cb8-b459-4e31-9875-310a15107653"
      },
      "execution_count": 2,
      "outputs": [
        {
          "output_type": "stream",
          "name": "stdout",
          "text": [
            "                region          state  individuals  family_members  state_pop\n",
            "32        Mid-Atlantic       New York      39827.0         52070.0   19530351\n",
            "4              Pacific     California     109008.0         20964.0   39461588\n",
            "21         New England  Massachusetts       6811.0         13257.0    6882635\n",
            "9       South Atlantic        Florida      21443.0          9587.0   21244317\n",
            "43  West South Central          Texas      19199.0          6111.0   28628666\n"
          ]
        }
      ]
    },
    {
      "cell_type": "code",
      "source": [
        "import pandas as pd\n",
        "\n",
        "\n",
        "homelessness = pd.DataFrame({\n",
        "    'region': ['East South Central', 'Pacific', 'Mountain', 'West South Central', 'Pacific', 'Mountain', 'New England', 'South Atlantic', 'South Atlantic', 'South Atlantic', 'South Atlantic', 'Pacific', 'Mountain', 'East North Central', 'East North Central', 'West North Central', 'West North Central', 'East South Central', 'West South Central', 'New England', 'South Atlantic', 'New England', 'East North Central', 'West North Central', 'East South Central', 'West North Central', 'Mountain', 'West North Central', 'Mountain', 'New England', 'Mid-Atlantic', 'Mountain', 'Mid-Atlantic', 'South Atlantic', 'West North Central', 'East North Central', 'West South Central', 'Pacific', 'Mid-Atlantic', 'New England', 'South Atlantic', 'West North Central', 'East South Central', 'West South Central', 'Mountain', 'New England', 'South Atlantic', 'Pacific', 'South Atlantic', 'East North Central', 'Mountain'],\n",
        "    'state': ['Alabama', 'Alaska', 'Arizona', 'Arkansas', 'California', 'Colorado', 'Connecticut', 'Delaware', 'District of Columbia', 'Florida', 'Georgia', 'Hawaii', 'Idaho', 'Illinois', 'Indiana', 'Iowa', 'Kansas', 'Kentucky', 'Louisiana', 'Maine', 'Maryland', 'Massachusetts', 'Michigan', 'Minnesota', 'Mississippi', 'Missouri', 'Montana', 'Nebraska', 'Nevada', 'New Hampshire', 'New Jersey', 'New Mexico', 'New York', 'North Carolina', 'North Dakota', 'Ohio', 'Oklahoma', 'Oregon', 'Pennsylvania', 'Rhode Island', 'South Carolina', 'South Dakota', 'Tennessee', 'Texas', 'Utah', 'Vermont', 'Virginia', 'Washington', 'West Virginia', 'Wisconsin', 'Wyoming'],\n",
        "    'individuals': [2570.0, 1434.0, 7259.0, 2280.0, 109008.0, 7607.0, 2280.0, 708.0, 3770.0, 21443.0, 6943.0, 4131.0, 1297.0, 6752.0, 3776.0, 1711.0, 1443.0, 2735.0, 2540.0, 1450.0, 4914.0, 6811.0, 5209.0, 3993.0, 1024.0, 3776.0, 983.0, 1745.0, 7058.0, 835.0, 6048.0, 1949.0, 39827.0, 6451.0, 467.0, 6929.0, 2823.0, 11139.0, 8163.0, 747.0, 3082.0, 836.0, 6139.0, 19199.0, 1904.0, 780.0, 3928.0, 16424.0, 1021.0, 2740.0, 434.0],\n",
        "    'family_members': [864.0, 582.0, 2606.0, 432.0, 20964.0, 3250.0, 1696.0, 374.0, 3134.0, 9587.0, 2556.0, 2399.0, 715.0, 3891.0, 1482.0, 1038.0, 773.0, 953.0, 519.0, 1066.0, 2230.0, 13257.0, 3142.0, 3250.0, 328.0, 2107.0, 422.0, 676.0, 486.0, 615.0, 3350.0, 602.0, 52070.0, 2817.0, 75.0, 3320.0, 1048.0, 3337.0, 5349.0, 354.0, 851.0, 323.0, 1744.0, 6111.0, 972.0, 511.0, 2047.0, 5880.0, 222.0, 2167.0, 205.0],\n",
        "    'state_pop': [4887681, 735139, 7158024, 3009733, 39461588, 5691287, 3571520, 965479, 701547, 21244317, 10511131, 1420593, 1750536, 12723071, 6695497, 3148618, 2911359, 4461153, 4659690, 1339057, 6035802, 6882635, 9984072, 5606249, 2981020, 6121623, 1060665, 1925614, 3027341, 1353465, 8886025, 2092741, 19530351, 10381615, 758080, 11676341, 3940235, 4181886, 12800922, 1058287, 5084156, 878698, 6771631, 28628666, 3153550, 624358, 8501286, 7523869, 1804291, 5807406, 577601]\n",
        "})\n",
        "\n",
        "# Sort homelessness by region, then descending family members\n",
        "homelessness_reg_fam = homelessness.sort_values([\"region\",\"family_members\"],ascending=[True,False])\n",
        "\n",
        "# Print the top few rows\n",
        "print(homelessness_reg_fam.head())"
      ],
      "metadata": {
        "colab": {
          "base_uri": "https://localhost:8080/"
        },
        "id": "FBiZpDdTYtrA",
        "outputId": "f6f222e4-486d-438b-d1ce-2e7a436bd3f7"
      },
      "execution_count": 3,
      "outputs": [
        {
          "output_type": "stream",
          "name": "stdout",
          "text": [
            "                region      state  individuals  family_members  state_pop\n",
            "13  East North Central   Illinois       6752.0          3891.0   12723071\n",
            "35  East North Central       Ohio       6929.0          3320.0   11676341\n",
            "22  East North Central   Michigan       5209.0          3142.0    9984072\n",
            "49  East North Central  Wisconsin       2740.0          2167.0    5807406\n",
            "14  East North Central    Indiana       3776.0          1482.0    6695497\n"
          ]
        }
      ]
    },
    {
      "cell_type": "code",
      "source": [
        "import pandas as pd\n",
        "\n",
        "\n",
        "homelessness = pd.DataFrame({\n",
        "    'region': ['East South Central', 'Pacific', 'Mountain', 'West South Central', 'Pacific', 'Mountain', 'New England', 'South Atlantic', 'South Atlantic', 'South Atlantic', 'South Atlantic', 'Pacific', 'Mountain', 'East North Central', 'East North Central', 'West North Central', 'West North Central', 'East South Central', 'West South Central', 'New England', 'South Atlantic', 'New England', 'East North Central', 'West North Central', 'East South Central', 'West North Central', 'Mountain', 'West North Central', 'Mountain', 'New England', 'Mid-Atlantic', 'Mountain', 'Mid-Atlantic', 'South Atlantic', 'West North Central', 'East North Central', 'West South Central', 'Pacific', 'Mid-Atlantic', 'New England', 'South Atlantic', 'West North Central', 'East South Central', 'West South Central', 'Mountain', 'New England', 'South Atlantic', 'Pacific', 'South Atlantic', 'East North Central', 'Mountain'],\n",
        "    'state': ['Alabama', 'Alaska', 'Arizona', 'Arkansas', 'California', 'Colorado', 'Connecticut', 'Delaware', 'District of Columbia', 'Florida', 'Georgia', 'Hawaii', 'Idaho', 'Illinois', 'Indiana', 'Iowa', 'Kansas', 'Kentucky', 'Louisiana', 'Maine', 'Maryland', 'Massachusetts', 'Michigan', 'Minnesota', 'Mississippi', 'Missouri', 'Montana', 'Nebraska', 'Nevada', 'New Hampshire', 'New Jersey', 'New Mexico', 'New York', 'North Carolina', 'North Dakota', 'Ohio', 'Oklahoma', 'Oregon', 'Pennsylvania', 'Rhode Island', 'South Carolina', 'South Dakota', 'Tennessee', 'Texas', 'Utah', 'Vermont', 'Virginia', 'Washington', 'West Virginia', 'Wisconsin', 'Wyoming'],\n",
        "    'individuals': [2570.0, 1434.0, 7259.0, 2280.0, 109008.0, 7607.0, 2280.0, 708.0, 3770.0, 21443.0, 6943.0, 4131.0, 1297.0, 6752.0, 3776.0, 1711.0, 1443.0, 2735.0, 2540.0, 1450.0, 4914.0, 6811.0, 5209.0, 3993.0, 1024.0, 3776.0, 983.0, 1745.0, 7058.0, 835.0, 6048.0, 1949.0, 39827.0, 6451.0, 467.0, 6929.0, 2823.0, 11139.0, 8163.0, 747.0, 3082.0, 836.0, 6139.0, 19199.0, 1904.0, 780.0, 3928.0, 16424.0, 1021.0, 2740.0, 434.0],\n",
        "    'family_members': [864.0, 582.0, 2606.0, 432.0, 20964.0, 3250.0, 1696.0, 374.0, 3134.0, 9587.0, 2556.0, 2399.0, 715.0, 3891.0, 1482.0, 1038.0, 773.0, 953.0, 519.0, 1066.0, 2230.0, 13257.0, 3142.0, 3250.0, 328.0, 2107.0, 422.0, 676.0, 486.0, 615.0, 3350.0, 602.0, 52070.0, 2817.0, 75.0, 3320.0, 1048.0, 3337.0, 5349.0, 354.0, 851.0, 323.0, 1744.0, 6111.0, 972.0, 511.0, 2047.0, 5880.0, 222.0, 2167.0, 205.0],\n",
        "    'state_pop': [4887681, 735139, 7158024, 3009733, 39461588, 5691287, 3571520, 965479, 701547, 21244317, 10511131, 1420593, 1750536, 12723071, 6695497, 3148618, 2911359, 4461153, 4659690, 1339057, 6035802, 6882635, 9984072, 5606249, 2981020, 6121623, 1060665, 1925614, 3027341, 1353465, 8886025, 2092741, 19530351, 10381615, 758080, 11676341, 3940235, 4181886, 12800922, 1058287, 5084156, 878698, 6771631, 28628666, 3153550, 624358, 8501286, 7523869, 1804291, 5807406, 577601]\n",
        "})\n",
        "\n",
        "# Select the individuals column\n",
        "individuals = homelessness[\"individuals\"]\n",
        "\n",
        "# Print the head of the result\n",
        "print(individuals.head())"
      ],
      "metadata": {
        "colab": {
          "base_uri": "https://localhost:8080/"
        },
        "id": "afpDvirvZKMK",
        "outputId": "bdcdae1c-0a6c-41dc-e439-daf5adc7e7dc"
      },
      "execution_count": 4,
      "outputs": [
        {
          "output_type": "stream",
          "name": "stdout",
          "text": [
            "0      2570.0\n",
            "1      1434.0\n",
            "2      7259.0\n",
            "3      2280.0\n",
            "4    109008.0\n",
            "Name: individuals, dtype: float64\n"
          ]
        }
      ]
    },
    {
      "cell_type": "code",
      "source": [
        "import pandas as pd\n",
        "\n",
        "\n",
        "homelessness = pd.DataFrame({\n",
        "    'region': ['East South Central', 'Pacific', 'Mountain', 'West South Central', 'Pacific', 'Mountain', 'New England', 'South Atlantic', 'South Atlantic', 'South Atlantic', 'South Atlantic', 'Pacific', 'Mountain', 'East North Central', 'East North Central', 'West North Central', 'West North Central', 'East South Central', 'West South Central', 'New England', 'South Atlantic', 'New England', 'East North Central', 'West North Central', 'East South Central', 'West North Central', 'Mountain', 'West North Central', 'Mountain', 'New England', 'Mid-Atlantic', 'Mountain', 'Mid-Atlantic', 'South Atlantic', 'West North Central', 'East North Central', 'West South Central', 'Pacific', 'Mid-Atlantic', 'New England', 'South Atlantic', 'West North Central', 'East South Central', 'West South Central', 'Mountain', 'New England', 'South Atlantic', 'Pacific', 'South Atlantic', 'East North Central', 'Mountain'],\n",
        "    'state': ['Alabama', 'Alaska', 'Arizona', 'Arkansas', 'California', 'Colorado', 'Connecticut', 'Delaware', 'District of Columbia', 'Florida', 'Georgia', 'Hawaii', 'Idaho', 'Illinois', 'Indiana', 'Iowa', 'Kansas', 'Kentucky', 'Louisiana', 'Maine', 'Maryland', 'Massachusetts', 'Michigan', 'Minnesota', 'Mississippi', 'Missouri', 'Montana', 'Nebraska', 'Nevada', 'New Hampshire', 'New Jersey', 'New Mexico', 'New York', 'North Carolina', 'North Dakota', 'Ohio', 'Oklahoma', 'Oregon', 'Pennsylvania', 'Rhode Island', 'South Carolina', 'South Dakota', 'Tennessee', 'Texas', 'Utah', 'Vermont', 'Virginia', 'Washington', 'West Virginia', 'Wisconsin', 'Wyoming'],\n",
        "    'individuals': [2570.0, 1434.0, 7259.0, 2280.0, 109008.0, 7607.0, 2280.0, 708.0, 3770.0, 21443.0, 6943.0, 4131.0, 1297.0, 6752.0, 3776.0, 1711.0, 1443.0, 2735.0, 2540.0, 1450.0, 4914.0, 6811.0, 5209.0, 3993.0, 1024.0, 3776.0, 983.0, 1745.0, 7058.0, 835.0, 6048.0, 1949.0, 39827.0, 6451.0, 467.0, 6929.0, 2823.0, 11139.0, 8163.0, 747.0, 3082.0, 836.0, 6139.0, 19199.0, 1904.0, 780.0, 3928.0, 16424.0, 1021.0, 2740.0, 434.0],\n",
        "    'family_members': [864.0, 582.0, 2606.0, 432.0, 20964.0, 3250.0, 1696.0, 374.0, 3134.0, 9587.0, 2556.0, 2399.0, 715.0, 3891.0, 1482.0, 1038.0, 773.0, 953.0, 519.0, 1066.0, 2230.0, 13257.0, 3142.0, 3250.0, 328.0, 2107.0, 422.0, 676.0, 486.0, 615.0, 3350.0, 602.0, 52070.0, 2817.0, 75.0, 3320.0, 1048.0, 3337.0, 5349.0, 354.0, 851.0, 323.0, 1744.0, 6111.0, 972.0, 511.0, 2047.0, 5880.0, 222.0, 2167.0, 205.0],\n",
        "    'state_pop': [4887681, 735139, 7158024, 3009733, 39461588, 5691287, 3571520, 965479, 701547, 21244317, 10511131, 1420593, 1750536, 12723071, 6695497, 3148618, 2911359, 4461153, 4659690, 1339057, 6035802, 6882635, 9984072, 5606249, 2981020, 6121623, 1060665, 1925614, 3027341, 1353465, 8886025, 2092741, 19530351, 10381615, 758080, 11676341, 3940235, 4181886, 12800922, 1058287, 5084156, 878698, 6771631, 28628666, 3153550, 624358, 8501286, 7523869, 1804291, 5807406, 577601]\n",
        "})\n",
        "\n",
        "# Select the state and family_members columns\n",
        "state_fam = homelessness[[\"state\",\"family_members\"]]\n",
        "\n",
        "# Print the head of the result\n",
        "print(state_fam.head())"
      ],
      "metadata": {
        "colab": {
          "base_uri": "https://localhost:8080/"
        },
        "id": "4rP0GJ6iZsrK",
        "outputId": "3c394ad9-6717-4879-c86f-b71aea5a5eff"
      },
      "execution_count": 5,
      "outputs": [
        {
          "output_type": "stream",
          "name": "stdout",
          "text": [
            "        state  family_members\n",
            "0     Alabama           864.0\n",
            "1      Alaska           582.0\n",
            "2     Arizona          2606.0\n",
            "3    Arkansas           432.0\n",
            "4  California         20964.0\n"
          ]
        }
      ]
    },
    {
      "cell_type": "code",
      "source": [
        "import pandas as pd\n",
        "\n",
        "\n",
        "homelessness = pd.DataFrame({\n",
        "    'region': ['East South Central', 'Pacific', 'Mountain', 'West South Central', 'Pacific', 'Mountain', 'New England', 'South Atlantic', 'South Atlantic', 'South Atlantic', 'South Atlantic', 'Pacific', 'Mountain', 'East North Central', 'East North Central', 'West North Central', 'West North Central', 'East South Central', 'West South Central', 'New England', 'South Atlantic', 'New England', 'East North Central', 'West North Central', 'East South Central', 'West North Central', 'Mountain', 'West North Central', 'Mountain', 'New England', 'Mid-Atlantic', 'Mountain', 'Mid-Atlantic', 'South Atlantic', 'West North Central', 'East North Central', 'West South Central', 'Pacific', 'Mid-Atlantic', 'New England', 'South Atlantic', 'West North Central', 'East South Central', 'West South Central', 'Mountain', 'New England', 'South Atlantic', 'Pacific', 'South Atlantic', 'East North Central', 'Mountain'],\n",
        "    'state': ['Alabama', 'Alaska', 'Arizona', 'Arkansas', 'California', 'Colorado', 'Connecticut', 'Delaware', 'District of Columbia', 'Florida', 'Georgia', 'Hawaii', 'Idaho', 'Illinois', 'Indiana', 'Iowa', 'Kansas', 'Kentucky', 'Louisiana', 'Maine', 'Maryland', 'Massachusetts', 'Michigan', 'Minnesota', 'Mississippi', 'Missouri', 'Montana', 'Nebraska', 'Nevada', 'New Hampshire', 'New Jersey', 'New Mexico', 'New York', 'North Carolina', 'North Dakota', 'Ohio', 'Oklahoma', 'Oregon', 'Pennsylvania', 'Rhode Island', 'South Carolina', 'South Dakota', 'Tennessee', 'Texas', 'Utah', 'Vermont', 'Virginia', 'Washington', 'West Virginia', 'Wisconsin', 'Wyoming'],\n",
        "    'individuals': [2570.0, 1434.0, 7259.0, 2280.0, 109008.0, 7607.0, 2280.0, 708.0, 3770.0, 21443.0, 6943.0, 4131.0, 1297.0, 6752.0, 3776.0, 1711.0, 1443.0, 2735.0, 2540.0, 1450.0, 4914.0, 6811.0, 5209.0, 3993.0, 1024.0, 3776.0, 983.0, 1745.0, 7058.0, 835.0, 6048.0, 1949.0, 39827.0, 6451.0, 467.0, 6929.0, 2823.0, 11139.0, 8163.0, 747.0, 3082.0, 836.0, 6139.0, 19199.0, 1904.0, 780.0, 3928.0, 16424.0, 1021.0, 2740.0, 434.0],\n",
        "    'family_members': [864.0, 582.0, 2606.0, 432.0, 20964.0, 3250.0, 1696.0, 374.0, 3134.0, 9587.0, 2556.0, 2399.0, 715.0, 3891.0, 1482.0, 1038.0, 773.0, 953.0, 519.0, 1066.0, 2230.0, 13257.0, 3142.0, 3250.0, 328.0, 2107.0, 422.0, 676.0, 486.0, 615.0, 3350.0, 602.0, 52070.0, 2817.0, 75.0, 3320.0, 1048.0, 3337.0, 5349.0, 354.0, 851.0, 323.0, 1744.0, 6111.0, 972.0, 511.0, 2047.0, 5880.0, 222.0, 2167.0, 205.0],\n",
        "    'state_pop': [4887681, 735139, 7158024, 3009733, 39461588, 5691287, 3571520, 965479, 701547, 21244317, 10511131, 1420593, 1750536, 12723071, 6695497, 3148618, 2911359, 4461153, 4659690, 1339057, 6035802, 6882635, 9984072, 5606249, 2981020, 6121623, 1060665, 1925614, 3027341, 1353465, 8886025, 2092741, 19530351, 10381615, 758080, 11676341, 3940235, 4181886, 12800922, 1058287, 5084156, 878698, 6771631, 28628666, 3153550, 624358, 8501286, 7523869, 1804291, 5807406, 577601]\n",
        "})\n",
        "\n",
        "# Select only the individuals and state columns, in that order\n",
        "ind_state = homelessness[[\"individuals\",\"state\"]]\n",
        "\n",
        "# Print the head of the result\n",
        "print(ind_state.head())"
      ],
      "metadata": {
        "colab": {
          "base_uri": "https://localhost:8080/"
        },
        "id": "OjZGZZvHZ9IY",
        "outputId": "d5d059da-8bec-43ce-c862-737e377b5027"
      },
      "execution_count": 6,
      "outputs": [
        {
          "output_type": "stream",
          "name": "stdout",
          "text": [
            "   individuals       state\n",
            "0       2570.0     Alabama\n",
            "1       1434.0      Alaska\n",
            "2       7259.0     Arizona\n",
            "3       2280.0    Arkansas\n",
            "4     109008.0  California\n"
          ]
        }
      ]
    },
    {
      "cell_type": "code",
      "source": [
        "# Subsetting rows\n",
        "# A large part of data science is about finding which bits of your dataset are interesting. One of the simplest techniques for this is to find a subset of rows that match some criteria. This is sometimes known as filtering rows or selecting rows.\n",
        "\n"
      ],
      "metadata": {
        "id": "UjmPNWKvaFZh"
      },
      "execution_count": null,
      "outputs": []
    },
    {
      "cell_type": "code",
      "source": [
        "import pandas as pd\n",
        "\n",
        "\n",
        "homelessness = pd.DataFrame({\n",
        "    'region': ['East South Central', 'Pacific', 'Mountain', 'West South Central', 'Pacific', 'Mountain', 'New England', 'South Atlantic', 'South Atlantic', 'South Atlantic', 'South Atlantic', 'Pacific', 'Mountain', 'East North Central', 'East North Central', 'West North Central', 'West North Central', 'East South Central', 'West South Central', 'New England', 'South Atlantic', 'New England', 'East North Central', 'West North Central', 'East South Central', 'West North Central', 'Mountain', 'West North Central', 'Mountain', 'New England', 'Mid-Atlantic', 'Mountain', 'Mid-Atlantic', 'South Atlantic', 'West North Central', 'East North Central', 'West South Central', 'Pacific', 'Mid-Atlantic', 'New England', 'South Atlantic', 'West North Central', 'East South Central', 'West South Central', 'Mountain', 'New England', 'South Atlantic', 'Pacific', 'South Atlantic', 'East North Central', 'Mountain'],\n",
        "    'state': ['Alabama', 'Alaska', 'Arizona', 'Arkansas', 'California', 'Colorado', 'Connecticut', 'Delaware', 'District of Columbia', 'Florida', 'Georgia', 'Hawaii', 'Idaho', 'Illinois', 'Indiana', 'Iowa', 'Kansas', 'Kentucky', 'Louisiana', 'Maine', 'Maryland', 'Massachusetts', 'Michigan', 'Minnesota', 'Mississippi', 'Missouri', 'Montana', 'Nebraska', 'Nevada', 'New Hampshire', 'New Jersey', 'New Mexico', 'New York', 'North Carolina', 'North Dakota', 'Ohio', 'Oklahoma', 'Oregon', 'Pennsylvania', 'Rhode Island', 'South Carolina', 'South Dakota', 'Tennessee', 'Texas', 'Utah', 'Vermont', 'Virginia', 'Washington', 'West Virginia', 'Wisconsin', 'Wyoming'],\n",
        "    'individuals': [2570.0, 1434.0, 7259.0, 2280.0, 109008.0, 7607.0, 2280.0, 708.0, 3770.0, 21443.0, 6943.0, 4131.0, 1297.0, 6752.0, 3776.0, 1711.0, 1443.0, 2735.0, 2540.0, 1450.0, 4914.0, 6811.0, 5209.0, 3993.0, 1024.0, 3776.0, 983.0, 1745.0, 7058.0, 835.0, 6048.0, 1949.0, 39827.0, 6451.0, 467.0, 6929.0, 2823.0, 11139.0, 8163.0, 747.0, 3082.0, 836.0, 6139.0, 19199.0, 1904.0, 780.0, 3928.0, 16424.0, 1021.0, 2740.0, 434.0],\n",
        "    'family_members': [864.0, 582.0, 2606.0, 432.0, 20964.0, 3250.0, 1696.0, 374.0, 3134.0, 9587.0, 2556.0, 2399.0, 715.0, 3891.0, 1482.0, 1038.0, 773.0, 953.0, 519.0, 1066.0, 2230.0, 13257.0, 3142.0, 3250.0, 328.0, 2107.0, 422.0, 676.0, 486.0, 615.0, 3350.0, 602.0, 52070.0, 2817.0, 75.0, 3320.0, 1048.0, 3337.0, 5349.0, 354.0, 851.0, 323.0, 1744.0, 6111.0, 972.0, 511.0, 2047.0, 5880.0, 222.0, 2167.0, 205.0],\n",
        "    'state_pop': [4887681, 735139, 7158024, 3009733, 39461588, 5691287, 3571520, 965479, 701547, 21244317, 10511131, 1420593, 1750536, 12723071, 6695497, 3148618, 2911359, 4461153, 4659690, 1339057, 6035802, 6882635, 9984072, 5606249, 2981020, 6121623, 1060665, 1925614, 3027341, 1353465, 8886025, 2092741, 19530351, 10381615, 758080, 11676341, 3940235, 4181886, 12800922, 1058287, 5084156, 878698, 6771631, 28628666, 3153550, 624358, 8501286, 7523869, 1804291, 5807406, 577601]\n",
        "})\n",
        "\n",
        "# Filter for rows where individuals is greater than 10000\n",
        "ind_gt_10k = homelessness[homelessness[\"individuals\"]>10000]\n",
        "\n",
        "# See the result\n",
        "print(ind_gt_10k)"
      ],
      "metadata": {
        "colab": {
          "base_uri": "https://localhost:8080/"
        },
        "id": "kVm_6Vf4bFuN",
        "outputId": "4c58b6b7-3782-4f3e-aa63-e5d3faf86824"
      },
      "execution_count": 7,
      "outputs": [
        {
          "output_type": "stream",
          "name": "stdout",
          "text": [
            "                region       state  individuals  family_members  state_pop\n",
            "4              Pacific  California     109008.0         20964.0   39461588\n",
            "9       South Atlantic     Florida      21443.0          9587.0   21244317\n",
            "32        Mid-Atlantic    New York      39827.0         52070.0   19530351\n",
            "37             Pacific      Oregon      11139.0          3337.0    4181886\n",
            "43  West South Central       Texas      19199.0          6111.0   28628666\n",
            "47             Pacific  Washington      16424.0          5880.0    7523869\n"
          ]
        }
      ]
    },
    {
      "cell_type": "code",
      "source": [
        "import pandas as pd\n",
        "\n",
        "\n",
        "homelessness = pd.DataFrame({\n",
        "    'region': ['East South Central', 'Pacific', 'Mountain', 'West South Central', 'Pacific', 'Mountain', 'New England', 'South Atlantic', 'South Atlantic', 'South Atlantic', 'South Atlantic', 'Pacific', 'Mountain', 'East North Central', 'East North Central', 'West North Central', 'West North Central', 'East South Central', 'West South Central', 'New England', 'South Atlantic', 'New England', 'East North Central', 'West North Central', 'East South Central', 'West North Central', 'Mountain', 'West North Central', 'Mountain', 'New England', 'Mid-Atlantic', 'Mountain', 'Mid-Atlantic', 'South Atlantic', 'West North Central', 'East North Central', 'West South Central', 'Pacific', 'Mid-Atlantic', 'New England', 'South Atlantic', 'West North Central', 'East South Central', 'West South Central', 'Mountain', 'New England', 'South Atlantic', 'Pacific', 'South Atlantic', 'East North Central', 'Mountain'],\n",
        "    'state': ['Alabama', 'Alaska', 'Arizona', 'Arkansas', 'California', 'Colorado', 'Connecticut', 'Delaware', 'District of Columbia', 'Florida', 'Georgia', 'Hawaii', 'Idaho', 'Illinois', 'Indiana', 'Iowa', 'Kansas', 'Kentucky', 'Louisiana', 'Maine', 'Maryland', 'Massachusetts', 'Michigan', 'Minnesota', 'Mississippi', 'Missouri', 'Montana', 'Nebraska', 'Nevada', 'New Hampshire', 'New Jersey', 'New Mexico', 'New York', 'North Carolina', 'North Dakota', 'Ohio', 'Oklahoma', 'Oregon', 'Pennsylvania', 'Rhode Island', 'South Carolina', 'South Dakota', 'Tennessee', 'Texas', 'Utah', 'Vermont', 'Virginia', 'Washington', 'West Virginia', 'Wisconsin', 'Wyoming'],\n",
        "    'individuals': [2570.0, 1434.0, 7259.0, 2280.0, 109008.0, 7607.0, 2280.0, 708.0, 3770.0, 21443.0, 6943.0, 4131.0, 1297.0, 6752.0, 3776.0, 1711.0, 1443.0, 2735.0, 2540.0, 1450.0, 4914.0, 6811.0, 5209.0, 3993.0, 1024.0, 3776.0, 983.0, 1745.0, 7058.0, 835.0, 6048.0, 1949.0, 39827.0, 6451.0, 467.0, 6929.0, 2823.0, 11139.0, 8163.0, 747.0, 3082.0, 836.0, 6139.0, 19199.0, 1904.0, 780.0, 3928.0, 16424.0, 1021.0, 2740.0, 434.0],\n",
        "    'family_members': [864.0, 582.0, 2606.0, 432.0, 20964.0, 3250.0, 1696.0, 374.0, 3134.0, 9587.0, 2556.0, 2399.0, 715.0, 3891.0, 1482.0, 1038.0, 773.0, 953.0, 519.0, 1066.0, 2230.0, 13257.0, 3142.0, 3250.0, 328.0, 2107.0, 422.0, 676.0, 486.0, 615.0, 3350.0, 602.0, 52070.0, 2817.0, 75.0, 3320.0, 1048.0, 3337.0, 5349.0, 354.0, 851.0, 323.0, 1744.0, 6111.0, 972.0, 511.0, 2047.0, 5880.0, 222.0, 2167.0, 205.0],\n",
        "    'state_pop': [4887681, 735139, 7158024, 3009733, 39461588, 5691287, 3571520, 965479, 701547, 21244317, 10511131, 1420593, 1750536, 12723071, 6695497, 3148618, 2911359, 4461153, 4659690, 1339057, 6035802, 6882635, 9984072, 5606249, 2981020, 6121623, 1060665, 1925614, 3027341, 1353465, 8886025, 2092741, 19530351, 10381615, 758080, 11676341, 3940235, 4181886, 12800922, 1058287, 5084156, 878698, 6771631, 28628666, 3153550, 624358, 8501286, 7523869, 1804291, 5807406, 577601]\n",
        "})\n",
        "\n",
        "# Filter for rows where region is Mountain\n",
        "mountain_reg = homelessness[homelessness[\"region\"]==\"Mountain\"]\n",
        "\n",
        "# See the result\n",
        "print(mountain_reg)"
      ],
      "metadata": {
        "colab": {
          "base_uri": "https://localhost:8080/"
        },
        "id": "J1ECyCy9bF18",
        "outputId": "b828c045-ed66-491a-805b-aa6c81a4f2a7"
      },
      "execution_count": 8,
      "outputs": [
        {
          "output_type": "stream",
          "name": "stdout",
          "text": [
            "      region       state  individuals  family_members  state_pop\n",
            "2   Mountain     Arizona       7259.0          2606.0    7158024\n",
            "5   Mountain    Colorado       7607.0          3250.0    5691287\n",
            "12  Mountain       Idaho       1297.0           715.0    1750536\n",
            "26  Mountain     Montana        983.0           422.0    1060665\n",
            "28  Mountain      Nevada       7058.0           486.0    3027341\n",
            "31  Mountain  New Mexico       1949.0           602.0    2092741\n",
            "44  Mountain        Utah       1904.0           972.0    3153550\n",
            "50  Mountain     Wyoming        434.0           205.0     577601\n"
          ]
        }
      ]
    },
    {
      "cell_type": "code",
      "source": [
        "import pandas as pd\n",
        "\n",
        "\n",
        "homelessness = pd.DataFrame({\n",
        "    'region': ['East South Central', 'Pacific', 'Mountain', 'West South Central', 'Pacific', 'Mountain', 'New England', 'South Atlantic', 'South Atlantic', 'South Atlantic', 'South Atlantic', 'Pacific', 'Mountain', 'East North Central', 'East North Central', 'West North Central', 'West North Central', 'East South Central', 'West South Central', 'New England', 'South Atlantic', 'New England', 'East North Central', 'West North Central', 'East South Central', 'West North Central', 'Mountain', 'West North Central', 'Mountain', 'New England', 'Mid-Atlantic', 'Mountain', 'Mid-Atlantic', 'South Atlantic', 'West North Central', 'East North Central', 'West South Central', 'Pacific', 'Mid-Atlantic', 'New England', 'South Atlantic', 'West North Central', 'East South Central', 'West South Central', 'Mountain', 'New England', 'South Atlantic', 'Pacific', 'South Atlantic', 'East North Central', 'Mountain'],\n",
        "    'state': ['Alabama', 'Alaska', 'Arizona', 'Arkansas', 'California', 'Colorado', 'Connecticut', 'Delaware', 'District of Columbia', 'Florida', 'Georgia', 'Hawaii', 'Idaho', 'Illinois', 'Indiana', 'Iowa', 'Kansas', 'Kentucky', 'Louisiana', 'Maine', 'Maryland', 'Massachusetts', 'Michigan', 'Minnesota', 'Mississippi', 'Missouri', 'Montana', 'Nebraska', 'Nevada', 'New Hampshire', 'New Jersey', 'New Mexico', 'New York', 'North Carolina', 'North Dakota', 'Ohio', 'Oklahoma', 'Oregon', 'Pennsylvania', 'Rhode Island', 'South Carolina', 'South Dakota', 'Tennessee', 'Texas', 'Utah', 'Vermont', 'Virginia', 'Washington', 'West Virginia', 'Wisconsin', 'Wyoming'],\n",
        "    'individuals': [2570.0, 1434.0, 7259.0, 2280.0, 109008.0, 7607.0, 2280.0, 708.0, 3770.0, 21443.0, 6943.0, 4131.0, 1297.0, 6752.0, 3776.0, 1711.0, 1443.0, 2735.0, 2540.0, 1450.0, 4914.0, 6811.0, 5209.0, 3993.0, 1024.0, 3776.0, 983.0, 1745.0, 7058.0, 835.0, 6048.0, 1949.0, 39827.0, 6451.0, 467.0, 6929.0, 2823.0, 11139.0, 8163.0, 747.0, 3082.0, 836.0, 6139.0, 19199.0, 1904.0, 780.0, 3928.0, 16424.0, 1021.0, 2740.0, 434.0],\n",
        "    'family_members': [864.0, 582.0, 2606.0, 432.0, 20964.0, 3250.0, 1696.0, 374.0, 3134.0, 9587.0, 2556.0, 2399.0, 715.0, 3891.0, 1482.0, 1038.0, 773.0, 953.0, 519.0, 1066.0, 2230.0, 13257.0, 3142.0, 3250.0, 328.0, 2107.0, 422.0, 676.0, 486.0, 615.0, 3350.0, 602.0, 52070.0, 2817.0, 75.0, 3320.0, 1048.0, 3337.0, 5349.0, 354.0, 851.0, 323.0, 1744.0, 6111.0, 972.0, 511.0, 2047.0, 5880.0, 222.0, 2167.0, 205.0],\n",
        "    'state_pop': [4887681, 735139, 7158024, 3009733, 39461588, 5691287, 3571520, 965479, 701547, 21244317, 10511131, 1420593, 1750536, 12723071, 6695497, 3148618, 2911359, 4461153, 4659690, 1339057, 6035802, 6882635, 9984072, 5606249, 2981020, 6121623, 1060665, 1925614, 3027341, 1353465, 8886025, 2092741, 19530351, 10381615, 758080, 11676341, 3940235, 4181886, 12800922, 1058287, 5084156, 878698, 6771631, 28628666, 3153550, 624358, 8501286, 7523869, 1804291, 5807406, 577601]\n",
        "})\n",
        "\n",
        "# Filter for rows where family_members is less than 1000\n",
        "# and region is Pacific\n",
        "fam_lt_1k_pac = homelessness[(homelessness[\"family_members\"]<1000) & (homelessness[\"region\"]==\"Pacific\")]\n",
        "\n",
        "# See the result\n",
        "print(fam_lt_1k_pac)"
      ],
      "metadata": {
        "colab": {
          "base_uri": "https://localhost:8080/"
        },
        "id": "sp0C-hrLbF91",
        "outputId": "e691010b-1f97-408e-acf5-6a7155feef71"
      },
      "execution_count": 9,
      "outputs": [
        {
          "output_type": "stream",
          "name": "stdout",
          "text": [
            "    region   state  individuals  family_members  state_pop\n",
            "1  Pacific  Alaska       1434.0           582.0     735139\n"
          ]
        }
      ]
    },
    {
      "cell_type": "code",
      "source": [
        "import pandas as pd\n",
        "\n",
        "\n",
        "homelessness = pd.DataFrame({\n",
        "    'region': ['East South Central', 'Pacific', 'Mountain', 'West South Central', 'Pacific', 'Mountain', 'New England', 'South Atlantic', 'South Atlantic', 'South Atlantic', 'South Atlantic', 'Pacific', 'Mountain', 'East North Central', 'East North Central', 'West North Central', 'West North Central', 'East South Central', 'West South Central', 'New England', 'South Atlantic', 'New England', 'East North Central', 'West North Central', 'East South Central', 'West North Central', 'Mountain', 'West North Central', 'Mountain', 'New England', 'Mid-Atlantic', 'Mountain', 'Mid-Atlantic', 'South Atlantic', 'West North Central', 'East North Central', 'West South Central', 'Pacific', 'Mid-Atlantic', 'New England', 'South Atlantic', 'West North Central', 'East South Central', 'West South Central', 'Mountain', 'New England', 'South Atlantic', 'Pacific', 'South Atlantic', 'East North Central', 'Mountain'],\n",
        "    'state': ['Alabama', 'Alaska', 'Arizona', 'Arkansas', 'California', 'Colorado', 'Connecticut', 'Delaware', 'District of Columbia', 'Florida', 'Georgia', 'Hawaii', 'Idaho', 'Illinois', 'Indiana', 'Iowa', 'Kansas', 'Kentucky', 'Louisiana', 'Maine', 'Maryland', 'Massachusetts', 'Michigan', 'Minnesota', 'Mississippi', 'Missouri', 'Montana', 'Nebraska', 'Nevada', 'New Hampshire', 'New Jersey', 'New Mexico', 'New York', 'North Carolina', 'North Dakota', 'Ohio', 'Oklahoma', 'Oregon', 'Pennsylvania', 'Rhode Island', 'South Carolina', 'South Dakota', 'Tennessee', 'Texas', 'Utah', 'Vermont', 'Virginia', 'Washington', 'West Virginia', 'Wisconsin', 'Wyoming'],\n",
        "    'individuals': [2570.0, 1434.0, 7259.0, 2280.0, 109008.0, 7607.0, 2280.0, 708.0, 3770.0, 21443.0, 6943.0, 4131.0, 1297.0, 6752.0, 3776.0, 1711.0, 1443.0, 2735.0, 2540.0, 1450.0, 4914.0, 6811.0, 5209.0, 3993.0, 1024.0, 3776.0, 983.0, 1745.0, 7058.0, 835.0, 6048.0, 1949.0, 39827.0, 6451.0, 467.0, 6929.0, 2823.0, 11139.0, 8163.0, 747.0, 3082.0, 836.0, 6139.0, 19199.0, 1904.0, 780.0, 3928.0, 16424.0, 1021.0, 2740.0, 434.0],\n",
        "    'family_members': [864.0, 582.0, 2606.0, 432.0, 20964.0, 3250.0, 1696.0, 374.0, 3134.0, 9587.0, 2556.0, 2399.0, 715.0, 3891.0, 1482.0, 1038.0, 773.0, 953.0, 519.0, 1066.0, 2230.0, 13257.0, 3142.0, 3250.0, 328.0, 2107.0, 422.0, 676.0, 486.0, 615.0, 3350.0, 602.0, 52070.0, 2817.0, 75.0, 3320.0, 1048.0, 3337.0, 5349.0, 354.0, 851.0, 323.0, 1744.0, 6111.0, 972.0, 511.0, 2047.0, 5880.0, 222.0, 2167.0, 205.0],\n",
        "    'state_pop': [4887681, 735139, 7158024, 3009733, 39461588, 5691287, 3571520, 965479, 701547, 21244317, 10511131, 1420593, 1750536, 12723071, 6695497, 3148618, 2911359, 4461153, 4659690, 1339057, 6035802, 6882635, 9984072, 5606249, 2981020, 6121623, 1060665, 1925614, 3027341, 1353465, 8886025, 2092741, 19530351, 10381615, 758080, 11676341, 3940235, 4181886, 12800922, 1058287, 5084156, 878698, 6771631, 28628666, 3153550, 624358, 8501286, 7523869, 1804291, 5807406, 577601]\n",
        "})\n",
        "\n",
        "# Subset for rows in South Atlantic or Mid-Atlantic regions\n",
        "south_mid_atlantic = homelessness[(homelessness[\"region\"]==\"South Atlantic\") | (homelessness[\"region\"]==\"Mid-Atlantic\")]\n",
        "\n",
        "# See the result\n",
        "print(south_mid_atlantic)"
      ],
      "metadata": {
        "colab": {
          "base_uri": "https://localhost:8080/"
        },
        "id": "rwyZsoApb_8N",
        "outputId": "5bc022ee-1fd1-48a1-923a-0e6d94415d63"
      },
      "execution_count": 10,
      "outputs": [
        {
          "output_type": "stream",
          "name": "stdout",
          "text": [
            "            region                 state  individuals  family_members  \\\n",
            "7   South Atlantic              Delaware        708.0           374.0   \n",
            "8   South Atlantic  District of Columbia       3770.0          3134.0   \n",
            "9   South Atlantic               Florida      21443.0          9587.0   \n",
            "10  South Atlantic               Georgia       6943.0          2556.0   \n",
            "20  South Atlantic              Maryland       4914.0          2230.0   \n",
            "30    Mid-Atlantic            New Jersey       6048.0          3350.0   \n",
            "32    Mid-Atlantic              New York      39827.0         52070.0   \n",
            "33  South Atlantic        North Carolina       6451.0          2817.0   \n",
            "38    Mid-Atlantic          Pennsylvania       8163.0          5349.0   \n",
            "40  South Atlantic        South Carolina       3082.0           851.0   \n",
            "46  South Atlantic              Virginia       3928.0          2047.0   \n",
            "48  South Atlantic         West Virginia       1021.0           222.0   \n",
            "\n",
            "    state_pop  \n",
            "7      965479  \n",
            "8      701547  \n",
            "9    21244317  \n",
            "10   10511131  \n",
            "20    6035802  \n",
            "30    8886025  \n",
            "32   19530351  \n",
            "33   10381615  \n",
            "38   12800922  \n",
            "40    5084156  \n",
            "46    8501286  \n",
            "48    1804291  \n"
          ]
        }
      ]
    },
    {
      "cell_type": "code",
      "source": [
        "import pandas as pd\n",
        "\n",
        "\n",
        "homelessness = pd.DataFrame({\n",
        "    'region': ['East South Central', 'Pacific', 'Mountain', 'West South Central', 'Pacific', 'Mountain', 'New England', 'South Atlantic', 'South Atlantic', 'South Atlantic', 'South Atlantic', 'Pacific', 'Mountain', 'East North Central', 'East North Central', 'West North Central', 'West North Central', 'East South Central', 'West South Central', 'New England', 'South Atlantic', 'New England', 'East North Central', 'West North Central', 'East South Central', 'West North Central', 'Mountain', 'West North Central', 'Mountain', 'New England', 'Mid-Atlantic', 'Mountain', 'Mid-Atlantic', 'South Atlantic', 'West North Central', 'East North Central', 'West South Central', 'Pacific', 'Mid-Atlantic', 'New England', 'South Atlantic', 'West North Central', 'East South Central', 'West South Central', 'Mountain', 'New England', 'South Atlantic', 'Pacific', 'South Atlantic', 'East North Central', 'Mountain'],\n",
        "    'state': ['Alabama', 'Alaska', 'Arizona', 'Arkansas', 'California', 'Colorado', 'Connecticut', 'Delaware', 'District of Columbia', 'Florida', 'Georgia', 'Hawaii', 'Idaho', 'Illinois', 'Indiana', 'Iowa', 'Kansas', 'Kentucky', 'Louisiana', 'Maine', 'Maryland', 'Massachusetts', 'Michigan', 'Minnesota', 'Mississippi', 'Missouri', 'Montana', 'Nebraska', 'Nevada', 'New Hampshire', 'New Jersey', 'New Mexico', 'New York', 'North Carolina', 'North Dakota', 'Ohio', 'Oklahoma', 'Oregon', 'Pennsylvania', 'Rhode Island', 'South Carolina', 'South Dakota', 'Tennessee', 'Texas', 'Utah', 'Vermont', 'Virginia', 'Washington', 'West Virginia', 'Wisconsin', 'Wyoming'],\n",
        "    'individuals': [2570.0, 1434.0, 7259.0, 2280.0, 109008.0, 7607.0, 2280.0, 708.0, 3770.0, 21443.0, 6943.0, 4131.0, 1297.0, 6752.0, 3776.0, 1711.0, 1443.0, 2735.0, 2540.0, 1450.0, 4914.0, 6811.0, 5209.0, 3993.0, 1024.0, 3776.0, 983.0, 1745.0, 7058.0, 835.0, 6048.0, 1949.0, 39827.0, 6451.0, 467.0, 6929.0, 2823.0, 11139.0, 8163.0, 747.0, 3082.0, 836.0, 6139.0, 19199.0, 1904.0, 780.0, 3928.0, 16424.0, 1021.0, 2740.0, 434.0],\n",
        "    'family_members': [864.0, 582.0, 2606.0, 432.0, 20964.0, 3250.0, 1696.0, 374.0, 3134.0, 9587.0, 2556.0, 2399.0, 715.0, 3891.0, 1482.0, 1038.0, 773.0, 953.0, 519.0, 1066.0, 2230.0, 13257.0, 3142.0, 3250.0, 328.0, 2107.0, 422.0, 676.0, 486.0, 615.0, 3350.0, 602.0, 52070.0, 2817.0, 75.0, 3320.0, 1048.0, 3337.0, 5349.0, 354.0, 851.0, 323.0, 1744.0, 6111.0, 972.0, 511.0, 2047.0, 5880.0, 222.0, 2167.0, 205.0],\n",
        "    'state_pop': [4887681, 735139, 7158024, 3009733, 39461588, 5691287, 3571520, 965479, 701547, 21244317, 10511131, 1420593, 1750536, 12723071, 6695497, 3148618, 2911359, 4461153, 4659690, 1339057, 6035802, 6882635, 9984072, 5606249, 2981020, 6121623, 1060665, 1925614, 3027341, 1353465, 8886025, 2092741, 19530351, 10381615, 758080, 11676341, 3940235, 4181886, 12800922, 1058287, 5084156, 878698, 6771631, 28628666, 3153550, 624358, 8501286, 7523869, 1804291, 5807406, 577601]\n",
        "})\n",
        "\n",
        "# The Mojave Desert states\n",
        "canu = [\"California\", \"Arizona\", \"Nevada\", \"Utah\"]\n",
        "\n",
        "# Filter for rows in the Mojave Desert states\n",
        "mojave_homelessness = homelessness[\n",
        "    homelessness[\"state\"].isin(canu)\n",
        "]\n",
        "\n",
        "# See the result\n",
        "print(mojave_homelessness)"
      ],
      "metadata": {
        "colab": {
          "base_uri": "https://localhost:8080/"
        },
        "id": "Q92Uuys2cAEY",
        "outputId": "a7371f22-11e1-4655-f220-a84ee7f4f631"
      },
      "execution_count": 11,
      "outputs": [
        {
          "output_type": "stream",
          "name": "stdout",
          "text": [
            "      region       state  individuals  family_members  state_pop\n",
            "2   Mountain     Arizona       7259.0          2606.0    7158024\n",
            "4    Pacific  California     109008.0         20964.0   39461588\n",
            "28  Mountain      Nevada       7058.0           486.0    3027341\n",
            "44  Mountain        Utah       1904.0           972.0    3153550\n"
          ]
        }
      ]
    }
  ]
}