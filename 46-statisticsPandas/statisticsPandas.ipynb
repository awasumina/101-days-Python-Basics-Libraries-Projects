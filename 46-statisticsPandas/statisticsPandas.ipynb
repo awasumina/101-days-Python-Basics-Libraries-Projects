{
  "nbformat": 4,
  "nbformat_minor": 0,
  "metadata": {
    "colab": {
      "provenance": []
    },
    "kernelspec": {
      "name": "python3",
      "display_name": "Python 3"
    },
    "language_info": {
      "name": "python"
    }
  },
  "cells": [
    {
      "cell_type": "code",
      "execution_count": 5,
      "metadata": {
        "colab": {
          "base_uri": "https://localhost:8080/"
        },
        "id": "_PalB6aZujUy",
        "outputId": "345d33be-b0a7-428f-de05-e18acd8cb3bc"
      },
      "outputs": [
        {
          "output_type": "stream",
          "name": "stdout",
          "text": [
            "   store type  department        date  weekly_sales  is_holiday  \\\n",
            "0      1    A           1  2010-02-05      24924.50       False   \n",
            "1      1    A           1  2010-03-05      21827.90       False   \n",
            "2      1    A           1  2010-04-02      57258.43       False   \n",
            "3      1    A           1  2010-05-07      17413.94       False   \n",
            "4      1    A           1  2010-06-04      17558.09       False   \n",
            "\n",
            "   temperature_c  fuel_price_usd_per_l  unemployment  \n",
            "0          5.728                 0.679         8.106  \n",
            "1          8.056                 0.693         8.106  \n",
            "2         16.817                 0.718         7.808  \n",
            "3         22.528                 0.749         7.808  \n",
            "4         27.050                 0.715         7.808  \n",
            "<class 'pandas.core.frame.DataFrame'>\n",
            "RangeIndex: 10 entries, 0 to 9\n",
            "Data columns (total 9 columns):\n",
            " #   Column                Non-Null Count  Dtype  \n",
            "---  ------                --------------  -----  \n",
            " 0   store                 10 non-null     int64  \n",
            " 1   type                  10 non-null     object \n",
            " 2   department            10 non-null     int64  \n",
            " 3   date                  10 non-null     object \n",
            " 4   weekly_sales          10 non-null     float64\n",
            " 5   is_holiday            10 non-null     bool   \n",
            " 6   temperature_c         10 non-null     float64\n",
            " 7   fuel_price_usd_per_l  10 non-null     float64\n",
            " 8   unemployment          10 non-null     float64\n",
            "dtypes: bool(1), float64(4), int64(2), object(2)\n",
            "memory usage: 778.0+ bytes\n",
            "None\n",
            "14159.291999999998\n",
            "9164.47\n"
          ]
        }
      ],
      "source": [
        "import pandas as pd\n",
        "\n",
        "data = {\n",
        "    'store': [1, 1, 1, 1, 1, 39, 39, 39, 39, 39],\n",
        "    'type': ['A', 'A', 'A', 'A', 'A', 'A', 'A', 'A', 'A', 'A'],\n",
        "    'department': [1, 1, 1, 1, 1, 99, 99, 99, 99, 99],\n",
        "    'date': ['2010-02-05', '2010-03-05', '2010-04-02', '2010-05-07', '2010-06-04', '2011-12-09', '2012-02-03', '2012-06-08', '2012-07-13', '2012-10-05'],\n",
        "    'weekly_sales': [24924.50, 21827.90, 57258.43, 17413.94, 17558.09, 895.00, 350.00, 450.00, 0.06, 915.00],\n",
        "    'is_holiday': [False, False, False, False, False, False, False, False, False, False],\n",
        "    'temperature_c': [5.728, 8.056, 16.817, 22.528, 27.050, 9.644, 15.939, 27.289, 25.644, 22.250],\n",
        "    'fuel_price_usd_per_l': [0.679, 0.693, 0.718, 0.749, 0.715, 0.834, 0.888, 0.912, 0.860, 0.956],\n",
        "    'unemployment': [8.106, 8.106, 7.808, 7.808, 7.808, 7.716, 7.244, 6.989, 6.623, 6.228]\n",
        "}\n",
        "\n",
        "sales = pd.DataFrame(data)\n",
        "# Print the head of the sales DataFrame\n",
        "print(sales.head())\n",
        "\n",
        "# Print the info about the sales DataFrame\n",
        "print(sales.info())\n",
        "\n",
        "# Print the mean of weekly_sales\n",
        "print(sales['weekly_sales'].mean())\n",
        "\n",
        "# Print the median of weekly_sales\n",
        "print(sales['weekly_sales'].median())"
      ]
    },
    {
      "cell_type": "code",
      "source": [
        "import pandas as pd\n",
        "\n",
        "data = {\n",
        "    'store': [1, 1, 1, 1, 1, 39, 39, 39, 39, 39],\n",
        "    'type': ['A', 'A', 'A', 'A', 'A', 'A', 'A', 'A', 'A', 'A'],\n",
        "    'department': [1, 1, 1, 1, 1, 99, 99, 99, 99, 99],\n",
        "    'date': ['2010-02-05', '2010-03-05', '2010-04-02', '2010-05-07', '2010-06-04', '2011-12-09', '2012-02-03', '2012-06-08', '2012-07-13', '2012-10-05'],\n",
        "    'weekly_sales': [24924.50, 21827.90, 57258.43, 17413.94, 17558.09, 895.00, 350.00, 450.00, 0.06, 915.00],\n",
        "    'is_holiday': [False, False, False, False, False, False, False, False, False, False],\n",
        "    'temperature_c': [5.728, 8.056, 16.817, 22.528, 27.050, 9.644, 15.939, 27.289, 25.644, 22.250],\n",
        "    'fuel_price_usd_per_l': [0.679, 0.693, 0.718, 0.749, 0.715, 0.834, 0.888, 0.912, 0.860, 0.956],\n",
        "    'unemployment': [8.106, 8.106, 7.808, 7.808, 7.808, 7.716, 7.244, 6.989, 6.623, 6.228]\n",
        "}\n",
        "\n",
        "sales = pd.DataFrame(data)\n",
        "\n",
        "# Print the maximum of the date column\n",
        "print(sales['date'].max())\n",
        "\n",
        "# Print the minimum of the date column\n",
        "print(sales['date'].min())\n"
      ],
      "metadata": {
        "colab": {
          "base_uri": "https://localhost:8080/"
        },
        "id": "-8g0rI1fvztS",
        "outputId": "16585dd8-bb28-464f-d98c-888737212e96"
      },
      "execution_count": 6,
      "outputs": [
        {
          "output_type": "stream",
          "name": "stdout",
          "text": [
            "2012-10-05\n",
            "2010-02-05\n"
          ]
        }
      ]
    },
    {
      "cell_type": "code",
      "source": [
        "import pandas as pd\n",
        "\n",
        "data = {\n",
        "    'store': [1, 1, 1, 1, 1, 39, 39, 39, 39, 39],\n",
        "    'type': ['A', 'A', 'A', 'A', 'A', 'A', 'A', 'A', 'A', 'A'],\n",
        "    'department': [1, 1, 1, 1, 1, 99, 99, 99, 99, 99],\n",
        "    'date': ['2010-02-05', '2010-03-05', '2010-04-02', '2010-05-07', '2010-06-04', '2011-12-09', '2012-02-03', '2012-06-08', '2012-07-13', '2012-10-05'],\n",
        "    'weekly_sales': [24924.50, 21827.90, 57258.43, 17413.94, 17558.09, 895.00, 350.00, 450.00, 0.06, 915.00],\n",
        "    'is_holiday': [False, False, False, False, False, False, False, False, False, False],\n",
        "    'temperature_c': [5.728, 8.056, 16.817, 22.528, 27.050, 9.644, 15.939, 27.289, 25.644, 22.250],\n",
        "    'fuel_price_usd_per_l': [0.679, 0.693, 0.718, 0.749, 0.715, 0.834, 0.888, 0.912, 0.860, 0.956],\n",
        "    'unemployment': [8.106, 8.106, 7.808, 7.808, 7.808, 7.716, 7.244, 6.989, 6.623, 6.228]\n",
        "}\n",
        "\n",
        "sales = pd.DataFrame(data)\n",
        "\n",
        "# A custom IQR function\n",
        "def iqr(column):\n",
        "    return column.quantile(0.75) - column.quantile(0.25)\n",
        "\n",
        "# Print IQR of the temperature_c column\n",
        "print(sales['temperature_c'].agg(iqr))\n",
        "\n",
        "# A custom IQR function\n",
        "def iqr(column):\n",
        "    return column.quantile(0.75) - column.quantile(0.25)\n",
        "\n",
        "# Update to print IQR of temperature_c, fuel_price_usd_per_l, & unemployment\n",
        "print(sales[[\"temperature_c\", 'fuel_price_usd_per_l', 'unemployment']].agg(iqr))"
      ],
      "metadata": {
        "colab": {
          "base_uri": "https://localhost:8080/"
        },
        "id": "VIp3XpCuxG9G",
        "outputId": "575e9d9c-4fe5-4450-b243-5554b32309f6"
      },
      "execution_count": 7,
      "outputs": [
        {
          "output_type": "stream",
          "name": "stdout",
          "text": [
            "13.647249999999998\n"
          ]
        }
      ]
    },
    {
      "cell_type": "code",
      "source": [
        "import pandas as pd\n",
        "\n",
        "data = {\n",
        "    'store': [1, 1, 1, 1, 1, 39, 39, 39, 39, 39],\n",
        "    'type': ['A', 'A', 'A', 'A', 'A', 'A', 'A', 'A', 'A', 'A'],\n",
        "    'department': [1, 1, 1, 1, 1, 99, 99, 99, 99, 99],\n",
        "    'date': ['2010-02-05', '2010-03-05', '2010-04-02', '2010-05-07', '2010-06-04', '2011-12-09', '2012-02-03', '2012-06-08', '2012-07-13', '2012-10-05'],\n",
        "    'weekly_sales': [24924.50, 21827.90, 57258.43, 17413.94, 17558.09, 895.00, 350.00, 450.00, 0.06, 915.00],\n",
        "    'is_holiday': [False, False, False, False, False, False, False, False, False, False],\n",
        "    'temperature_c': [5.728, 8.056, 16.817, 22.528, 27.050, 9.644, 15.939, 27.289, 25.644, 22.250],\n",
        "    'fuel_price_usd_per_l': [0.679, 0.693, 0.718, 0.749, 0.715, 0.834, 0.888, 0.912, 0.860, 0.956],\n",
        "    'unemployment': [8.106, 8.106, 7.808, 7.808, 7.808, 7.716, 7.244, 6.989, 6.623, 6.228]\n",
        "}\n",
        "\n",
        "sales = pd.DataFrame(data)\n",
        "\n",
        "# Import NumPy and create custom IQR function\n",
        "import numpy as np\n",
        "def iqr(column):\n",
        "    return column.quantile(0.75) - column.quantile(0.25)\n",
        "\n",
        "# Update to print IQR and median of temperature_c, fuel_price_usd_per_l, & unemployment\n",
        "print(sales[[\"temperature_c\", \"fuel_price_usd_per_l\", \"unemployment\"]].agg([iqr,np.median]))"
      ],
      "metadata": {
        "colab": {
          "base_uri": "https://localhost:8080/"
        },
        "id": "twKa-3TNx2F9",
        "outputId": "2897f90d-b4d9-4ee2-f3b9-c7eb6ed5703d"
      },
      "execution_count": 8,
      "outputs": [
        {
          "output_type": "stream",
          "name": "stdout",
          "text": [
            "        temperature_c  fuel_price_usd_per_l  unemployment\n",
            "iqr          13.64725               0.16525       0.75525\n",
            "median       19.53350               0.79150       7.76200\n"
          ]
        }
      ]
    },
    {
      "cell_type": "code",
      "source": [
        "import pandas as pd\n",
        "\n",
        "data = {\n",
        "    'store': [1, 1, 1, 1, 1, 39, 39, 39, 39, 39],\n",
        "    'type': ['A', 'A', 'A', 'A', 'A', 'A', 'A', 'A', 'A', 'A'],\n",
        "    'department': [1, 1, 1, 1, 1, 99, 99, 99, 99, 99],\n",
        "    'date': ['2010-02-05', '2010-03-05', '2010-04-02', '2010-05-07', '2010-06-04', '2011-12-09', '2012-02-03', '2012-06-08', '2012-07-13', '2012-10-05'],\n",
        "    'weekly_sales': [24924.50, 21827.90, 57258.43, 17413.94, 17558.09, 895.00, 350.00, 450.00, 0.06, 915.00],\n",
        "    'is_holiday': [False, False, False, False, False, False, False, False, False, False],\n",
        "    'temperature_c': [5.728, 8.056, 16.817, 22.528, 27.050, 9.644, 15.939, 27.289, 25.644, 22.250],\n",
        "    'fuel_price_usd_per_l': [0.679, 0.693, 0.718, 0.749, 0.715, 0.834, 0.888, 0.912, 0.860, 0.956],\n",
        "    'unemployment': [8.106, 8.106, 7.808, 7.808, 7.808, 7.716, 7.244, 6.989, 6.623, 6.228]\n",
        "}\n",
        "\n",
        "sales = pd.DataFrame(data)\n",
        "\n",
        "\n",
        "# Sort sales_1_1 by date\n",
        "sales_1_1 = sales.sort_values('date')\n",
        "\n",
        "# Get the cumulative sum of weekly_sales, add as cum_weekly_sales col\n",
        "sales_1_1['cum_weekly_sales'] = sales['weekly_sales'].cumsum()\n",
        "\n",
        "# Get the cumulative max of weekly_sales, add as cum_max_sales col\n",
        "sales_1_1['cum_max_sales']=(sales['weekly_sales'].cummax())\n",
        "\n",
        "# See the columns you calculated\n",
        "print(sales_1_1[[\"date\", \"weekly_sales\", \"cum_weekly_sales\", \"cum_max_sales\"]])"
      ],
      "metadata": {
        "colab": {
          "base_uri": "https://localhost:8080/"
        },
        "id": "xsX82Zgfz4G7",
        "outputId": "5012e424-5399-4d01-a1b2-a8fd845300fe"
      },
      "execution_count": 10,
      "outputs": [
        {
          "output_type": "stream",
          "name": "stdout",
          "text": [
            "         date  weekly_sales  cum_weekly_sales  cum_max_sales\n",
            "0  2010-02-05      24924.50          24924.50       24924.50\n",
            "1  2010-03-05      21827.90          46752.40       24924.50\n",
            "2  2010-04-02      57258.43         104010.83       57258.43\n",
            "3  2010-05-07      17413.94         121424.77       57258.43\n",
            "4  2010-06-04      17558.09         138982.86       57258.43\n",
            "5  2011-12-09        895.00         139877.86       57258.43\n",
            "6  2012-02-03        350.00         140227.86       57258.43\n",
            "7  2012-06-08        450.00         140677.86       57258.43\n",
            "8  2012-07-13          0.06         140677.92       57258.43\n",
            "9  2012-10-05        915.00         141592.92       57258.43\n"
          ]
        }
      ]
    }
  ]
}