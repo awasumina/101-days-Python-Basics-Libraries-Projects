{
  "cells": [
    {
      "cell_type": "code",
      "execution_count": null,
      "metadata": {
        "colab": {
          "base_uri": "https://localhost:8080/"
        },
        "id": "fYmneUc00oVv",
        "outputId": "b5ee0fa5-01a0-4c68-9ea0-645202e69001"
      },
      "outputs": [
        {
          "name": "stdout",
          "output_type": "stream",
          "text": [
            "6\n",
            "25852016738884976640000\n",
            "120\n",
            "40320\n"
          ]
        }
      ],
      "source": [
        "# n!=n*(n-1)!\n",
        "def fact(n):\n",
        "  if(n==1 or n==0):\n",
        "    return 1\n",
        "  else:\n",
        "    return n*fact(n-1)\n",
        "\n",
        " \n",
        "print(fact(3))\n",
        "print(fact(23))\n",
        "print(fact(5))\n",
        "print(fact(8))"
      ]
    },
    {
      "cell_type": "code",
      "execution_count": null,
      "metadata": {
        "colab": {
          "base_uri": "https://localhost:8080/"
        },
        "id": "ZRXyct021cN6",
        "outputId": "3545725e-a55b-4d2a-d5f5-a3db2190e77e"
      },
      "outputs": [
        {
          "name": "stdout",
          "output_type": "stream",
          "text": [
            "0\n",
            "1\n",
            "1\n",
            "2\n",
            "3\n",
            "5\n",
            "8\n",
            "13\n"
          ]
        }
      ],
      "source": [
        "#  Write a program to print the Fibonacci sequence\n",
        "a=0\n",
        "b=1\n",
        "# c=a+b\n",
        "def fibo(n):\n",
        "  global a,b\n",
        "  print(a) \n",
        "  c=a+b\n",
        "  a=b\n",
        "  b=c\n",
        "\n",
        "  if((n-1)==0):\n",
        "    return\n",
        "  else:\n",
        "    return fibo(n-1)\n",
        "\n",
        "fibo(8)"
      ]
    }
  ],
  "metadata": {
    "colab": {
      "provenance": []
    },
    "kernelspec": {
      "display_name": "Python 3",
      "name": "python3"
    },
    "language_info": {
      "name": "python"
    }
  },
  "nbformat": 4,
  "nbformat_minor": 0
}
