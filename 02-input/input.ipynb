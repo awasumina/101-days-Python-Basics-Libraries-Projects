{
  "nbformat": 4,
  "nbformat_minor": 0,
  "metadata": {
    "colab": {
      "provenance": []
    },
    "kernelspec": {
      "name": "python3",
      "display_name": "Python 3"
    },
    "language_info": {
      "name": "python"
    }
  },
  "cells": [
    {
      "cell_type": "code",
      "execution_count": 1,
      "metadata": {
        "colab": {
          "base_uri": "https://localhost:8080/"
        },
        "id": "DxJJhr3gqr-g",
        "outputId": "6156698a-f869-47cd-ae43-d2f3819cbf88"
      },
      "outputs": [
        {
          "output_type": "stream",
          "name": "stdout",
          "text": [
            "hey\n",
            "hey\n"
          ]
        }
      ],
      "source": [
        "a=input()\n",
        "print(a)"
      ]
    },
    {
      "cell_type": "code",
      "source": [
        "a= input(\"enter your name:\")\n",
        "print(\"name is \" + \" \" +a)\n",
        "print(\"name is \",a)"
      ],
      "metadata": {
        "colab": {
          "base_uri": "https://localhost:8080/"
        },
        "id": "TkttgT5aqzkN",
        "outputId": "5f2e58c8-4d6a-450f-b249-7cf01257ec69"
      },
      "execution_count": 6,
      "outputs": [
        {
          "output_type": "stream",
          "name": "stdout",
          "text": [
            "enter your name:awa\n",
            "name is  awa\n",
            "name is  awa\n"
          ]
        }
      ]
    },
    {
      "cell_type": "code",
      "source": [
        "a=input(\"enter number1:\")\n",
        "b=input(\"enter number2:\")\n",
        "print(a,b)\n",
        "print(a+b)\n",
        "print(int(a)+int(b))"
      ],
      "metadata": {
        "colab": {
          "base_uri": "https://localhost:8080/"
        },
        "id": "3Fl4TJK7rQ5O",
        "outputId": "1a7e0f96-8474-4a63-cdb9-313c2c6ff2e1"
      },
      "execution_count": 10,
      "outputs": [
        {
          "output_type": "stream",
          "name": "stdout",
          "text": [
            "enter number1:23\n",
            "enter number2:11\n",
            "23 11\n",
            "2311\n",
            "34\n"
          ]
        }
      ]
    }
  ]
}