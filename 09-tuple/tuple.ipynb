{
  "cells": [
    {
      "cell_type": "code",
      "execution_count": 3,
      "metadata": {
        "colab": {
          "base_uri": "https://localhost:8080/"
        },
        "id": "3geutIce-Wku",
        "outputId": "7bfd71e9-026e-48f2-fa92-6438dc9ee909"
      },
      "outputs": [
        {
          "name": "stdout",
          "output_type": "stream",
          "text": [
            "(5, 'miss', True)\n",
            "<class 'tuple'>\n",
            "5\n",
            "<class 'int'>\n",
            "<class 'tuple'>\n"
          ]
        }
      ],
      "source": [
        "t=(5,\"miss\",True)\n",
        "print(t)\n",
        "print(type(t))\n",
        "\n",
        "t=(5)   #<class 'int'> , if it is tuple do t=(5,)\n",
        "t1=(5,)   #<class 'tuple'>\n",
        "print(t)\n",
        "print(type(t))\n",
        "print(type(t1))"
      ]
    },
    {
      "cell_type": "code",
      "execution_count": null,
      "metadata": {
        "id": "eBtBbfd2_N00"
      },
      "outputs": [],
      "source": [
        "#immutable \n",
        "#sequence data type"
      ]
    },
    {
      "cell_type": "code",
      "execution_count": 4,
      "metadata": {
        "colab": {
          "base_uri": "https://localhost:8080/"
        },
        "id": "6pfsc_Ag_Q-i",
        "outputId": "a21ea677-175c-4380-e084-92b9cff9e04b"
      },
      "outputs": [
        {
          "name": "stdout",
          "output_type": "stream",
          "text": [
            "5 present\n"
          ]
        }
      ],
      "source": [
        "t=(5,\"miss\",True)\n",
        "if 5 in t:\n",
        "  print(\"5 present\")"
      ]
    },
    {
      "cell_type": "code",
      "execution_count": 6,
      "metadata": {
        "colab": {
          "base_uri": "https://localhost:8080/"
        },
        "id": "QheSvA8P_z37",
        "outputId": "3278ebf9-235a-47f3-e814-7845b7b6f35a"
      },
      "outputs": [
        {
          "name": "stdout",
          "output_type": "stream",
          "text": [
            "('miss', True, 5, 3, 52)\n"
          ]
        }
      ],
      "source": [
        "t=(5,\"miss\",True,5,3,52)\n",
        "print(t[1:6]) "
      ]
    },
    {
      "cell_type": "code",
      "execution_count": 7,
      "metadata": {
        "colab": {
          "base_uri": "https://localhost:8080/"
        },
        "id": "B9jUf-S4ACj0",
        "outputId": "eef5e5d5-236e-47a1-c232-4ef5c7ee6525"
      },
      "outputs": [
        {
          "name": "stdout",
          "output_type": "stream",
          "text": [
            "(2, 4, 6, 8, 1, 3, 5, 7)\n"
          ]
        }
      ],
      "source": [
        "#tuples being immutable, for any changes need to be converted to list\n",
        "#concatenating is possiple in tuple\n",
        "\n",
        "even=(2,4,6,8)\n",
        "odd=(1,3,5,7)\n",
        "num=even + odd\n",
        "print(num)"
      ]
    },
    {
      "cell_type": "code",
      "execution_count": 12,
      "metadata": {
        "colab": {
          "base_uri": "https://localhost:8080/"
        },
        "id": "I0Ggxpd0Ahh2",
        "outputId": "9b589dea-cbc6-41de-b96b-65a95257762d"
      },
      "outputs": [
        {
          "name": "stdout",
          "output_type": "stream",
          "text": [
            "2\n",
            "8\n",
            "8\n"
          ]
        }
      ],
      "source": [
        "t=(2,4,1,4,6,3,1,6,7)\n",
        "\n",
        "print(t.count(4))\n",
        "\n",
        "print(t.index(7))\n",
        "print(t.index(7,1,9))   #(element,start,end)\n",
        "\n"
      ]
    }
  ],
  "metadata": {
    "colab": {
      "provenance": []
    },
    "kernelspec": {
      "display_name": "Python 3",
      "name": "python3"
    },
    "language_info": {
      "name": "python"
    }
  },
  "nbformat": 4,
  "nbformat_minor": 0
}
