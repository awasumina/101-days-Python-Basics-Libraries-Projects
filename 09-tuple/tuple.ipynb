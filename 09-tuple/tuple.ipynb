{
  "nbformat": 4,
  "nbformat_minor": 0,
  "metadata": {
    "colab": {
      "provenance": []
    },
    "kernelspec": {
      "name": "python3",
      "display_name": "Python 3"
    },
    "language_info": {
      "name": "python"
    }
  },
  "cells": [
    {
      "cell_type": "code",
      "execution_count": 3,
      "metadata": {
        "colab": {
          "base_uri": "https://localhost:8080/"
        },
        "id": "3geutIce-Wku",
        "outputId": "7bfd71e9-026e-48f2-fa92-6438dc9ee909"
      },
      "outputs": [
        {
          "output_type": "stream",
          "name": "stdout",
          "text": [
            "(5, 'miss', True)\n",
            "<class 'tuple'>\n",
            "5\n",
            "<class 'int'>\n",
            "<class 'tuple'>\n"
          ]
        }
      ],
      "source": [
        "t=(5,\"miss\",True)\n",
        "print(t)\n",
        "print(type(t))\n",
        "\n",
        "t=(5)   #<class 'int'> , if it is tuple do t=(5,)\n",
        "t1=(5,)   #<class 'tuple'>\n",
        "print(t)\n",
        "print(type(t))\n",
        "print(type(t1))"
      ]
    },
    {
      "cell_type": "code",
      "source": [
        "#immutable\n",
        "#sequence data type"
      ],
      "metadata": {
        "id": "eBtBbfd2_N00"
      },
      "execution_count": null,
      "outputs": []
    },
    {
      "cell_type": "code",
      "source": [
        "t=(5,\"miss\",True)\n",
        "if 5 in t:\n",
        "  print(\"5 present\")"
      ],
      "metadata": {
        "colab": {
          "base_uri": "https://localhost:8080/"
        },
        "id": "6pfsc_Ag_Q-i",
        "outputId": "a21ea677-175c-4380-e084-92b9cff9e04b"
      },
      "execution_count": 4,
      "outputs": [
        {
          "output_type": "stream",
          "name": "stdout",
          "text": [
            "5 present\n"
          ]
        }
      ]
    },
    {
      "cell_type": "code",
      "source": [
        "t=(5,\"miss\",True,5,3,52)\n",
        "print(t[1:6])"
      ],
      "metadata": {
        "colab": {
          "base_uri": "https://localhost:8080/"
        },
        "id": "QheSvA8P_z37",
        "outputId": "3278ebf9-235a-47f3-e814-7845b7b6f35a"
      },
      "execution_count": 6,
      "outputs": [
        {
          "output_type": "stream",
          "name": "stdout",
          "text": [
            "('miss', True, 5, 3, 52)\n"
          ]
        }
      ]
    },
    {
      "cell_type": "code",
      "source": [
        "#tuples being immutable, for any changes need to be converted to list\n",
        "#concatenating is possiple in tuple\n",
        "\n",
        "even=(2,4,6,8)\n",
        "odd=(1,3,5,7)\n",
        "num=even + odd\n",
        "print(num)"
      ],
      "metadata": {
        "colab": {
          "base_uri": "https://localhost:8080/"
        },
        "id": "B9jUf-S4ACj0",
        "outputId": "eef5e5d5-236e-47a1-c232-4ef5c7ee6525"
      },
      "execution_count": 7,
      "outputs": [
        {
          "output_type": "stream",
          "name": "stdout",
          "text": [
            "(2, 4, 6, 8, 1, 3, 5, 7)\n"
          ]
        }
      ]
    },
    {
      "cell_type": "code",
      "source": [
        "t=(2,4,1,4,6,3,1,6,7)\n",
        "\n",
        "print(t.count(4))\n",
        "\n",
        "print(t.index(7))\n",
        "print(t.index(7,1,9))   #(element,start,end)\n",
        "\n"
      ],
      "metadata": {
        "colab": {
          "base_uri": "https://localhost:8080/"
        },
        "id": "I0Ggxpd0Ahh2",
        "outputId": "9b589dea-cbc6-41de-b96b-65a95257762d"
      },
      "execution_count": 12,
      "outputs": [
        {
          "output_type": "stream",
          "name": "stdout",
          "text": [
            "2\n",
            "8\n",
            "8\n"
          ]
        }
      ]
    }
  ]
}