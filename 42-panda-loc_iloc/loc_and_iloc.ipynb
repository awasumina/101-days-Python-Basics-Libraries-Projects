{
  "nbformat": 4,
  "nbformat_minor": 0,
  "metadata": {
    "colab": {
      "provenance": []
    },
    "kernelspec": {
      "name": "python3",
      "display_name": "Python 3"
    },
    "language_info": {
      "name": "python"
    }
  },
  "cells": [
    {
      "cell_type": "code",
      "source": [
        "cars\n",
        "#      cars_per_cap        country  drives_right\n",
        "# US            809  United States          True\n",
        "# AUS           731      Australia         False\n",
        "# JPN           588          Japan         False\n",
        "# IN             18          India         False\n",
        "# RU            200         Russia          True\n",
        "# MOR            70        Morocco          True\n",
        "# EG             45          Egypt          True"
      ],
      "metadata": {
        "id": "HrCrB6G63Kn5"
      },
      "execution_count": null,
      "outputs": []
    },
    {
      "cell_type": "code",
      "source": [
        "# Import cars data\n",
        "import pandas as pd\n",
        "cars = pd.read_csv('cars.csv', index_col = 0)\n",
        "\n",
        "# Print out country column as Pandas Series\n",
        "print(cars['country'])\n",
        "\n",
        "# Print out country column as Pandas DataFrame\n",
        "print(cars[['country']])\n",
        "\n",
        "# Print out DataFrame with country and drives_right columns\n",
        "print(cars[['country',\"drives_right\"]])"
      ],
      "metadata": {
        "id": "Cq4hGmZz3Lu5"
      },
      "execution_count": null,
      "outputs": []
    },
    {
      "cell_type": "code",
      "source": [
        "# Import cars data\n",
        "import pandas as pd\n",
        "cars = pd.read_csv('cars.csv', index_col = 0)\n",
        "\n",
        "# Print out first 3 observations\n",
        "print(cars[0:3])\n",
        "\n",
        "# Print out fourth, fifth and sixth observation\n",
        "print(cars[3:6])"
      ],
      "metadata": {
        "id": "ctxuBdE22ghm"
      },
      "execution_count": null,
      "outputs": []
    },
    {
      "cell_type": "code",
      "source": [
        "# Import cars data\n",
        "import pandas as pd\n",
        "cars = pd.read_csv('cars.csv', index_col = 0)\n",
        "\n",
        "# Print out observation for Japan\n",
        "print(cars.loc[\"JPN\"])\n",
        "\n",
        "# Print out observations for Australia and Egypt\n",
        "print(cars.iloc[[1,6]])"
      ],
      "metadata": {
        "id": "1N_jNHv32xwZ"
      },
      "execution_count": null,
      "outputs": []
    },
    {
      "cell_type": "code",
      "source": [
        "# Import cars data\n",
        "import pandas as pd\n",
        "cars = pd.read_csv('cars.csv', index_col = 0)\n",
        "\n",
        "# Print out drives_right value of Morocco\n",
        "print(cars.iloc[[5],[2]])\n",
        "\n",
        "# Print sub-DataFrame\n",
        "print(cars.loc[['RU', 'MOR'], ['country', 'drives_right']])"
      ],
      "metadata": {
        "id": "Xz_PxqhZ3eX7"
      },
      "execution_count": null,
      "outputs": []
    },
    {
      "cell_type": "code",
      "source": [
        "# Import cars data\n",
        "import pandas as pd\n",
        "cars = pd.read_csv('cars.csv', index_col = 0)\n",
        "\n",
        "# Print out drives_right column as Series\n",
        "print(cars.iloc[:,[2]])\n",
        "\n",
        "# Print out drives_right column as DataFrame\n",
        "print(cars.iloc[:,2])\n",
        "\n",
        "# Print out cars_per_cap and drives_right as DataFrame\n",
        "print(cars.iloc[:,[0,2]])\n"
      ],
      "metadata": {
        "id": "e9UlKGYH4yFB"
      },
      "execution_count": null,
      "outputs": []
    }
  ]
}