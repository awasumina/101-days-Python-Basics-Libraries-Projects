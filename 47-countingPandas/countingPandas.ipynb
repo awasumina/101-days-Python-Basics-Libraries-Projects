{
  "cells": [
    {
      "cell_type": "code",
      "execution_count": 1,
      "metadata": {
        "colab": {
          "base_uri": "https://localhost:8080/"
        },
        "id": "eU6W2_vR1X-a",
        "outputId": "87e6a437-dff8-49ab-c1f5-33f159f78e03"
      },
      "outputs": [
        {
          "name": "stdout",
          "output_type": "stream",
          "text": [
            "   store type  department        date  weekly_sales  is_holiday  \\\n",
            "0      1    A           1  2010-02-05       24924.5       False   \n",
            "5     39    A          99  2011-12-09         895.0       False   \n",
            "\n",
            "   temperature_c  fuel_price_usd_per_l  unemployment  \n",
            "0          5.728                 0.679         8.106  \n",
            "5          9.644                 0.834         7.716  \n",
            "   store type  department        date  weekly_sales  is_holiday  \\\n",
            "0      1    A           1  2010-02-05       24924.5       False   \n",
            "5     39    A          99  2011-12-09         895.0       False   \n",
            "\n",
            "   temperature_c  fuel_price_usd_per_l  unemployment  \n",
            "0          5.728                 0.679         8.106  \n",
            "5          9.644                 0.834         7.716  \n",
            "Series([], Name: date, dtype: object)\n"
          ]
        }
      ],
      "source": [
        "import pandas as pd\n",
        "\n",
        "data = {\n",
        "    'store': [1, 1, 1, 1, 1, 39, 39, 39, 39, 39],\n",
        "    'type': ['A', 'A', 'A', 'A', 'A', 'A', 'A', 'A', 'A', 'A'],\n",
        "    'department': [1, 1, 1, 1, 1, 99, 99, 99, 99, 99],\n",
        "    'date': ['2010-02-05', '2010-03-05', '2010-04-02', '2010-05-07', '2010-06-04', '2011-12-09', '2012-02-03', '2012-06-08', '2012-07-13', '2012-10-05'],\n",
        "    'weekly_sales': [24924.50, 21827.90, 57258.43, 17413.94, 17558.09, 895.00, 350.00, 450.00, 0.06, 915.00],\n",
        "    'is_holiday': [False, False, False, False, False, False, False, False, False, False],\n",
        "    'temperature_c': [5.728, 8.056, 16.817, 22.528, 27.050, 9.644, 15.939, 27.289, 25.644, 22.250],\n",
        "    'fuel_price_usd_per_l': [0.679, 0.693, 0.718, 0.749, 0.715, 0.834, 0.888, 0.912, 0.860, 0.956],\n",
        "    'unemployment': [8.106, 8.106, 7.808, 7.808, 7.808, 7.716, 7.244, 6.989, 6.623, 6.228]\n",
        "}\n",
        "\n",
        "sales = pd.DataFrame(data)\n",
        "\n",
        "\n",
        "# Drop duplicate store/type combinations\n",
        "store_types = sales.drop_duplicates(subset=[\"store\",\"type\"])\n",
        "print(store_types.head())\n",
        "\n",
        "# Drop duplicate store/department combinations\n",
        "store_depts = sales.drop_duplicates(subset=[\"store\",\"department\"])\n",
        "print(store_depts.head())\n",
        "\n",
        "# Subset the rows where is_holiday is True and drop duplicate dates\n",
        "holiday_dates = sales[sales['is_holiday']].drop_duplicates(subset=['date'])\n",
        "\n",
        "# Print date col of holiday_dates\n",
        "print(holiday_dates['date'])\n"
      ]
    },
    {
      "cell_type": "code",
      "execution_count": 2,
      "metadata": {
        "colab": {
          "base_uri": "https://localhost:8080/"
        },
        "id": "Ny1QNXXh2uu6",
        "outputId": "d3132cd5-db26-4c5d-97b9-dd5a7cdea001"
      },
      "outputs": [
        {
          "name": "stdout",
          "output_type": "stream",
          "text": [
            "type\n",
            "A    11\n",
            "B     1\n",
            "Name: count, dtype: int64\n",
            "type\n",
            "A    0.916667\n",
            "B    0.083333\n",
            "Name: proportion, dtype: float64\n",
            "department\n",
            "1      1\n",
            "625    1\n",
            "613    1\n",
            "614    1\n",
            "615    1\n",
            "      ..\n",
            "315    1\n",
            "316    1\n",
            "317    1\n",
            "318    1\n",
            "929    1\n",
            "Name: count, Length: 929, dtype: int64\n",
            "department\n",
            "1      0.001076\n",
            "625    0.001076\n",
            "613    0.001076\n",
            "614    0.001076\n",
            "615    0.001076\n",
            "         ...   \n",
            "315    0.001076\n",
            "316    0.001076\n",
            "317    0.001076\n",
            "318    0.001076\n",
            "929    0.001076\n",
            "Name: proportion, Length: 929, dtype: float64\n"
          ]
        }
      ],
      "source": [
        "import pandas as pd\n",
        "\n",
        "store_types_data = {\n",
        "    'store': [1, 2, 4, 6, 10, 13, 14, 19, 20, 27, 31, 39],\n",
        "    'type': ['A', 'A', 'A', 'A', 'B', 'A', 'A', 'A', 'A', 'A', 'A', 'A'],\n",
        "    'department': [1, 1, 1, 1, 1, 1, 1, 1, 1, 1, 1, 1],\n",
        "    'date': pd.to_datetime(['2010-02-05'] * 12),\n",
        "    'weekly_sales': [24924.50, 35034.06, 38724.42, 25619.00, 40212.84, 46761.90, 32842.31, 21500.58, 46021.21, 32313.79, 18187.71, 21244.50],\n",
        "    'is_holiday': [False] * 12,\n",
        "    'temperature_c': [5.728, 4.550, 6.533, 4.683, 12.411, -0.261, -2.606, -6.133, -3.378, -2.672, 3.917, 6.833],\n",
        "    'fuel_price_usd_per_l': [0.679] * 12,\n",
        "    'unemployment': [8.106] * 12\n",
        "}\n",
        "\n",
        "store_depts_data = {\n",
        "    'store': [1] * 929,\n",
        "    'type': ['A'] * 929,\n",
        "    'department': list(range(1, 930)),\n",
        "    'date': pd.to_datetime(['2010-02-05'] * 929),\n",
        "    'weekly_sales': [24924.50] * 929,\n",
        "    'is_holiday': [False] * 929,\n",
        "    'temperature_c': [5.728] * 929,\n",
        "    'fuel_price_usd_per_l': [0.679] * 929,\n",
        "    'unemployment': [8.106] * 929\n",
        "}\n",
        "\n",
        "store_types = pd.DataFrame(store_types_data)\n",
        "\n",
        "store_depts = pd.DataFrame(store_depts_data)\n",
        "\n",
        "\n",
        "# Count the number of stores of each type\n",
        "store_counts = store_types[\"type\"].value_counts()\n",
        "print(store_counts)\n",
        "\n",
        "# Get the proportion of stores of each type\n",
        "store_props = store_types[\"type\"].value_counts(normalize=True)\n",
        "print(store_props)\n",
        "\n",
        "# Count the number of each department number and sort\n",
        "dept_counts_sorted = store_depts[\"department\"].value_counts(sort=True)\n",
        "print(dept_counts_sorted)\n",
        "    \n",
        "# Get the proportion of departments of each number and sort\n",
        "dept_props_sorted = store_depts[\"department\"].value_counts(sort=True, normalize=True)\n",
        "print(dept_props_sorted)\n",
        "\n",
        "\n"
      ]
    }
  ],
  "metadata": {
    "colab": {
      "provenance": []
    },
    "kernelspec": {
      "display_name": "Python 3",
      "name": "python3"
    },
    "language_info": {
      "name": "python"
    }
  },
  "nbformat": 4,
  "nbformat_minor": 0
}
