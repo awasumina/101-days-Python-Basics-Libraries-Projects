{
  "nbformat": 4,
  "nbformat_minor": 0,
  "metadata": {
    "colab": {
      "provenance": []
    },
    "kernelspec": {
      "name": "python3",
      "display_name": "Python 3"
    },
    "language_info": {
      "name": "python"
    }
  },
  "cells": [
    {
      "cell_type": "code",
      "execution_count": 1,
      "metadata": {
        "colab": {
          "base_uri": "https://localhost:8080/"
        },
        "id": "2Bzu2v1sjykF",
        "outputId": "2c7d6e59-80db-434d-d208-30f28a09b9e3"
      },
      "outputs": [
        {
          "output_type": "stream",
          "name": "stdout",
          "text": [
            "      weekly_sales\n",
            "type              \n",
            "A        27796.572\n",
            "B          565.000\n",
            "C          457.530\n"
          ]
        }
      ],
      "source": [
        "import pandas as pd\n",
        "\n",
        "data = {\n",
        "    'store': [1, 1, 1, 1, 1, 39, 39, 39, 39, 39],\n",
        "    'type': ['A', 'A', 'A', 'A', 'A', 'B', 'B', 'B', 'C', 'C'],\n",
        "    'department': [1, 1, 1, 1, 1, 99, 99, 99, 99, 99],\n",
        "    'date': ['2010-02-05', '2010-03-05', '2010-04-02', '2010-05-07', '2010-06-04',\n",
        "             '2011-12-09', '2012-02-03', '2012-06-08', '2012-07-13', '2012-10-05'],\n",
        "    'weekly_sales': [24924.50, 21827.90, 57258.43, 17413.94, 17558.09,\n",
        "                     895.00, 350.00, 450.00, 0.06, 915.00],\n",
        "    'is_holiday': [False, False, False, False, False, False, False, False, False, False],\n",
        "    'temperature_c': [5.728, 8.056, 16.817, 22.528, 27.050,\n",
        "                      9.644, 15.939, 27.289, 25.644, 22.250],\n",
        "    'fuel_price_usd_per_l': [0.679, 0.693, 0.718, 0.749, 0.715,\n",
        "                             0.834, 0.888, 0.912, 0.860, 0.956],\n",
        "    'unemployment': [8.106, 8.106, 7.808, 7.808, 7.808,\n",
        "                     7.716, 7.244, 6.989, 6.623, 6.228]\n",
        "}\n",
        "sales = pd.DataFrame(data)\n",
        "\n",
        "# Pivot for mean weekly_sales for each store type\n",
        "mean_sales_by_type = sales.pivot_table(values=\"weekly_sales\",index='type')\n",
        "\n",
        "# Print mean_sales_by_type\n",
        "print(mean_sales_by_type)"
      ]
    },
    {
      "cell_type": "code",
      "source": [
        "import pandas as pd\n",
        "\n",
        "data = {\n",
        "    'store': [1, 1, 1, 1, 1, 39, 39, 39, 39, 39],\n",
        "    'type': ['A', 'A', 'A', 'A', 'A', 'B', 'B', 'B', 'C', 'C'],\n",
        "    'department': [1, 1, 1, 1, 1, 99, 99, 99, 99, 99],\n",
        "    'date': ['2010-02-05', '2010-03-05', '2010-04-02', '2010-05-07', '2010-06-04',\n",
        "             '2011-12-09', '2012-02-03', '2012-06-08', '2012-07-13', '2012-10-05'],\n",
        "    'weekly_sales': [24924.50, 21827.90, 57258.43, 17413.94, 17558.09,\n",
        "                     895.00, 350.00, 450.00, 0.06, 915.00],\n",
        "    'is_holiday': [False, False, False, False, False, False, False, False, False, False],\n",
        "    'temperature_c': [5.728, 8.056, 16.817, 22.528, 27.050,\n",
        "                      9.644, 15.939, 27.289, 25.644, 22.250],\n",
        "    'fuel_price_usd_per_l': [0.679, 0.693, 0.718, 0.749, 0.715,\n",
        "                             0.834, 0.888, 0.912, 0.860, 0.956],\n",
        "    'unemployment': [8.106, 8.106, 7.808, 7.808, 7.808,\n",
        "                     7.716, 7.244, 6.989, 6.623, 6.228]\n",
        "}\n",
        "sales = pd.DataFrame(data)\n",
        "\n",
        "# Import NumPy as np\n",
        "import numpy as np\n",
        "\n",
        "# Pivot for mean and median weekly_sales for each store type\n",
        "mean_med_sales_by_type = sales.pivot_table(values=\"weekly_sales\",index=\"type\",aggfunc=[np.mean,np.median])\n",
        "\n",
        "# Print mean_med_sales_by_type\n",
        "print(mean_med_sales_by_type)"
      ],
      "metadata": {
        "colab": {
          "base_uri": "https://localhost:8080/"
        },
        "id": "YH5qR7kuj3tR",
        "outputId": "b6121ab7-f0dd-407d-9c8d-6933c8146c9d"
      },
      "execution_count": 2,
      "outputs": [
        {
          "output_type": "stream",
          "name": "stdout",
          "text": [
            "             mean       median\n",
            "     weekly_sales weekly_sales\n",
            "type                          \n",
            "A       27796.572     21827.90\n",
            "B         565.000       450.00\n",
            "C         457.530       457.53\n"
          ]
        }
      ]
    },
    {
      "cell_type": "code",
      "source": [
        "import pandas as pd\n",
        "\n",
        "data = {\n",
        "    'store': [1, 1, 1, 1, 1, 39, 39, 39, 39, 39],\n",
        "    'type': ['A', 'A', 'A', 'A', 'A', 'B', 'B', 'B', 'C', 'C'],\n",
        "    'department': [1, 1, 1, 1, 1, 99, 99, 99, 99, 99],\n",
        "    'date': ['2010-02-05', '2010-03-05', '2010-04-02', '2010-05-07', '2010-06-04',\n",
        "             '2011-12-09', '2012-02-03', '2012-06-08', '2012-07-13', '2012-10-05'],\n",
        "    'weekly_sales': [24924.50, 21827.90, 57258.43, 17413.94, 17558.09,\n",
        "                     895.00, 350.00, 450.00, 0.06, 915.00],\n",
        "    'is_holiday': [False, False, False, False, False, False, False, False, False, False],\n",
        "    'temperature_c': [5.728, 8.056, 16.817, 22.528, 27.050,\n",
        "                      9.644, 15.939, 27.289, 25.644, 22.250],\n",
        "    'fuel_price_usd_per_l': [0.679, 0.693, 0.718, 0.749, 0.715,\n",
        "                             0.834, 0.888, 0.912, 0.860, 0.956],\n",
        "    'unemployment': [8.106, 8.106, 7.808, 7.808, 7.808,\n",
        "                     7.716, 7.244, 6.989, 6.623, 6.228]\n",
        "}\n",
        "sales = pd.DataFrame(data)\n",
        "\n",
        "# Pivot for mean weekly_sales by store type and holiday\n",
        "mean_sales_by_type_holiday = sales.pivot_table(values=\"weekly_sales\",index=\"type\", columns=\"is_holiday\")\n",
        "\n",
        "# Print mean_sales_by_type_holiday\n",
        "print(mean_sales_by_type_holiday)"
      ],
      "metadata": {
        "colab": {
          "base_uri": "https://localhost:8080/"
        },
        "id": "OowTjqJMj42R",
        "outputId": "43a24c84-7a68-43e5-a456-253bd9dd2651"
      },
      "execution_count": 3,
      "outputs": [
        {
          "output_type": "stream",
          "name": "stdout",
          "text": [
            "is_holiday      False\n",
            "type                 \n",
            "A           27796.572\n",
            "B             565.000\n",
            "C             457.530\n"
          ]
        }
      ]
    },
    {
      "cell_type": "code",
      "source": [
        "import pandas as pd\n",
        "\n",
        "data = {\n",
        "    'store': [1, 1, 1, 1, 1, 39, 39, 39, 39, 39],\n",
        "    'type': ['A', 'A', 'A', 'A', 'A', 'B', 'B', 'B', 'C', 'C'],\n",
        "    'department': [1, 1, 1, 1, 1, 99, 99, 99, 99, 99],\n",
        "    'date': ['2010-02-05', '2010-03-05', '2010-04-02', '2010-05-07', '2010-06-04',\n",
        "             '2011-12-09', '2012-02-03', '2012-06-08', '2012-07-13', '2012-10-05'],\n",
        "    'weekly_sales': [24924.50, 21827.90, 57258.43, 17413.94, 17558.09,\n",
        "                     895.00, 350.00, 450.00, 0.06, 915.00],\n",
        "    'is_holiday': [False, False, False, False, False, False, False, False, False, False],\n",
        "    'temperature_c': [5.728, 8.056, 16.817, 22.528, 27.050,\n",
        "                      9.644, 15.939, 27.289, 25.644, 22.250],\n",
        "    'fuel_price_usd_per_l': [0.679, 0.693, 0.718, 0.749, 0.715,\n",
        "                             0.834, 0.888, 0.912, 0.860, 0.956],\n",
        "    'unemployment': [8.106, 8.106, 7.808, 7.808, 7.808,\n",
        "                     7.716, 7.244, 6.989, 6.623, 6.228]\n",
        "}\n",
        "sales = pd.DataFrame(data)\n",
        "\n",
        "# Print mean weekly_sales by department and type; fill missing values with 0\n",
        "print(sales.pivot_table(values=\"weekly_sales\",index=\"department\",columns=\"type\",fill_value=0))\n",
        "\n",
        "# Print the mean weekly_sales by department and type; fill missing values with 0s; sum all rows and cols\n",
        "print(sales.pivot_table(values=\"weekly_sales\", index=\"department\", columns=\"type\", fill_value=0,margins=True))\n",
        "\n"
      ],
      "metadata": {
        "colab": {
          "base_uri": "https://localhost:8080/"
        },
        "id": "lTHiKBT9k77k",
        "outputId": "efecd959-ea47-4e8e-f2f7-bf1795ef1e8f"
      },
      "execution_count": 4,
      "outputs": [
        {
          "output_type": "stream",
          "name": "stdout",
          "text": [
            "type                A    B       C\n",
            "department                        \n",
            "1           27796.572    0    0.00\n",
            "99              0.000  565  457.53\n",
            "type                A    B       C        All\n",
            "department                                   \n",
            "1           27796.572    0    0.00  27796.572\n",
            "99              0.000  565  457.53    522.012\n",
            "All         27796.572  565  457.53  14159.292\n"
          ]
        }
      ]
    }
  ]
}