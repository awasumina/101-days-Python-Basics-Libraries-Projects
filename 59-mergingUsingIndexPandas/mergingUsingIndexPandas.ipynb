{
  "nbformat": 4,
  "nbformat_minor": 0,
  "metadata": {
    "colab": {
      "provenance": []
    },
    "kernelspec": {
      "name": "python3",
      "display_name": "Python 3"
    },
    "language_info": {
      "name": "python"
    }
  },
  "cells": [
    {
      "cell_type": "code",
      "execution_count": 4,
      "metadata": {
        "colab": {
          "base_uri": "https://localhost:8080/"
        },
        "id": "hoOVIIanyo7e",
        "outputId": "91b0a6ad-8d95-4b68-e630-c326d889ea6a"
      },
      "outputs": [
        {
          "output_type": "stream",
          "name": "stdout",
          "text": [
            "      id                 title  popularity release_date  vote_average  \\\n",
            "0  14290  Better Luck Tomorrow       3.877   2002-01-12           6.1   \n",
            "1  12819       Alpha and Omega      12.301   2010-09-17           6.6   \n",
            "2  73873          Albert Nobbs       7.802   2011-12-21           7.0   \n",
            "\n",
            "   vote_count  \n",
            "0      2124.0  \n",
            "1       238.0  \n",
            "2         6.0  \n"
          ]
        }
      ],
      "source": [
        "import pandas as pd\n",
        "\n",
        "movie_data = {\n",
        "    'id': [257, 14290, 38365, 9672, 12819, 3089, 11934, 13807, 73873, 11622],\n",
        "    'title': ['Oliver Twist', 'Better Luck Tomorrow', 'Grown Ups', 'Infamous', 'Alpha and Omega', 'Red River', 'The Hudsucker Proxy', 'Exiled', 'Albert Nobbs', 'Blast from the Past'],\n",
        "    'popularity': [20.416, 3.877, 38.864, 3.681, 12.301, 5.345, 14.189, 8.486, 7.802, 8.737],\n",
        "    'release_date': ['2005-09-23', '2002-01-12', '2010-06-24', '2006-11-16', '2010-09-17', '1948-08-26', '1994-03-11', '2006-09-06', '2011-12-21', '1999-02-12']\n",
        "}\n",
        "\n",
        "movies = pd.DataFrame(movie_data)\n",
        "\n",
        "ratings_data = {\n",
        "    'id': [19995, 285, 20142906647, 49026, 14290, 12819, 72766, 73873, 126186, 25975],\n",
        "    'vote_average': [7.2, 6.9, 6.3, 7.6, 6.1, 6.6, 5.9, 7.0, 5.7, 6.3],\n",
        "    'vote_count': [11800.0, 4500.0, 4466.0, 9106.0, 2124.0, 238.0, 5.0, 6.0, 7.0, 16.0]\n",
        "}\n",
        "\n",
        "# Create the DataFrame\n",
        "ratings = pd.DataFrame(ratings_data)\n",
        "\n",
        "\n",
        "# Merge to the movies table the ratings table on the index\n",
        "movies_ratings = movies.merge(ratings, on='id')\n",
        "\n",
        "# Print the first few rows of movies_ratings\n",
        "print(movies_ratings.head())"
      ]
    },
    {
      "cell_type": "code",
      "source": [
        "import pandas as pd\n",
        "\n",
        "sequels_data = {\n",
        "    'id': [19995, 862, 863, 597, 24428, 133931, 309503, 34592, 206213, 185567],\n",
        "    'title': ['Avatar', 'Toy Story', 'Toy Story 2', 'Titanic', 'The Avengers', 'Zambezia', 'Zipper', 'ZMD: Zombies of Mass Destruction', 'Zombie Hunter', 'Zulu'],\n",
        "    'sequel': [pd.NA, 863, 10193, pd.NA, pd.NA, pd.NA, pd.NA, pd.NA, pd.NA, pd.NA]\n",
        "}\n",
        "\n",
        "sequels = pd.DataFrame(sequels_data)\n",
        "\n",
        "financials_data = {\n",
        "    'id': [19995, 285, 309503, 49026, 862, 2292, 692, 36095, 14337, 9367],\n",
        "    'budget': [237000000, 300000000, 245000000, 250000000, 260000000, 27000, 12000, 20000, 7000, 220000],\n",
        "    'revenue': [2.788e9, 9.61e8, 8.807e8, 1.085e9, 2.841e8, 3.151e6, 6e6, 9.9e4, 4.248e5, 2.041e6]\n",
        "}\n",
        "\n",
        "# Create the DataFrame\n",
        "financials = pd.DataFrame(financials_data)\n",
        "\n",
        "\n",
        "# Merge sequels and financials on index id\n",
        "sequels_fin = sequels.merge(financials, on='id', how='left')\n",
        "print(sequels_fin)\n",
        "\n",
        "# Self merge with suffixes as inner join with left on sequel and right on id\n",
        "orig_seq = sequels_fin.merge(sequels_fin, how='inner', left_on='sequel',\n",
        "                             right_on='id', right_index=True,\n",
        "                             suffixes=('_org','_seq'))\n",
        "print(orig_seq)\n",
        "\n",
        "# Add calculation to subtract revenue_org from revenue_seq\n",
        "orig_seq['diff'] = orig_seq['revenue_seq'] - orig_seq['revenue_org']\n",
        "\n",
        "# Select the title_org, title_seq, and diff\n",
        "titles_diff = orig_seq[['title_org','title_seq','diff']]\n",
        "\n",
        "# Print the first rows of the sorted titles_diff\n",
        "print(titles_diff.sort_values('diff',ascending=False).head())"
      ],
      "metadata": {
        "colab": {
          "base_uri": "https://localhost:8080/"
        },
        "id": "T9C1IM_Tz7g2",
        "outputId": "015d1390-a240-4609-baee-a733bf4f9f37"
      },
      "execution_count": 7,
      "outputs": [
        {
          "output_type": "stream",
          "name": "stdout",
          "text": [
            "       id                             title sequel       budget       revenue\n",
            "0   19995                            Avatar   <NA>  237000000.0  2.788000e+09\n",
            "1     862                         Toy Story    863  260000000.0  2.841000e+08\n",
            "2     863                       Toy Story 2  10193          NaN           NaN\n",
            "3     597                           Titanic   <NA>          NaN           NaN\n",
            "4   24428                      The Avengers   <NA>          NaN           NaN\n",
            "5  133931                          Zambezia   <NA>          NaN           NaN\n",
            "6  309503                            Zipper   <NA>  245000000.0  8.807000e+08\n",
            "7   34592  ZMD: Zombies of Mass Destruction   <NA>          NaN           NaN\n",
            "8  206213                     Zombie Hunter   <NA>          NaN           NaN\n",
            "9  185567                              Zulu   <NA>          NaN           NaN\n",
            "Empty DataFrame\n",
            "Columns: [sequel, id_org, title_org, sequel_org, budget_org, revenue_org, id_seq, title_seq, sequel_seq, budget_seq, revenue_seq]\n",
            "Index: []\n",
            "Empty DataFrame\n",
            "Columns: [title_org, title_seq, diff]\n",
            "Index: []\n"
          ]
        }
      ]
    }
  ]
}