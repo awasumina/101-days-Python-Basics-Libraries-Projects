{
  "nbformat": 4,
  "nbformat_minor": 0,
  "metadata": {
    "colab": {
      "provenance": []
    },
    "kernelspec": {
      "name": "python3",
      "display_name": "Python 3"
    },
    "language_info": {
      "name": "python"
    }
  },
  "cells": [
    {
      "cell_type": "code",
      "source": [
        "# You aren't stuck with just the data you are given. Instead, you can add new columns to a DataFrame. This has many names, such as transforming, mutating, and feature engineering.\n",
        "\n",
        "# You can create new columns from scratch, but it is also common to derive them from other columns, for example, by adding columns together or by changing their units\n"
      ],
      "metadata": {
        "id": "VmCSffWDdXCN"
      },
      "execution_count": null,
      "outputs": []
    },
    {
      "cell_type": "code",
      "source": [
        "import pandas as pd\n",
        "\n",
        "\n",
        "homelessness = pd.DataFrame({\n",
        "    'region': ['East South Central', 'Pacific', 'Mountain', 'West South Central', 'Pacific', 'Mountain', 'New England', 'South Atlantic', 'South Atlantic', 'South Atlantic', 'South Atlantic', 'Pacific', 'Mountain', 'East North Central', 'East North Central', 'West North Central', 'West North Central', 'East South Central', 'West South Central', 'New England', 'South Atlantic', 'New England', 'East North Central', 'West North Central', 'East South Central', 'West North Central', 'Mountain', 'West North Central', 'Mountain', 'New England', 'Mid-Atlantic', 'Mountain', 'Mid-Atlantic', 'South Atlantic', 'West North Central', 'East North Central', 'West South Central', 'Pacific', 'Mid-Atlantic', 'New England', 'South Atlantic', 'West North Central', 'East South Central', 'West South Central', 'Mountain', 'New England', 'South Atlantic', 'Pacific', 'South Atlantic', 'East North Central', 'Mountain'],\n",
        "    'state': ['Alabama', 'Alaska', 'Arizona', 'Arkansas', 'California', 'Colorado', 'Connecticut', 'Delaware', 'District of Columbia', 'Florida', 'Georgia', 'Hawaii', 'Idaho', 'Illinois', 'Indiana', 'Iowa', 'Kansas', 'Kentucky', 'Louisiana', 'Maine', 'Maryland', 'Massachusetts', 'Michigan', 'Minnesota', 'Mississippi', 'Missouri', 'Montana', 'Nebraska', 'Nevada', 'New Hampshire', 'New Jersey', 'New Mexico', 'New York', 'North Carolina', 'North Dakota', 'Ohio', 'Oklahoma', 'Oregon', 'Pennsylvania', 'Rhode Island', 'South Carolina', 'South Dakota', 'Tennessee', 'Texas', 'Utah', 'Vermont', 'Virginia', 'Washington', 'West Virginia', 'Wisconsin', 'Wyoming'],\n",
        "    'individuals': [2570.0, 1434.0, 7259.0, 2280.0, 109008.0, 7607.0, 2280.0, 708.0, 3770.0, 21443.0, 6943.0, 4131.0, 1297.0, 6752.0, 3776.0, 1711.0, 1443.0, 2735.0, 2540.0, 1450.0, 4914.0, 6811.0, 5209.0, 3993.0, 1024.0, 3776.0, 983.0, 1745.0, 7058.0, 835.0, 6048.0, 1949.0, 39827.0, 6451.0, 467.0, 6929.0, 2823.0, 11139.0, 8163.0, 747.0, 3082.0, 836.0, 6139.0, 19199.0, 1904.0, 780.0, 3928.0, 16424.0, 1021.0, 2740.0, 434.0],\n",
        "    'family_members': [864.0, 582.0, 2606.0, 432.0, 20964.0, 3250.0, 1696.0, 374.0, 3134.0, 9587.0, 2556.0, 2399.0, 715.0, 3891.0, 1482.0, 1038.0, 773.0, 953.0, 519.0, 1066.0, 2230.0, 13257.0, 3142.0, 3250.0, 328.0, 2107.0, 422.0, 676.0, 486.0, 615.0, 3350.0, 602.0, 52070.0, 2817.0, 75.0, 3320.0, 1048.0, 3337.0, 5349.0, 354.0, 851.0, 323.0, 1744.0, 6111.0, 972.0, 511.0, 2047.0, 5880.0, 222.0, 2167.0, 205.0],\n",
        "    'state_pop': [4887681, 735139, 7158024, 3009733, 39461588, 5691287, 3571520, 965479, 701547, 21244317, 10511131, 1420593, 1750536, 12723071, 6695497, 3148618, 2911359, 4461153, 4659690, 1339057, 6035802, 6882635, 9984072, 5606249, 2981020, 6121623, 1060665, 1925614, 3027341, 1353465, 8886025, 2092741, 19530351, 10381615, 758080, 11676341, 3940235, 4181886, 12800922, 1058287, 5084156, 878698, 6771631, 28628666, 3153550, 624358, 8501286, 7523869, 1804291, 5807406, 577601]\n",
        "})\n",
        "\n",
        "# Add total col as sum of individuals and family_members\n",
        "homelessness[\"total\"]=homelessness['individuals'] + homelessness['family_members']\n",
        "\n",
        "# Add p_individuals col as proportion of total that are individuals\n",
        "homelessness['p_individuals'] = homelessness['individuals'] / homelessness['total']\n",
        "\n",
        "\n",
        "# See the result\n",
        "print(homelessness)"
      ],
      "metadata": {
        "id": "7-oMzLvd2z4J",
        "colab": {
          "base_uri": "https://localhost:8080/"
        },
        "outputId": "59df6c29-9be2-4e8a-87d1-d41ecabd245b"
      },
      "execution_count": 2,
      "outputs": [
        {
          "output_type": "stream",
          "name": "stdout",
          "text": [
            "                region                 state  individuals  family_members  \\\n",
            "0   East South Central               Alabama       2570.0           864.0   \n",
            "1              Pacific                Alaska       1434.0           582.0   \n",
            "2             Mountain               Arizona       7259.0          2606.0   \n",
            "3   West South Central              Arkansas       2280.0           432.0   \n",
            "4              Pacific            California     109008.0         20964.0   \n",
            "5             Mountain              Colorado       7607.0          3250.0   \n",
            "6          New England           Connecticut       2280.0          1696.0   \n",
            "7       South Atlantic              Delaware        708.0           374.0   \n",
            "8       South Atlantic  District of Columbia       3770.0          3134.0   \n",
            "9       South Atlantic               Florida      21443.0          9587.0   \n",
            "10      South Atlantic               Georgia       6943.0          2556.0   \n",
            "11             Pacific                Hawaii       4131.0          2399.0   \n",
            "12            Mountain                 Idaho       1297.0           715.0   \n",
            "13  East North Central              Illinois       6752.0          3891.0   \n",
            "14  East North Central               Indiana       3776.0          1482.0   \n",
            "15  West North Central                  Iowa       1711.0          1038.0   \n",
            "16  West North Central                Kansas       1443.0           773.0   \n",
            "17  East South Central              Kentucky       2735.0           953.0   \n",
            "18  West South Central             Louisiana       2540.0           519.0   \n",
            "19         New England                 Maine       1450.0          1066.0   \n",
            "20      South Atlantic              Maryland       4914.0          2230.0   \n",
            "21         New England         Massachusetts       6811.0         13257.0   \n",
            "22  East North Central              Michigan       5209.0          3142.0   \n",
            "23  West North Central             Minnesota       3993.0          3250.0   \n",
            "24  East South Central           Mississippi       1024.0           328.0   \n",
            "25  West North Central              Missouri       3776.0          2107.0   \n",
            "26            Mountain               Montana        983.0           422.0   \n",
            "27  West North Central              Nebraska       1745.0           676.0   \n",
            "28            Mountain                Nevada       7058.0           486.0   \n",
            "29         New England         New Hampshire        835.0           615.0   \n",
            "30        Mid-Atlantic            New Jersey       6048.0          3350.0   \n",
            "31            Mountain            New Mexico       1949.0           602.0   \n",
            "32        Mid-Atlantic              New York      39827.0         52070.0   \n",
            "33      South Atlantic        North Carolina       6451.0          2817.0   \n",
            "34  West North Central          North Dakota        467.0            75.0   \n",
            "35  East North Central                  Ohio       6929.0          3320.0   \n",
            "36  West South Central              Oklahoma       2823.0          1048.0   \n",
            "37             Pacific                Oregon      11139.0          3337.0   \n",
            "38        Mid-Atlantic          Pennsylvania       8163.0          5349.0   \n",
            "39         New England          Rhode Island        747.0           354.0   \n",
            "40      South Atlantic        South Carolina       3082.0           851.0   \n",
            "41  West North Central          South Dakota        836.0           323.0   \n",
            "42  East South Central             Tennessee       6139.0          1744.0   \n",
            "43  West South Central                 Texas      19199.0          6111.0   \n",
            "44            Mountain                  Utah       1904.0           972.0   \n",
            "45         New England               Vermont        780.0           511.0   \n",
            "46      South Atlantic              Virginia       3928.0          2047.0   \n",
            "47             Pacific            Washington      16424.0          5880.0   \n",
            "48      South Atlantic         West Virginia       1021.0           222.0   \n",
            "49  East North Central             Wisconsin       2740.0          2167.0   \n",
            "50            Mountain               Wyoming        434.0           205.0   \n",
            "\n",
            "    state_pop     total  p_individuals  \n",
            "0     4887681    3434.0       0.748398  \n",
            "1      735139    2016.0       0.711310  \n",
            "2     7158024    9865.0       0.735834  \n",
            "3     3009733    2712.0       0.840708  \n",
            "4    39461588  129972.0       0.838704  \n",
            "5     5691287   10857.0       0.700654  \n",
            "6     3571520    3976.0       0.573441  \n",
            "7      965479    1082.0       0.654344  \n",
            "8      701547    6904.0       0.546060  \n",
            "9    21244317   31030.0       0.691041  \n",
            "10   10511131    9499.0       0.730919  \n",
            "11    1420593    6530.0       0.632619  \n",
            "12    1750536    2012.0       0.644632  \n",
            "13   12723071   10643.0       0.634408  \n",
            "14    6695497    5258.0       0.718144  \n",
            "15    3148618    2749.0       0.622408  \n",
            "16    2911359    2216.0       0.651173  \n",
            "17    4461153    3688.0       0.741594  \n",
            "18    4659690    3059.0       0.830337  \n",
            "19    1339057    2516.0       0.576312  \n",
            "20    6035802    7144.0       0.687850  \n",
            "21    6882635   20068.0       0.339396  \n",
            "22    9984072    8351.0       0.623758  \n",
            "23    5606249    7243.0       0.551291  \n",
            "24    2981020    1352.0       0.757396  \n",
            "25    6121623    5883.0       0.641849  \n",
            "26    1060665    1405.0       0.699644  \n",
            "27    1925614    2421.0       0.720777  \n",
            "28    3027341    7544.0       0.935578  \n",
            "29    1353465    1450.0       0.575862  \n",
            "30    8886025    9398.0       0.643541  \n",
            "31    2092741    2551.0       0.764014  \n",
            "32   19530351   91897.0       0.433387  \n",
            "33   10381615    9268.0       0.696051  \n",
            "34     758080     542.0       0.861624  \n",
            "35   11676341   10249.0       0.676066  \n",
            "36    3940235    3871.0       0.729269  \n",
            "37    4181886   14476.0       0.769481  \n",
            "38   12800922   13512.0       0.604130  \n",
            "39    1058287    1101.0       0.678474  \n",
            "40    5084156    3933.0       0.783626  \n",
            "41     878698    1159.0       0.721311  \n",
            "42    6771631    7883.0       0.778764  \n",
            "43   28628666   25310.0       0.758554  \n",
            "44    3153550    2876.0       0.662031  \n",
            "45     624358    1291.0       0.604183  \n",
            "46    8501286    5975.0       0.657406  \n",
            "47    7523869   22304.0       0.736370  \n",
            "48    1804291    1243.0       0.821400  \n",
            "49    5807406    4907.0       0.558386  \n",
            "50     577601     639.0       0.679186  \n"
          ]
        }
      ]
    },
    {
      "cell_type": "code",
      "source": [
        "import pandas as pd\n",
        "\n",
        "\n",
        "homelessness = pd.DataFrame({\n",
        "    'region': ['East South Central', 'Pacific', 'Mountain', 'West South Central', 'Pacific', 'Mountain', 'New England', 'South Atlantic', 'South Atlantic', 'South Atlantic', 'South Atlantic', 'Pacific', 'Mountain', 'East North Central', 'East North Central', 'West North Central', 'West North Central', 'East South Central', 'West South Central', 'New England', 'South Atlantic', 'New England', 'East North Central', 'West North Central', 'East South Central', 'West North Central', 'Mountain', 'West North Central', 'Mountain', 'New England', 'Mid-Atlantic', 'Mountain', 'Mid-Atlantic', 'South Atlantic', 'West North Central', 'East North Central', 'West South Central', 'Pacific', 'Mid-Atlantic', 'New England', 'South Atlantic', 'West North Central', 'East South Central', 'West South Central', 'Mountain', 'New England', 'South Atlantic', 'Pacific', 'South Atlantic', 'East North Central', 'Mountain'],\n",
        "    'state': ['Alabama', 'Alaska', 'Arizona', 'Arkansas', 'California', 'Colorado', 'Connecticut', 'Delaware', 'District of Columbia', 'Florida', 'Georgia', 'Hawaii', 'Idaho', 'Illinois', 'Indiana', 'Iowa', 'Kansas', 'Kentucky', 'Louisiana', 'Maine', 'Maryland', 'Massachusetts', 'Michigan', 'Minnesota', 'Mississippi', 'Missouri', 'Montana', 'Nebraska', 'Nevada', 'New Hampshire', 'New Jersey', 'New Mexico', 'New York', 'North Carolina', 'North Dakota', 'Ohio', 'Oklahoma', 'Oregon', 'Pennsylvania', 'Rhode Island', 'South Carolina', 'South Dakota', 'Tennessee', 'Texas', 'Utah', 'Vermont', 'Virginia', 'Washington', 'West Virginia', 'Wisconsin', 'Wyoming'],\n",
        "    'individuals': [2570.0, 1434.0, 7259.0, 2280.0, 109008.0, 7607.0, 2280.0, 708.0, 3770.0, 21443.0, 6943.0, 4131.0, 1297.0, 6752.0, 3776.0, 1711.0, 1443.0, 2735.0, 2540.0, 1450.0, 4914.0, 6811.0, 5209.0, 3993.0, 1024.0, 3776.0, 983.0, 1745.0, 7058.0, 835.0, 6048.0, 1949.0, 39827.0, 6451.0, 467.0, 6929.0, 2823.0, 11139.0, 8163.0, 747.0, 3082.0, 836.0, 6139.0, 19199.0, 1904.0, 780.0, 3928.0, 16424.0, 1021.0, 2740.0, 434.0],\n",
        "    'family_members': [864.0, 582.0, 2606.0, 432.0, 20964.0, 3250.0, 1696.0, 374.0, 3134.0, 9587.0, 2556.0, 2399.0, 715.0, 3891.0, 1482.0, 1038.0, 773.0, 953.0, 519.0, 1066.0, 2230.0, 13257.0, 3142.0, 3250.0, 328.0, 2107.0, 422.0, 676.0, 486.0, 615.0, 3350.0, 602.0, 52070.0, 2817.0, 75.0, 3320.0, 1048.0, 3337.0, 5349.0, 354.0, 851.0, 323.0, 1744.0, 6111.0, 972.0, 511.0, 2047.0, 5880.0, 222.0, 2167.0, 205.0],\n",
        "    'state_pop': [4887681, 735139, 7158024, 3009733, 39461588, 5691287, 3571520, 965479, 701547, 21244317, 10511131, 1420593, 1750536, 12723071, 6695497, 3148618, 2911359, 4461153, 4659690, 1339057, 6035802, 6882635, 9984072, 5606249, 2981020, 6121623, 1060665, 1925614, 3027341, 1353465, 8886025, 2092741, 19530351, 10381615, 758080, 11676341, 3940235, 4181886, 12800922, 1058287, 5084156, 878698, 6771631, 28628666, 3153550, 624358, 8501286, 7523869, 1804291, 5807406, 577601]\n",
        "})\n",
        "\n",
        "# Create indiv_per_10k col as homeless individuals per 10k state pop\n",
        "homelessness[\"indiv_per_10k\"] = 10000 * homelessness['individuals'] / homelessness['state_pop']\n",
        "\n",
        "# Subset rows for indiv_per_10k greater than 20\n",
        "high_homelessness =  homelessness[homelessness[\"indiv_per_10k\"]>20]\n",
        "\n",
        "# Sort high_homelessness by descending indiv_per_10k\n",
        "high_homelessness_srt = high_homelessness.sort_values(\"indiv_per_10k\",ascending=False)\n",
        "\n",
        "# From high_homelessness_srt, select the state and indiv_per_10k cols\n",
        "result = high_homelessness_srt[['state', 'indiv_per_10k']]\n",
        "\n",
        "# See the result\n",
        "print(result)"
      ],
      "metadata": {
        "colab": {
          "base_uri": "https://localhost:8080/"
        },
        "id": "q0lPQIFP4Voi",
        "outputId": "f75dc197-c742-4a5e-e055-fc26090b8763"
      },
      "execution_count": 1,
      "outputs": [
        {
          "output_type": "stream",
          "name": "stdout",
          "text": [
            "                   state  indiv_per_10k\n",
            "8   District of Columbia      53.738381\n",
            "11                Hawaii      29.079406\n",
            "4             California      27.623825\n",
            "37                Oregon      26.636307\n",
            "28                Nevada      23.314189\n",
            "47            Washington      21.829195\n",
            "32              New York      20.392363\n"
          ]
        }
      ]
    }
  ]
}