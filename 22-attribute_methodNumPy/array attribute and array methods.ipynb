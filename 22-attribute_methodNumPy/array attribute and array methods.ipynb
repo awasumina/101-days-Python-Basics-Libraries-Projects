{
  "nbformat": 4,
  "nbformat_minor": 0,
  "metadata": {
    "colab": {
      "provenance": []
    },
    "kernelspec": {
      "name": "python3",
      "display_name": "Python 3"
    },
    "language_info": {
      "name": "python"
    }
  },
  "cells": [
    {
      "cell_type": "code",
      "execution_count": 6,
      "metadata": {
        "colab": {
          "base_uri": "https://localhost:8080/"
        },
        "id": "40561JxZ3Qu1",
        "outputId": "0d66ad50-3043-4d34-d423-4966bdb81fe1"
      },
      "outputs": [
        {
          "output_type": "stream",
          "name": "stdout",
          "text": [
            "[[[0 0 4 3 0 0 2 0 9]\n",
            "  [0 0 5 0 0 9 0 0 1]\n",
            "  [0 7 0 0 6 0 0 4 3]\n",
            "  [0 0 6 0 0 2 0 8 7]\n",
            "  [1 9 0 0 0 7 4 0 0]\n",
            "  [0 5 0 0 8 3 0 0 0]\n",
            "  [6 0 0 0 0 0 1 0 5]\n",
            "  [0 0 3 5 0 8 6 9 0]\n",
            "  [0 4 2 9 1 0 3 0 0]]\n",
            "\n",
            " [[8 6 4 3 7 1 2 5 9]\n",
            "  [3 2 5 8 4 9 7 6 1]\n",
            "  [9 7 1 2 6 5 8 4 3]\n",
            "  [4 3 6 1 9 2 5 8 7]\n",
            "  [1 9 8 6 5 7 4 3 2]\n",
            "  [2 5 7 4 8 3 9 1 6]\n",
            "  [6 8 9 7 3 4 1 2 5]\n",
            "  [7 1 3 5 2 8 6 9 4]\n",
            "  [5 4 2 9 1 6 3 7 8]]]\n"
          ]
        }
      ],
      "source": [
        "sudoku_solution=[[8, 6, 4, 3, 7, 1, 2, 5, 9],\n",
        " [3, 2, 5, 8, 4, 9, 7, 6, 1],\n",
        " [9, 7, 1, 2, 6, 5, 8, 4, 3],\n",
        " [4, 3, 6, 1, 9, 2, 5, 8, 7],\n",
        " [1, 9, 8, 6, 5, 7, 4, 3, 2],\n",
        " [2, 5, 7, 4, 8, 3, 9, 1, 6],\n",
        " [6, 8, 9, 7, 3, 4, 1, 2, 5],\n",
        " [7, 1, 3, 5, 2, 8, 6, 9, 4],\n",
        " [5, 4, 2, 9, 1, 6, 3, 7, 8]]\n",
        "\n",
        "\n",
        "sudoku_game=[[0, 0, 4, 3, 0, 0, 2, 0, 9],\n",
        " [0, 0, 5, 0, 0, 9, 0, 0, 1],\n",
        " [0, 7, 0, 0, 6, 0, 0, 4, 3],\n",
        " [0, 0, 6, 0, 0, 2, 0, 8, 7],\n",
        " [1, 9, 0, 0, 0, 7, 4, 0, 0],\n",
        " [0, 5, 0, 0, 8, 3, 0, 0, 0],\n",
        " [6, 0, 0, 0, 0, 0, 1, 0, 5],\n",
        " [0, 0, 3, 5, 0, 8, 6, 9, 0],\n",
        " [0, 4, 2, 9, 1, 0, 3, 0, 0]]\n",
        "\n",
        "\n",
        "import numpy as np\n",
        "\n",
        "\n",
        " # Create the game_and_solution 3D array\n",
        "game_and_solution = np.array([sudoku_game,sudoku_solution])\n",
        "\n",
        "# Print game_and_solution\n",
        "print(game_and_solution)"
      ]
    },
    {
      "cell_type": "code",
      "source": [
        "sudoku_solution=[[8, 6, 4, 3, 7, 1, 2, 5, 9],\n",
        " [3, 2, 5, 8, 4, 9, 7, 6, 1],\n",
        " [9, 7, 1, 2, 6, 5, 8, 4, 3],\n",
        " [4, 3, 6, 1, 9, 2, 5, 8, 7],\n",
        " [1, 9, 8, 6, 5, 7, 4, 3, 2],\n",
        " [2, 5, 7, 4, 8, 3, 9, 1, 6],\n",
        " [6, 8, 9, 7, 3, 4, 1, 2, 5],\n",
        " [7, 1, 3, 5, 2, 8, 6, 9, 4],\n",
        " [5, 4, 2, 9, 1, 6, 3, 7, 8]]\n",
        "\n",
        "\n",
        "sudoku_game=[[0, 0, 4, 3, 0, 0, 2, 0, 9],\n",
        " [0, 0, 5, 0, 0, 9, 0, 0, 1],\n",
        " [0, 7, 0, 0, 6, 0, 0, 4, 3],\n",
        " [0, 0, 6, 0, 0, 2, 0, 8, 7],\n",
        " [1, 9, 0, 0, 0, 7, 4, 0, 0],\n",
        " [0, 5, 0, 0, 8, 3, 0, 0, 0],\n",
        " [6, 0, 0, 0, 0, 0, 1, 0, 5],\n",
        " [0, 0, 3, 5, 0, 8, 6, 9, 0],\n",
        " [0, 4, 2, 9, 1, 0, 3, 0, 0]]\n",
        "\n",
        "\n",
        "import numpy as np\n",
        "game_and_solution = np.array([sudoku_game,sudoku_solution])\n",
        "# Create a second 3D array of another game and its solution\n",
        "new_game_and_solution = np.array([sudoku_game,sudoku_solution])\n",
        "\n",
        "# Create a 4D array of both game and solution 3D arrays\n",
        "games_and_solutions = np.array([game_and_solution,new_game_and_solution])\n",
        "\n",
        "# Print the shape of your 4D array\n",
        "print(games_and_solutions.shape)"
      ],
      "metadata": {
        "colab": {
          "base_uri": "https://localhost:8080/"
        },
        "id": "Kev2Leb54sK9",
        "outputId": "4556931c-45bc-4eb6-d72e-88236af443b8"
      },
      "execution_count": 9,
      "outputs": [
        {
          "output_type": "stream",
          "name": "stdout",
          "text": [
            "(2, 2, 9, 9)\n"
          ]
        }
      ]
    },
    {
      "cell_type": "code",
      "source": [
        "sudoku_solution=[[8, 6, 4, 3, 7, 1, 2, 5, 9],\n",
        " [3, 2, 5, 8, 4, 9, 7, 6, 1],\n",
        " [9, 7, 1, 2, 6, 5, 8, 4, 3],\n",
        " [4, 3, 6, 1, 9, 2, 5, 8, 7],\n",
        " [1, 9, 8, 6, 5, 7, 4, 3, 2],\n",
        " [2, 5, 7, 4, 8, 3, 9, 1, 6],\n",
        " [6, 8, 9, 7, 3, 4, 1, 2, 5],\n",
        " [7, 1, 3, 5, 2, 8, 6, 9, 4],\n",
        " [5, 4, 2, 9, 1, 6, 3, 7, 8]]\n",
        "\n",
        "\n",
        "sudoku_game=[[0, 0, 4, 3, 0, 0, 2, 0, 9],\n",
        " [0, 0, 5, 0, 0, 9, 0, 0, 1],\n",
        " [0, 7, 0, 0, 6, 0, 0, 4, 3],\n",
        " [0, 0, 6, 0, 0, 2, 0, 8, 7],\n",
        " [1, 9, 0, 0, 0, 7, 4, 0, 0],\n",
        " [0, 5, 0, 0, 8, 3, 0, 0, 0],\n",
        " [6, 0, 0, 0, 0, 0, 1, 0, 5],\n",
        " [0, 0, 3, 5, 0, 8, 6, 9, 0],\n",
        " [0, 4, 2, 9, 1, 0, 3, 0, 0]]\n",
        "\n",
        "\n",
        "import numpy as np\n",
        "# Flatten sudoku_game\n",
        "flattened_game = sudoku_game.flatten()\n",
        "\n",
        "# Print the shape of flattened_game\n",
        "print(flattened_game.shape)\n",
        "\n",
        "# Reshape flattened_game back to a nine by nine array\n",
        "reshaped_game = flattened_game.reshape((9,9))\n",
        "\n",
        "# Print sudoku_game and reshaped_game\n",
        "print(sudoku_game)\n",
        "print(reshaped_game)"
      ],
      "metadata": {
        "id": "f60b5rxE5mJ2"
      },
      "execution_count": null,
      "outputs": []
    }
  ]
}