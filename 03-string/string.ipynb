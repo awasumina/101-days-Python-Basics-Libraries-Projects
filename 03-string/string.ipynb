{
  "nbformat": 4,
  "nbformat_minor": 0,
  "metadata": {
    "colab": {
      "provenance": []
    },
    "kernelspec": {
      "name": "python3",
      "display_name": "Python 3"
    },
    "language_info": {
      "name": "python"
    }
  },
  "cells": [
    {
      "cell_type": "code",
      "execution_count": 3,
      "metadata": {
        "colab": {
          "base_uri": "https://localhost:8080/"
        },
        "id": "nGsQeKaTs7qV",
        "outputId": "5e84c3c5-fb8b-4822-c4f7-d7e140096fdd"
      },
      "outputs": [
        {
          "output_type": "stream",
          "name": "stdout",
          "text": [
            "hey\n",
            "by\n",
            "tata\n",
            "see\n",
            "you\n"
          ]
        }
      ],
      "source": [
        "# multiline string\n",
        "a='''hey\n",
        "by\n",
        "tata\n",
        "see\n",
        "you'''\n",
        "print(a)"
      ]
    },
    {
      "cell_type": "code",
      "source": [
        "name='awa'\n",
        "print(name[0])\n",
        "# print(name[3])  #throws errorcoz index out of range\n"
      ],
      "metadata": {
        "colab": {
          "base_uri": "https://localhost:8080/"
        },
        "id": "-0B195FBtaiQ",
        "outputId": "1e685c73-ebe0-459e-909e-d56fe3c3205a"
      },
      "execution_count": 5,
      "outputs": [
        {
          "output_type": "stream",
          "name": "stdout",
          "text": [
            "a\n"
          ]
        }
      ]
    },
    {
      "cell_type": "code",
      "source": [
        "name =\"awa\"\n",
        "print(\"use of for loop\\n\")\n",
        "for character in name:\n",
        "  print(character)\n",
        "for x in name:\n",
        "  print(x)"
      ],
      "metadata": {
        "colab": {
          "base_uri": "https://localhost:8080/"
        },
        "id": "QPOjyalxt8SA",
        "outputId": "356796e7-01f2-479e-f746-e7538f5c8c57"
      },
      "execution_count": 7,
      "outputs": [
        {
          "output_type": "stream",
          "name": "stdout",
          "text": [
            "use of for loop\n",
            "\n",
            "a\n",
            "w\n",
            "a\n",
            "a\n",
            "w\n",
            "a\n"
          ]
        }
      ]
    },
    {
      "cell_type": "code",
      "source": [
        "# string slicing\n",
        "name=\"awasumina\"\n",
        "print(len(name))\n",
        "print(name[0:3])    #including 0 but not 3\n",
        "print(name[:3])     #nothing implies 0\n",
        "print(name[3:10])\n",
        "print(name[:])\n",
        "# negative slicing\n",
        "print(name[3:-3])\n",
        "print(name[-8:-3])      #length = 9, 9-8:9-3 => 1:6 => wasum\n"
      ],
      "metadata": {
        "colab": {
          "base_uri": "https://localhost:8080/"
        },
        "id": "FYCHL1ZJucq0",
        "outputId": "1366def7-6174-4896-8ed7-bec94b13ddf4"
      },
      "execution_count": 19,
      "outputs": [
        {
          "output_type": "stream",
          "name": "stdout",
          "text": [
            "9\n",
            "awa\n",
            "awa\n",
            "sumina\n",
            "awasumina\n",
            "sum\n",
            "wasum\n"
          ]
        }
      ]
    },
    {
      "cell_type": "code",
      "source": [
        "nm=\"sumina\"\n",
        "print(nm[-4:-2])\n",
        "print(nm[len(nm)-4:len(nm)-2])  #above and this code implies same"
      ],
      "metadata": {
        "colab": {
          "base_uri": "https://localhost:8080/"
        },
        "id": "Brrg5GgywCAp",
        "outputId": "1321d1ac-cd6f-40f2-8052-f1f679dcc649"
      },
      "execution_count": 21,
      "outputs": [
        {
          "output_type": "stream",
          "name": "stdout",
          "text": [
            "mi\n",
            "mi\n"
          ]
        }
      ]
    },
    {
      "cell_type": "code",
      "source": [
        "a=\"awasumina\"\n",
        "print(a.upper())  #a.upper is new string , a is immutable so original string is not changed\n",
        "print(a)          #output is awasumina coz string is immutable\n"
      ],
      "metadata": {
        "colab": {
          "base_uri": "https://localhost:8080/"
        },
        "id": "wYKJxpyjwsav",
        "outputId": "5696793a-2e14-4005-b5a2-fa85685e1f98"
      },
      "execution_count": 25,
      "outputs": [
        {
          "output_type": "stream",
          "name": "stdout",
          "text": [
            "AWASUMINA\n",
            "awasumina\n"
          ]
        }
      ]
    },
    {
      "cell_type": "code",
      "source": [
        "a=\"!!!awasumina!!!\"\n",
        "print(len(a))\n",
        "print(a.upper())\n",
        "print(a.lower())\n",
        "print(a.swapcase())\n",
        "print(a.rstrip(\"!\"))    #$remove trailing characer at back\n",
        "print(a.replace(\"awa\",\"miss\"))\n",
        "print(a.center(40))       #total length will be 40 and variable a will be center in to\n",
        "print(len(a.center(40)))\n",
        "\n",
        "print(\"\\n\")\n",
        "\n",
        "b=\"hi! bye hi ok!\"\n",
        "print(b.split(\" \"))     #into list split on basis of space\n",
        "print(b.capitalize())\n",
        "print(b.count('hi'))\n",
        "print(b.endswith(\"!\"))\n",
        "print(b.endswith(\"!\",2,9))"
      ],
      "metadata": {
        "colab": {
          "base_uri": "https://localhost:8080/"
        },
        "id": "GQweEoIaxUOW",
        "outputId": "4e793bd5-12b2-4d2a-d4ef-cac2247c8b8b"
      },
      "execution_count": 60,
      "outputs": [
        {
          "output_type": "stream",
          "name": "stdout",
          "text": [
            "15\n",
            "!!!AWASUMINA!!!\n",
            "!!!awasumina!!!\n",
            "!!!aWAsUMINA!!!\n",
            "!!!AwaSumina\n",
            "!!!AwaSumina!!!\n",
            "            !!!AwaSumina!!!             \n",
            "40\n",
            "\n",
            "\n",
            "['hi!', 'bye', 'hi', 'ok!']\n",
            "Hi! bye hi ok!\n",
            "2\n",
            "True\n",
            "False\n"
          ]
        }
      ]
    },
    {
      "cell_type": "code",
      "source": [
        "a=\"He's person. PYTHON  is snake\"\n",
        "print(a.find(\"is\"))\n",
        "print(a.find(\"python\"))   #PYTHON is capital so, cant find python so return -1\n",
        "print(a.index(\"snake\"))\n"
      ],
      "metadata": {
        "colab": {
          "base_uri": "https://localhost:8080/"
        },
        "id": "jIUBQDapxd-N",
        "outputId": "e9b976a8-7f89-436d-add2-72a779f62bb0"
      },
      "execution_count": 57,
      "outputs": [
        {
          "output_type": "stream",
          "name": "stdout",
          "text": [
            "21\n",
            "-1\n",
            "24\n",
            "True\n"
          ]
        }
      ]
    },
    {
      "cell_type": "code",
      "source": [
        "a=\"He's person. PYTHON  is snake\"\n",
        "print(a.isprintable())\n",
        "b=\"hi\\nbye\"\n",
        "print(b.isprintable())    #false coz presence of \\n which is not preintable"
      ],
      "metadata": {
        "colab": {
          "base_uri": "https://localhost:8080/"
        },
        "id": "zGWchu-F03Hn",
        "outputId": "21071a28-6a25-4349-8a42-14511c699cac"
      },
      "execution_count": 58,
      "outputs": [
        {
          "output_type": "stream",
          "name": "stdout",
          "text": [
            "True\n",
            "False\n"
          ]
        }
      ]
    }
  ]
}