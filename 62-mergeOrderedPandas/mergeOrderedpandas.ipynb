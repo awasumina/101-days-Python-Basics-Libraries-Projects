{
  "nbformat": 4,
  "nbformat_minor": 0,
  "metadata": {
    "colab": {
      "provenance": []
    },
    "kernelspec": {
      "name": "python3",
      "display_name": "Python 3"
    },
    "language_info": {
      "name": "python"
    }
  },
  "cells": [
    {
      "cell_type": "code",
      "execution_count": 2,
      "metadata": {
        "id": "ZkQc4inmghr-",
        "colab": {
          "base_uri": "https://localhost:8080/"
        },
        "outputId": "d9e57629-c743-4f7f-91c9-8034b4e49a14"
      },
      "outputs": [
        {
          "output_type": "stream",
          "name": "stdout",
          "text": [
            "  country code  year           gdp    date  returns\n",
            "0          USA  2010  1.499000e+13  2010.0    12.78\n",
            "1          USA  2011  1.554000e+13  2011.0     0.00\n",
            "2          USA  2012  1.620000e+13  2012.0    13.41\n",
            "3          USA  2012  1.620000e+13  2012.0    13.41\n",
            "4          USA  2013  1.678000e+13  2013.0    29.60\n",
            "5          USA  2014  1.752000e+13  2014.0    11.39\n",
            "6          USA  2015  1.822000e+13  2015.0    -0.73\n",
            "7          USA  2016  1.871000e+13  2016.0     9.54\n",
            "8          USA  2017  1.949000e+13  2017.0    19.42\n",
            "9          USA  2018  2.049000e+13     NaN      NaN\n"
          ]
        }
      ],
      "source": [
        "import pandas as pd\n",
        "\n",
        "sp500_data = {\n",
        "    'date': [2008, 2009, 2010, 2011, 2012, 2014, 2015, 2016, 2017, 2013],\n",
        "    'returns': [-38.49, 23.45, 12.78, 0.00, 13.41, 11.39, -0.73, 9.54, 19.42, 29.60]\n",
        "}\n",
        "sp500 = pd.DataFrame(sp500_data)\n",
        "\n",
        "gdp_data = {\n",
        "    'country code': ['USA'] * 10,\n",
        "    'year': [2010, 2011, 2012, 2012, 2013, 2014, 2015, 2016, 2017, 2018],\n",
        "    'gdp': [1.499e+13, 1.554e+13, 1.620e+13, 1.620e+13, 1.678e+13, 1.752e+13, 1.822e+13, 1.871e+13, 1.949e+13, 2.049e+13]\n",
        "}\n",
        "gdp = pd.DataFrame(gdp_data)\n",
        "\n",
        "# Use merge_ordered() to merge gdp and sp500 on year and date\n",
        "gdp_sp500 = pd.merge_ordered(gdp, sp500, left_on='year', right_on='date',\n",
        "                             how='left')\n",
        "\n",
        "# Print gdp_sp500\n",
        "print(gdp_sp500)\n"
      ]
    },
    {
      "cell_type": "code",
      "source": [
        "import pandas as pd\n",
        "\n",
        "sp500_data = {\n",
        "    'date': [2008, 2009, 2010, 2011, 2012, 2014, 2015, 2016, 2017, 2013],\n",
        "    'returns': [-38.49, 23.45, 12.78, 0.00, 13.41, 11.39, -0.73, 9.54, 19.42, 29.60]\n",
        "}\n",
        "sp500 = pd.DataFrame(sp500_data)\n",
        "\n",
        "gdp_data = {\n",
        "    'country code': ['USA'] * 10,\n",
        "    'year': [2010, 2011, 2012, 2012, 2013, 2014, 2015, 2016, 2017, 2018],\n",
        "    'gdp': [1.499e+13, 1.554e+13, 1.620e+13, 1.620e+13, 1.678e+13, 1.752e+13, 1.822e+13, 1.871e+13, 1.949e+13, 2.049e+13]\n",
        "}\n",
        "gdp = pd.DataFrame(gdp_data)\n",
        "# Use merge_ordered() to merge gdp and sp500, interpolate missing value\n",
        "gdp_sp500 = pd.merge_ordered(gdp,sp500,fill_method='ffill', left_on='year', right_on='date',how=\"left\")\n",
        "\n",
        "\n",
        "# Print gdp_sp500\n",
        "print (gdp_sp500)\n",
        "\n"
      ],
      "metadata": {
        "colab": {
          "base_uri": "https://localhost:8080/"
        },
        "id": "eEvl2QIg-igP",
        "outputId": "a6915e53-839a-4639-e03b-4fc1cfdc3976"
      },
      "execution_count": 3,
      "outputs": [
        {
          "output_type": "stream",
          "name": "stdout",
          "text": [
            "  country code  year           gdp  date  returns\n",
            "0          USA  2010  1.499000e+13  2010    12.78\n",
            "1          USA  2011  1.554000e+13  2011     0.00\n",
            "2          USA  2012  1.620000e+13  2012    13.41\n",
            "3          USA  2012  1.620000e+13  2012    13.41\n",
            "4          USA  2013  1.678000e+13  2013    29.60\n",
            "5          USA  2014  1.752000e+13  2014    11.39\n",
            "6          USA  2015  1.822000e+13  2015    -0.73\n",
            "7          USA  2016  1.871000e+13  2016     9.54\n",
            "8          USA  2017  1.949000e+13  2017    19.42\n",
            "9          USA  2018  2.049000e+13  2017    19.42\n"
          ]
        }
      ]
    },
    {
      "cell_type": "code",
      "source": [
        "import pandas as pd\n",
        "\n",
        "sp500_data = {\n",
        "    'date': [2008, 2009, 2010, 2011, 2012, 2014, 2015, 2016, 2017, 2013],\n",
        "    'returns': [-38.49, 23.45, 12.78, 0.00, 13.41, 11.39, -0.73, 9.54, 19.42, 29.60]\n",
        "}\n",
        "sp500 = pd.DataFrame(sp500_data)\n",
        "\n",
        "gdp_data = {\n",
        "    'country code': ['USA'] * 10,\n",
        "    'year': [2010, 2011, 2012, 2012, 2013, 2014, 2015, 2016, 2017, 2018],\n",
        "    'gdp': [1.499e+13, 1.554e+13, 1.620e+13, 1.620e+13, 1.678e+13, 1.752e+13, 1.822e+13, 1.871e+13, 1.949e+13, 2.049e+13]\n",
        "}\n",
        "gdp = pd.DataFrame(gdp_data)\n",
        "\n",
        "# Use merge_ordered() to merge gdp and sp500, interpolate missing value\n",
        "gdp_sp500 = pd.merge_ordered(gdp, sp500, left_on='year', right_on='date',\n",
        "                             how='left',  fill_method='ffill')\n",
        "\n",
        "# Subset the gdp and returns columns\n",
        "gdp_returns = gdp_sp500[['gdp','returns']]\n",
        "\n",
        "# Print gdp_returns correlation\n",
        "print (gdp_returns.corr())\n"
      ],
      "metadata": {
        "colab": {
          "base_uri": "https://localhost:8080/"
        },
        "id": "dE6pZFFl-jou",
        "outputId": "ccb7757c-0c07-4b6c-cbbd-3cde006f2748"
      },
      "execution_count": 4,
      "outputs": [
        {
          "output_type": "stream",
          "name": "stdout",
          "text": [
            "              gdp   returns\n",
            "gdp      1.000000  0.211734\n",
            "returns  0.211734  1.000000\n"
          ]
        }
      ]
    },
    {
      "cell_type": "code",
      "source": [
        "import pandas as pd\n",
        "import matplotlib.pyplot as plt\n",
        "\n",
        "# Unemployment data\n",
        "unemployment_data = {\n",
        "    'date': [\n",
        "        '2013-06-01', '2014-01-01', '2014-06-01', '2015-01-01', '2015-06-01',\n",
        "        '2016-01-01', '2016-06-01', '2017-01-01', '2017-06-01', '2018-01-01',\n",
        "        '2018-06-01', '2019-01-01', '2019-06-01', '2020-01-01'\n",
        "    ],\n",
        "    'unemployment_rate': [7.5, 6.7, 6.1, 5.6, 5.3, 5.0, 4.9, 4.7, 4.3, 4.1, 4.0, 3.9, 3.7, 3.5]\n",
        "}\n",
        "unemployment = pd.DataFrame(unemployment_data)\n",
        "\n",
        "inflation_data = {\n",
        "    'date': [\n",
        "        '2014-01-01', '2014-02-01', '2014-03-01', '2014-04-01', '2014-05-01', '2014-06-01',\n",
        "        '2014-07-01', '2014-08-01', '2014-09-01', '2014-10-01', '2014-11-01', '2014-12-01',\n",
        "        '2015-01-01', '2015-02-01', '2015-03-01', '2015-04-01', '2015-05-01', '2015-06-01',\n",
        "        '2015-07-01', '2015-08-01', '2015-09-01', '2015-10-01', '2015-11-01', '2015-12-01',\n",
        "        '2016-01-01', '2016-02-01', '2016-03-01', '2016-04-01', '2016-05-01', '2016-06-01',\n",
        "        '2016-07-01', '2016-08-01', '2016-09-01', '2016-10-01', '2016-11-01', '2016-12-01',\n",
        "        '2017-01-01', '2017-02-01', '2017-03-01', '2017-04-01', '2017-05-01', '2017-06-01',\n",
        "        '2017-07-01', '2017-08-01', '2017-09-01', '2017-10-01', '2017-11-01', '2017-12-01',\n",
        "        '2018-01-01', '2018-02-01', '2018-03-01', '2018-04-01', '2018-05-01', '2018-06-01',\n",
        "        '2018-07-01', '2018-08-01', '2018-09-01', '2018-10-01', '2018-11-01', '2018-12-01'\n",
        "    ],\n",
        "    'cpi': [\n",
        "        235.288, 235.547, 236.028, 236.468, 236.918, 237.231, 237.498, 237.460,\n",
        "        237.477, 237.430, 236.983, 236.252, 234.718, 235.236, 236.005, 236.156,\n",
        "        236.974, 237.684, 238.053, 238.028, 237.506, 237.781, 238.016, 237.817,\n",
        "        237.833, 237.469, 238.038, 238.827, 239.464, 240.167, 240.150, 240.602,\n",
        "        241.051, 241.691, 242.029, 242.772, 243.780, 243.961, 243.749, 244.051,\n",
        "        243.962, 244.182, 244.390, 245.297, 246.418, 246.587, 247.332, 247.901,\n",
        "        248.884, 249.369, 249.498, 249.956, 250.646, 251.134, 251.597, 251.879,\n",
        "        252.010, 252.794, 252.760, 252.723\n",
        "    ],\n",
        "    'seriesid': ['CUSR0000SA0'] * 60,\n",
        "    'data_type': ['SEASONALLY ADJUSTED INDEX'] * 60\n",
        "}\n",
        "inflation = pd.DataFrame(inflation_data)\n",
        "\n",
        "\n",
        "\n",
        "# Use merge_ordered() to merge inflation, unemployment with inner join\n",
        "inflation_unemploy = pd.merge_ordered(inflation,unemployment,on='date',how='inner')\n",
        "\n",
        "# Print inflation_unemploy\n",
        "print(inflation_unemploy)\n",
        "\n",
        "# Plot a scatter plot of unemployment_rate vs cpi of inflation_unemploy\n",
        "inflation_unemploy.plot(kind='scatter',x='unemployment_rate',y='cpi')\n",
        "plt.show()"
      ],
      "metadata": {
        "colab": {
          "base_uri": "https://localhost:8080/",
          "height": 849
        },
        "id": "OXX9nqiL_S-o",
        "outputId": "9517c94c-d0c6-45a6-8350-0da44bd56a7d"
      },
      "execution_count": 5,
      "outputs": [
        {
          "output_type": "stream",
          "name": "stdout",
          "text": [
            "         date      cpi     seriesid                  data_type  \\\n",
            "0  2014-01-01  235.288  CUSR0000SA0  SEASONALLY ADJUSTED INDEX   \n",
            "1  2014-06-01  237.231  CUSR0000SA0  SEASONALLY ADJUSTED INDEX   \n",
            "2  2015-01-01  234.718  CUSR0000SA0  SEASONALLY ADJUSTED INDEX   \n",
            "3  2015-06-01  237.684  CUSR0000SA0  SEASONALLY ADJUSTED INDEX   \n",
            "4  2016-01-01  237.833  CUSR0000SA0  SEASONALLY ADJUSTED INDEX   \n",
            "5  2016-06-01  240.167  CUSR0000SA0  SEASONALLY ADJUSTED INDEX   \n",
            "6  2017-01-01  243.780  CUSR0000SA0  SEASONALLY ADJUSTED INDEX   \n",
            "7  2017-06-01  244.182  CUSR0000SA0  SEASONALLY ADJUSTED INDEX   \n",
            "8  2018-01-01  248.884  CUSR0000SA0  SEASONALLY ADJUSTED INDEX   \n",
            "9  2018-06-01  251.134  CUSR0000SA0  SEASONALLY ADJUSTED INDEX   \n",
            "\n",
            "   unemployment_rate  \n",
            "0                6.7  \n",
            "1                6.1  \n",
            "2                5.6  \n",
            "3                5.3  \n",
            "4                5.0  \n",
            "5                4.9  \n",
            "6                4.7  \n",
            "7                4.3  \n",
            "8                4.1  \n",
            "9                4.0  \n"
          ]
        },
        {
          "output_type": "display_data",
          "data": {
            "text/plain": [
              "<Figure size 640x480 with 1 Axes>"
            ],
            "image/png": "[encoded data removed]"
          },
          "metadata": {}
        }
      ]
    },
    {
      "cell_type": "code",
      "source": [
        "import pandas as pd\n",
        "\n",
        "gdp_data = {\n",
        "    'date': [\n",
        "        '1990-01-01', '1990-04-01', '1990-07-01', '1990-09-01', '1991-01-01',\n",
        "        '1991-04-01', '1991-07-01', '1991-09-01', '1992-01-01', '1992-04-01',\n",
        "        '1992-07-01', '1992-09-01', '1993-01-01', '1993-04-01', '1993-07-01',\n",
        "        '1993-09-01', '1990-01-01', '1990-04-01', '1990-07-01', '1990-09-01',\n",
        "        '1991-01-01', '1991-04-01', '1991-07-01', '1991-09-01', '1992-01-01',\n",
        "        '1992-04-01', '1992-07-01', '1992-09-01', '1993-01-01', '1993-04-01',\n",
        "        '1993-07-01', '1993-09-01'\n",
        "    ],\n",
        "    'country': [\n",
        "        'Australia', 'Australia', 'Australia', 'Australia', 'Australia',\n",
        "        'Australia', 'Australia', 'Australia', 'Australia', 'Australia',\n",
        "        'Australia', 'Australia', 'Australia', 'Australia', 'Australia',\n",
        "        'Australia', 'Sweden', 'Sweden', 'Sweden', 'Sweden',\n",
        "        'Sweden', 'Sweden', 'Sweden', 'Sweden', 'Sweden',\n",
        "        'Sweden', 'Sweden', 'Sweden', 'Sweden', 'Sweden',\n",
        "        'Sweden', 'Sweden'\n",
        "    ],\n",
        "    'gdp': [\n",
        "        158051.132, 158263.582, 157329.279, 158240.678, 156195.954,\n",
        "        155989.033, 156635.858, 156744.057, 157916.081, 159047.827,\n",
        "        160658.176, 163960.221, 165097.495, 166027.059, 166203.179,\n",
        "        169279.348, 79837.846, 80582.286, 79974.360, 80106.497,\n",
        "        79524.242, 79073.059, 79084.770, 79740.606, 79390.922,\n",
        "        79060.283, 78904.605, 76996.837, 75783.588, 76708.548,\n",
        "        77662.018, 77703.304\n",
        "    ],\n",
        "    'series_code': ['NYGDPMKTPSAKD'] * 32\n",
        "}\n",
        "gdp = pd.DataFrame(gdp_data)\n",
        "\n",
        "pop_data = {\n",
        "    'date': [\n",
        "        '1990-01-01', '1991-01-01', '1992-01-01', '1993-01-01',\n",
        "        '1990-01-01', '1991-01-01', '1992-01-01', '1993-01-01'\n",
        "    ],\n",
        "    'country': [\n",
        "        'Australia', 'Australia', 'Australia', 'Australia',\n",
        "        'Sweden', 'Sweden', 'Sweden', 'Sweden'\n",
        "    ],\n",
        "    'pop': [\n",
        "        17065100, 17284000, 17495000, 17667000,\n",
        "        8558835, 8617375, 8668067, 8718561\n",
        "    ],\n",
        "    'series_code': ['SP.POP.TOTL'] * 8\n",
        "}\n",
        "pop = pd.DataFrame(pop_data)\n",
        "\n",
        "# Merge gdp and pop on date and country with fill and notice rows 2 and 3\n",
        "ctry_date = pd.merge_ordered(gdp, pop,on=['date','country'],\n",
        "                             fill_method='ffill')\n",
        "\n",
        "# Print ctry_date\n",
        "print(ctry_date)\n",
        "\n"
      ],
      "metadata": {
        "colab": {
          "base_uri": "https://localhost:8080/"
        },
        "id": "evHJ0NnWAAJ_",
        "outputId": "f68e93c9-ec45-40d3-f05d-c06aca23c26d"
      },
      "execution_count": 6,
      "outputs": [
        {
          "output_type": "stream",
          "name": "stdout",
          "text": [
            "          date    country         gdp  series_code_x       pop series_code_y\n",
            "0   1990-01-01  Australia  158051.132  NYGDPMKTPSAKD  17065100   SP.POP.TOTL\n",
            "1   1990-01-01     Sweden   79837.846  NYGDPMKTPSAKD   8558835   SP.POP.TOTL\n",
            "2   1990-04-01  Australia  158263.582  NYGDPMKTPSAKD   8558835   SP.POP.TOTL\n",
            "3   1990-04-01     Sweden   80582.286  NYGDPMKTPSAKD   8558835   SP.POP.TOTL\n",
            "4   1990-07-01  Australia  157329.279  NYGDPMKTPSAKD   8558835   SP.POP.TOTL\n",
            "5   1990-07-01     Sweden   79974.360  NYGDPMKTPSAKD   8558835   SP.POP.TOTL\n",
            "6   1990-09-01  Australia  158240.678  NYGDPMKTPSAKD   8558835   SP.POP.TOTL\n",
            "7   1990-09-01     Sweden   80106.497  NYGDPMKTPSAKD   8558835   SP.POP.TOTL\n",
            "8   1991-01-01  Australia  156195.954  NYGDPMKTPSAKD  17284000   SP.POP.TOTL\n",
            "9   1991-01-01     Sweden   79524.242  NYGDPMKTPSAKD   8617375   SP.POP.TOTL\n",
            "10  1991-04-01  Australia  155989.033  NYGDPMKTPSAKD   8617375   SP.POP.TOTL\n",
            "11  1991-04-01     Sweden   79073.059  NYGDPMKTPSAKD   8617375   SP.POP.TOTL\n",
            "12  1991-07-01  Australia  156635.858  NYGDPMKTPSAKD   8617375   SP.POP.TOTL\n",
            "13  1991-07-01     Sweden   79084.770  NYGDPMKTPSAKD   8617375   SP.POP.TOTL\n",
            "14  1991-09-01  Australia  156744.057  NYGDPMKTPSAKD   8617375   SP.POP.TOTL\n",
            "15  1991-09-01     Sweden   79740.606  NYGDPMKTPSAKD   8617375   SP.POP.TOTL\n",
            "16  1992-01-01  Australia  157916.081  NYGDPMKTPSAKD  17495000   SP.POP.TOTL\n",
            "17  1992-01-01     Sweden   79390.922  NYGDPMKTPSAKD   8668067   SP.POP.TOTL\n",
            "18  1992-04-01  Australia  159047.827  NYGDPMKTPSAKD   8668067   SP.POP.TOTL\n",
            "19  1992-04-01     Sweden   79060.283  NYGDPMKTPSAKD   8668067   SP.POP.TOTL\n",
            "20  1992-07-01  Australia  160658.176  NYGDPMKTPSAKD   8668067   SP.POP.TOTL\n",
            "21  1992-07-01     Sweden   78904.605  NYGDPMKTPSAKD   8668067   SP.POP.TOTL\n",
            "22  1992-09-01  Australia  163960.221  NYGDPMKTPSAKD   8668067   SP.POP.TOTL\n",
            "23  1992-09-01     Sweden   76996.837  NYGDPMKTPSAKD   8668067   SP.POP.TOTL\n",
            "24  1993-01-01  Australia  165097.495  NYGDPMKTPSAKD  17667000   SP.POP.TOTL\n",
            "25  1993-01-01     Sweden   75783.588  NYGDPMKTPSAKD   8718561   SP.POP.TOTL\n",
            "26  1993-04-01  Australia  166027.059  NYGDPMKTPSAKD   8718561   SP.POP.TOTL\n",
            "27  1993-04-01     Sweden   76708.548  NYGDPMKTPSAKD   8718561   SP.POP.TOTL\n",
            "28  1993-07-01  Australia  166203.179  NYGDPMKTPSAKD   8718561   SP.POP.TOTL\n",
            "29  1993-07-01     Sweden   77662.018  NYGDPMKTPSAKD   8718561   SP.POP.TOTL\n",
            "30  1993-09-01  Australia  169279.348  NYGDPMKTPSAKD   8718561   SP.POP.TOTL\n",
            "31  1993-09-01     Sweden   77703.304  NYGDPMKTPSAKD   8718561   SP.POP.TOTL\n"
          ]
        }
      ]
    },
    {
      "cell_type": "code",
      "source": [
        "import pandas as pd\n",
        "\n",
        "gdp_data = {\n",
        "    'date': [\n",
        "        '1990-01-01', '1990-04-01', '1990-07-01', '1990-09-01', '1991-01-01',\n",
        "        '1991-04-01', '1991-07-01', '1991-09-01', '1992-01-01', '1992-04-01',\n",
        "        '1992-07-01', '1992-09-01', '1993-01-01', '1993-04-01', '1993-07-01',\n",
        "        '1993-09-01', '1990-01-01', '1990-04-01', '1990-07-01', '1990-09-01',\n",
        "        '1991-01-01', '1991-04-01', '1991-07-01', '1991-09-01', '1992-01-01',\n",
        "        '1992-04-01', '1992-07-01', '1992-09-01', '1993-01-01', '1993-04-01',\n",
        "        '1993-07-01', '1993-09-01'\n",
        "    ],\n",
        "    'country': [\n",
        "        'Australia', 'Australia', 'Australia', 'Australia', 'Australia',\n",
        "        'Australia', 'Australia', 'Australia', 'Australia', 'Australia',\n",
        "        'Australia', 'Australia', 'Australia', 'Australia', 'Australia',\n",
        "        'Australia', 'Sweden', 'Sweden', 'Sweden', 'Sweden',\n",
        "        'Sweden', 'Sweden', 'Sweden', 'Sweden', 'Sweden',\n",
        "        'Sweden', 'Sweden', 'Sweden', 'Sweden', 'Sweden',\n",
        "        'Sweden', 'Sweden'\n",
        "    ],\n",
        "    'gdp': [\n",
        "        158051.132, 158263.582, 157329.279, 158240.678, 156195.954,\n",
        "        155989.033, 156635.858, 156744.057, 157916.081, 159047.827,\n",
        "        160658.176, 163960.221, 165097.495, 166027.059, 166203.179,\n",
        "        169279.348, 79837.846, 80582.286, 79974.360, 80106.497,\n",
        "        79524.242, 79073.059, 79084.770, 79740.606, 79390.922,\n",
        "        79060.283, 78904.605, 76996.837, 75783.588, 76708.548,\n",
        "        77662.018, 77703.304\n",
        "    ],\n",
        "    'series_code': ['NYGDPMKTPSAKD'] * 32\n",
        "}\n",
        "gdp = pd.DataFrame(gdp_data)\n",
        "\n",
        "pop_data = {\n",
        "    'date': [\n",
        "        '1990-01-01', '1991-01-01', '1992-01-01', '1993-01-01',\n",
        "        '1990-01-01', '1991-01-01', '1992-01-01', '1993-01-01'\n",
        "    ],\n",
        "    'country': [\n",
        "        'Australia', 'Australia', 'Australia', 'Australia',\n",
        "        'Sweden', 'Sweden', 'Sweden', 'Sweden'\n",
        "    ],\n",
        "    'pop': [\n",
        "        17065100, 17284000, 17495000, 17667000,\n",
        "        8558835, 8617375, 8668067, 8718561\n",
        "    ],\n",
        "    'series_code': ['SP.POP.TOTL'] * 8\n",
        "}\n",
        "pop = pd.DataFrame(pop_data)\n",
        "\n",
        "# Merge gdp and pop on country and date with fill\n",
        "date_ctry = pd.merge_ordered(gdp,pop,on=['country','date'],fill_method='ffill')\n",
        "\n",
        "# Print date_ctry\n",
        "print(date_ctry)\n",
        "\n"
      ],
      "metadata": {
        "colab": {
          "base_uri": "https://localhost:8080/"
        },
        "id": "ls_8OSgwAIhv",
        "outputId": "9530698a-86cb-473b-b00d-0d3ac4306bcc"
      },
      "execution_count": 7,
      "outputs": [
        {
          "output_type": "stream",
          "name": "stdout",
          "text": [
            "          date    country         gdp  series_code_x       pop series_code_y\n",
            "0   1990-01-01  Australia  158051.132  NYGDPMKTPSAKD  17065100   SP.POP.TOTL\n",
            "1   1990-04-01  Australia  158263.582  NYGDPMKTPSAKD  17065100   SP.POP.TOTL\n",
            "2   1990-07-01  Australia  157329.279  NYGDPMKTPSAKD  17065100   SP.POP.TOTL\n",
            "3   1990-09-01  Australia  158240.678  NYGDPMKTPSAKD  17065100   SP.POP.TOTL\n",
            "4   1991-01-01  Australia  156195.954  NYGDPMKTPSAKD  17284000   SP.POP.TOTL\n",
            "5   1991-04-01  Australia  155989.033  NYGDPMKTPSAKD  17284000   SP.POP.TOTL\n",
            "6   1991-07-01  Australia  156635.858  NYGDPMKTPSAKD  17284000   SP.POP.TOTL\n",
            "7   1991-09-01  Australia  156744.057  NYGDPMKTPSAKD  17284000   SP.POP.TOTL\n",
            "8   1992-01-01  Australia  157916.081  NYGDPMKTPSAKD  17495000   SP.POP.TOTL\n",
            "9   1992-04-01  Australia  159047.827  NYGDPMKTPSAKD  17495000   SP.POP.TOTL\n",
            "10  1992-07-01  Australia  160658.176  NYGDPMKTPSAKD  17495000   SP.POP.TOTL\n",
            "11  1992-09-01  Australia  163960.221  NYGDPMKTPSAKD  17495000   SP.POP.TOTL\n",
            "12  1993-01-01  Australia  165097.495  NYGDPMKTPSAKD  17667000   SP.POP.TOTL\n",
            "13  1993-04-01  Australia  166027.059  NYGDPMKTPSAKD  17667000   SP.POP.TOTL\n",
            "14  1993-07-01  Australia  166203.179  NYGDPMKTPSAKD  17667000   SP.POP.TOTL\n",
            "15  1993-09-01  Australia  169279.348  NYGDPMKTPSAKD  17667000   SP.POP.TOTL\n",
            "16  1990-01-01     Sweden   79837.846  NYGDPMKTPSAKD   8558835   SP.POP.TOTL\n",
            "17  1990-04-01     Sweden   80582.286  NYGDPMKTPSAKD   8558835   SP.POP.TOTL\n",
            "18  1990-07-01     Sweden   79974.360  NYGDPMKTPSAKD   8558835   SP.POP.TOTL\n",
            "19  1990-09-01     Sweden   80106.497  NYGDPMKTPSAKD   8558835   SP.POP.TOTL\n",
            "20  1991-01-01     Sweden   79524.242  NYGDPMKTPSAKD   8617375   SP.POP.TOTL\n",
            "21  1991-04-01     Sweden   79073.059  NYGDPMKTPSAKD   8617375   SP.POP.TOTL\n",
            "22  1991-07-01     Sweden   79084.770  NYGDPMKTPSAKD   8617375   SP.POP.TOTL\n",
            "23  1991-09-01     Sweden   79740.606  NYGDPMKTPSAKD   8617375   SP.POP.TOTL\n",
            "24  1992-01-01     Sweden   79390.922  NYGDPMKTPSAKD   8668067   SP.POP.TOTL\n",
            "25  1992-04-01     Sweden   79060.283  NYGDPMKTPSAKD   8668067   SP.POP.TOTL\n",
            "26  1992-07-01     Sweden   78904.605  NYGDPMKTPSAKD   8668067   SP.POP.TOTL\n",
            "27  1992-09-01     Sweden   76996.837  NYGDPMKTPSAKD   8668067   SP.POP.TOTL\n",
            "28  1993-01-01     Sweden   75783.588  NYGDPMKTPSAKD   8718561   SP.POP.TOTL\n",
            "29  1993-04-01     Sweden   76708.548  NYGDPMKTPSAKD   8718561   SP.POP.TOTL\n",
            "30  1993-07-01     Sweden   77662.018  NYGDPMKTPSAKD   8718561   SP.POP.TOTL\n",
            "31  1993-09-01     Sweden   77703.304  NYGDPMKTPSAKD   8718561   SP.POP.TOTL\n"
          ]
        }
      ]
    }
  ]
}