{
  "nbformat": 4,
  "nbformat_minor": 0,
  "metadata": {
    "colab": {
      "provenance": []
    },
    "kernelspec": {
      "name": "python3",
      "display_name": "Python 3"
    },
    "language_info": {
      "name": "python"
    }
  },
  "cells": [
    {
      "cell_type": "code",
      "execution_count": null,
      "metadata": {
        "colab": {
          "base_uri": "https://localhost:8080/"
        },
        "id": "EAw6u2OkbkJN",
        "outputId": "7e8ef652-1660-452e-8bbc-1e6a981e32a5"
      },
      "outputs": [
        {
          "output_type": "stream",
          "name": "stdout",
          "text": [
            "a\n",
            "w\n",
            "a\n",
            "s\n",
            "u\n",
            "m\n",
            "i\n",
            "n\n",
            "a\n"
          ]
        }
      ],
      "source": [
        "name=\"awasumina\"\n",
        "for i in name:\n",
        "  print(i)"
      ]
    },
    {
      "cell_type": "code",
      "source": [
        "name=\"awasumina\"\n",
        "for i in name:\n",
        "  print(i, end=\",\")"
      ],
      "metadata": {
        "colab": {
          "base_uri": "https://localhost:8080/"
        },
        "id": "v-ZBJGmkcpkr",
        "outputId": "aa79a926-abb2-4c03-8bd3-a6b3bb8efd83"
      },
      "execution_count": null,
      "outputs": [
        {
          "output_type": "stream",
          "name": "stdout",
          "text": [
            "a,w,a,s,u,m,i,n,a,"
          ]
        }
      ]
    },
    {
      "cell_type": "code",
      "source": [
        "name=\"awasumina\"\n",
        "for i in name:\n",
        "  if(i==\"a\"):\n",
        "    print(i)"
      ],
      "metadata": {
        "colab": {
          "base_uri": "https://localhost:8080/"
        },
        "id": "OD1-EVVTdAti",
        "outputId": "80a3ffae-6aca-4282-ced7-d0766a84398d"
      },
      "execution_count": null,
      "outputs": [
        {
          "output_type": "stream",
          "name": "stdout",
          "text": [
            "a\n",
            "a\n",
            "a\n"
          ]
        }
      ]
    },
    {
      "cell_type": "code",
      "source": [
        "colors=['red','pink','brown','blue']\n",
        "for i in colors:\n",
        "  print(i)\n",
        "  for a in i:\n",
        "    print(a)\n",
        "  print(\"\\n\")\n"
      ],
      "metadata": {
        "colab": {
          "base_uri": "https://localhost:8080/"
        },
        "id": "M-7g8WYidI5Z",
        "outputId": "9a5c7b70-8d8d-4a1a-f702-b67acdcb37f7"
      },
      "execution_count": null,
      "outputs": [
        {
          "output_type": "stream",
          "name": "stdout",
          "text": [
            "red\n",
            "r\n",
            "e\n",
            "d\n",
            "\n",
            "\n",
            "pink\n",
            "p\n",
            "i\n",
            "n\n",
            "k\n",
            "\n",
            "\n",
            "brown\n",
            "b\n",
            "r\n",
            "o\n",
            "w\n",
            "n\n",
            "\n",
            "\n",
            "blue\n",
            "b\n",
            "l\n",
            "u\n",
            "e\n",
            "\n",
            "\n"
          ]
        }
      ]
    },
    {
      "cell_type": "code",
      "source": [
        "for i in range(5):      #range  from 0 to 4\n",
        "  print (i,i+1)"
      ],
      "metadata": {
        "colab": {
          "base_uri": "https://localhost:8080/"
        },
        "id": "TROTYsPPd8EK",
        "outputId": "73757766-30ed-4501-a63c-ee0ed3a28a42"
      },
      "execution_count": null,
      "outputs": [
        {
          "output_type": "stream",
          "name": "stdout",
          "text": [
            "0 1\n",
            "1 2\n",
            "2 3\n",
            "3 4\n",
            "4 5\n"
          ]
        }
      ]
    },
    {
      "cell_type": "code",
      "source": [
        "for i in range(1,5):\n",
        "  print(i)"
      ],
      "metadata": {
        "colab": {
          "base_uri": "https://localhost:8080/"
        },
        "id": "T0Mha7WzeasJ",
        "outputId": "d9baff0f-22bb-432c-ee35-70c913c2185a"
      },
      "execution_count": null,
      "outputs": [
        {
          "output_type": "stream",
          "name": "stdout",
          "text": [
            "1\n",
            "2\n",
            "3\n",
            "4\n"
          ]
        }
      ]
    },
    {
      "cell_type": "code",
      "source": [
        "for i in range(1,12,2):\n",
        "  print(i)"
      ],
      "metadata": {
        "colab": {
          "base_uri": "https://localhost:8080/"
        },
        "id": "erz7BFDVwC6d",
        "outputId": "42b580e6-4234-4a33-c884-846e1a9d543c"
      },
      "execution_count": null,
      "outputs": [
        {
          "output_type": "stream",
          "name": "stdout",
          "text": [
            "1\n",
            "3\n",
            "5\n",
            "7\n",
            "9\n",
            "11\n"
          ]
        }
      ]
    },
    {
      "cell_type": "code",
      "source": [
        "i=0\n",
        "while(i<3):\n",
        "  print(i)\n",
        "  i=i+1       #i++ doesnt exist"
      ],
      "metadata": {
        "colab": {
          "base_uri": "https://localhost:8080/"
        },
        "id": "Y_8FVLTIwcUU",
        "outputId": "4321ca09-0c01-494e-83f0-15aa1192b7f2"
      },
      "execution_count": null,
      "outputs": [
        {
          "output_type": "stream",
          "name": "stdout",
          "text": [
            "0\n",
            "1\n",
            "2\n"
          ]
        }
      ]
    },
    {
      "cell_type": "code",
      "source": [
        "i=5\n",
        "while(i>3):\n",
        "  print(i)\n",
        "  i=i-1"
      ],
      "metadata": {
        "colab": {
          "base_uri": "https://localhost:8080/"
        },
        "id": "qW98M75SxGKz",
        "outputId": "39c7c83e-de3b-4db3-c0b4-0c6c8470b037"
      },
      "execution_count": null,
      "outputs": [
        {
          "output_type": "stream",
          "name": "stdout",
          "text": [
            "5\n",
            "4\n"
          ]
        }
      ]
    },
    {
      "cell_type": "code",
      "source": [
        "i=5\n",
        "while(i>3):\n",
        "  print(i)\n",
        "  i=i-1\n",
        "else:\n",
        "  print(\"I stopped because value is less than 3\")"
      ],
      "metadata": {
        "colab": {
          "base_uri": "https://localhost:8080/"
        },
        "id": "RflyGxcsxRDc",
        "outputId": "31f48f1c-ba5e-4fa3-f131-175c047df0f1"
      },
      "execution_count": null,
      "outputs": [
        {
          "output_type": "stream",
          "name": "stdout",
          "text": [
            "5\n",
            "4\n",
            "I stopped because value is less than 3\n"
          ]
        }
      ]
    },
    {
      "cell_type": "code",
      "source": [
        "# Python doesn't have a built-in do-while loop like some other programming languages such as C or Java. However, you can achieve similar functionality using a while loop in combination with a condition that gets checked after the first iteration\n",
        "\n",
        "i=5\n",
        "while(True):\n",
        "  print(i)\n",
        "  i=i-1\n",
        "  if(i<3):\n",
        "    break\n"
      ],
      "metadata": {
        "colab": {
          "base_uri": "https://localhost:8080/"
        },
        "id": "11UlPmalxyhk",
        "outputId": "b4d52eba-2b0d-42e9-83ec-abe7268c8f04"
      },
      "execution_count": null,
      "outputs": [
        {
          "output_type": "stream",
          "name": "stdout",
          "text": [
            "5\n",
            "4\n",
            "3\n"
          ]
        }
      ]
    },
    {
      "cell_type": "code",
      "source": [
        "#use of else with for\n",
        "for x in range(5):\n",
        "    print (\"iteration no {} in for loop\".format(x+1))\n",
        "else:\n",
        "    print (\"else block in loop\")\n",
        "print (\"Out of loop\")"
      ],
      "metadata": {
        "id": "sDaRk6c1BO3R"
      },
      "execution_count": null,
      "outputs": []
    }
  ]
}