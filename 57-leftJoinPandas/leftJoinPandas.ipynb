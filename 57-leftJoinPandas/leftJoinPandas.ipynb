{
  "cells": [
    {
      "cell_type": "code",
      "execution_count": 1,
      "metadata": {
        "colab": {
          "base_uri": "https://localhost:8080/"
        },
        "id": "YqOVamNCfF3Z",
        "outputId": "53198eac-40e9-4dbd-826b-5494ebfe4143"
      },
      "outputs": [
        {
          "name": "stdout",
          "output_type": "stream",
          "text": [
            "10\n"
          ]
        }
      ],
      "source": [
        "import pandas as pd\n",
        "\n",
        "data = {\n",
        "    'id': [257, 14290, 38365, 9672, 12819, 3089, 11934, 13807, 73873, 11622],\n",
        "    'title': ['Oliver Twist', 'Better Luck Tomorrow', 'Grown Ups', 'Infamous', 'Alpha and Omega', 'Red River', 'The Hudsucker Proxy', 'Exiled', 'Albert Nobbs', 'Blast from the Past'],\n",
        "    'popularity': [20.416, 3.877, 38.864, 3.681, 12.301, 5.345, 14.189, 8.486, 7.802, 8.737],\n",
        "    'release_date': ['2005-09-23', '2002-01-12', '2010-06-24', '2006-11-16', '2010-09-17', '1948-08-26', '1994-03-11', '2006-09-06', '2011-12-21', '1999-02-12']\n",
        "}\n",
        "\n",
        "movies = pd.DataFrame(data)\n",
        "\n",
        "data2 = {\n",
        "    'id': [19995, 285, 206647, 49026, 49529, 2292, 692, 36095, 14337, 9367],\n",
        "    'budget': [237000000, 300000000, 245000000, 250000000, 260000000, 27000, 12000, 20000, 7000, 220000],\n",
        "    'revenue': [2.788e+09, 9.610e+08, 8.807e+08, 1.085e+09, 2.841e+08, 3.151e+06, 6.000e+06, 9.900e+04, 4.248e+05, 2.041e+06]\n",
        "}\n",
        "\n",
        "financials = pd.DataFrame(data2)\n",
        "\n",
        "# Merge the movies table with the financials table with a left join\n",
        "movies_financials = movies.merge(financials, on='id', how='left')\n",
        "\n",
        "# Count the number of rows in the budget column that are missing\n",
        "number_of_missing_fin = movies_financials['budget'].isnull().sum()\n",
        "\n",
        "# Print the number of movies missing financials\n",
        "print(number_of_missing_fin)\n"
      ]
    },
    {
      "cell_type": "code",
      "execution_count": 3,
      "metadata": {
        "colab": {
          "base_uri": "https://localhost:8080/"
        },
        "id": "MqYp0pEvf8po",
        "outputId": "f862628c-3dcd-4055-ef7f-1d4a8501e6ba"
      },
      "outputs": [
        {
          "name": "stdout",
          "output_type": "stream",
          "text": [
            "    id        title  popularity release_date                tagline\n",
            "0  863  Toy Story 2      73.575   1999-10-30  A Plan No One Escapes\n",
            "(1, 5)\n"
          ]
        }
      ],
      "source": [
        "import pandas as pd\n",
        "\n",
        "tagline_data = {\n",
        "    'id': [19995, 285, 863, 49026, 49529, 124606, 14337, 9367, 72766, 126186],\n",
        "    'tagline': [\n",
        "        'Enter the World of Pandora.',\n",
        "        'At the end of the world, the adventure begins.',\n",
        "        'A Plan No One Escapes',\n",
        "        'The Legend Ends',\n",
        "        'Lost in our world, found in another.',\n",
        "        'Sometimes you\\'ve got to break the rules',\n",
        "        'What happens if it actually works?',\n",
        "        'He didn\\'t come looking for trouble, but trouble found him.',\n",
        "        'A newlywed couple\\'s honeymoon is upended by the arrival of an uninvited guest.',\n",
        "        'A New Yorker in Shanghai'\n",
        "    ]\n",
        "}\n",
        "\n",
        "taglines = pd.DataFrame(tagline_data)\n",
        "\n",
        "toy_story_data = {\n",
        "    'id': [10193, 863, 862],\n",
        "    'title': ['Toy Story 3', 'Toy Story 2', 'Toy Story'],\n",
        "    'popularity': [59.995, 73.575, 73.640],\n",
        "    'release_date': ['2010-06-16', '1999-10-30', '1995-10-30']\n",
        "}\n",
        "\n",
        "toy_story = pd.DataFrame(toy_story_data)\n",
        "\n",
        "# Merge the toy_story and taglines tables with a inner join\n",
        "toystory_tag = toy_story.merge(taglines, on=\"id\", how=\"inner\")\n",
        "\n",
        "# Print the rows and shape of toystory_tag\n",
        "print(toystory_tag)\n",
        "print(toystory_tag.shape) "
      ]
    }
  ],
  "metadata": {
    "colab": {
      "provenance": []
    },
    "kernelspec": {
      "display_name": "Python 3",
      "name": "python3"
    },
    "language_info": {
      "name": "python"
    }
  },
  "nbformat": 4,
  "nbformat_minor": 0
}
