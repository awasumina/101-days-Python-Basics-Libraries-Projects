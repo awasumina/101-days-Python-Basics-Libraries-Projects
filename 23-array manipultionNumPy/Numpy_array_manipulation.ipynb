{
  "cells": [
    {
      "cell_type": "code",
      "execution_count": null,
      "metadata": {
        "id": "VC2NSfch2jp9"
      },
      "outputs": [],
      "source": [
        "# indexing&slicing\n",
        "# adding and removing data"
      ]
    },
    {
      "cell_type": "code",
      "execution_count": null,
      "metadata": {
        "id": "xrmtBky_U5I7"
      },
      "outputs": [],
      "source": [
        "tree_census = array([[     3, 501451,     24,      0],\n",
        "       [     4, 501451,     20,      0],\n",
        "       [     7, 501911,      3,      0],\n",
        "       ...,\n",
        "       [  1198, 227387,     11,      0],\n",
        "       [  1199, 227387,     11,      0],\n",
        "       [  1210, 227386,      6,      0]])\n",
        "\n",
        "# Select all rows of block ID data from the second column \n",
        "block_ids = tree_census[:, 1]\n",
        "\n",
        "# Print the first five block_ids\n",
        "\n",
        "print(block_ids[:5])"
      ]
    },
    {
      "cell_type": "code",
      "execution_count": null,
      "metadata": {
        "id": "ZGSGgJ7Z2kJ3"
      },
      "outputs": [],
      "source": [
        "import numpy as np\n",
        "new_trees = np.array([[1211, 227386, 20, 0], [1212, 227386, 8, 0]])\n",
        "\n",
        "tree_census=np.array([[3 501451     24      0]\n",
        " [     4 501451     20      0]\n",
        " [     7 501911      3      0]\n",
        " ...\n",
        " [  1198 227387     11      0]\n",
        " [  1199 227387     11      0]\n",
        " [  1210 227386      6      0]])\n",
        "\n",
        "# Print the shapes of tree_census and new_trees\n",
        "print(tree_census.shape,new_trees.shape)\n",
        "\n",
        "# Add rows to tree_census which contain data for the new trees\n",
        "updated_tree_census = np.concatenate((tree_census,new_trees))\n",
        "print(updated_tree_census)\n"
      ]
    },
    {
      "cell_type": "code",
      "execution_count": null,
      "metadata": {
        "id": "AnbZU8chWw2W"
      },
      "outputs": [],
      "source": [
        "# Print the shapes of tree_census and trunk_stump_diameters\n",
        "print(trunk_stump_diameters.shape, tree_census.shape)\n",
        "\n",
        "# Reshape trunk_stump_diameters\n",
        "reshaped_diameters = trunk_stump_diameters.reshape((1000, 1))\n",
        "\n",
        "# Concatenate reshaped_diameters to tree_census as the last column\n",
        "concatenated_tree_census = np.concatenate((tree_census,reshaped_diameters),axis=1)\n",
        "print(concatenated_tree_census)"
      ]
    },
    {
      "cell_type": "code",
      "execution_count": null,
      "metadata": {
        "id": "b3UY2N9jXPiT"
      },
      "outputs": [],
      "source": [
        "# Delete the stump diameter column from tree_census\n",
        "tree_census_no_stumps = np.delete(tree_census, 3, axis=1)\n",
        "\n",
        "# Save the indices of the trees on block 313879\n",
        "private_block_indices = np.where(tree_census[:,1] == 313879)\n",
        "\n",
        "# Delete the rows for trees on block 313879 from tree_census_no_stumps\n",
        "tree_census_clean = np.delete(tree_census_no_stumps,private_block_indices,axis=0)\n",
        "\n",
        "# Print the shape of tree_census_clean\n",
        "print(tree_census_clean.shape)"
      ]
    }
  ],
  "metadata": {
    "colab": {
      "provenance": []
    },
    "kernelspec": {
      "display_name": "Python 3",
      "name": "python3"
    },
    "language_info": {
      "name": "python"
    }
  },
  "nbformat": 4,
  "nbformat_minor": 0
}
