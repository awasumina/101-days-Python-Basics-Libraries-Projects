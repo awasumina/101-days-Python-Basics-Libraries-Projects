{
  "nbformat": 4,
  "nbformat_minor": 0,
  "metadata": {
    "colab": {
      "provenance": []
    },
    "kernelspec": {
      "name": "python3",
      "display_name": "Python 3"
    },
    "language_info": {
      "name": "python"
    }
  },
  "cells": [
    {
      "cell_type": "code",
      "execution_count": 3,
      "metadata": {
        "colab": {
          "base_uri": "https://localhost:8080/"
        },
        "id": "PE5ctNtSSDRT",
        "outputId": "e914d24c-500c-42b1-8744-1b9a498602fd"
      },
      "outputs": [
        {
          "output_type": "stream",
          "name": "stdout",
          "text": [
            "   account  ward    aid             business              address    zip  \\\n",
            "0       10    10  829.0           HONEYBEERS  13200 S HOUSTON AVE  60633   \n",
            "1       10    10  829.0           HONEYBEERS  13200 S HOUSTON AVE  60633   \n",
            "2    10002    14  775.0          CELINA DELI    5089 S ARCHER AVE  60632   \n",
            "3    10002    14  775.0          CELINA DELI    5089 S ARCHER AVE  60632   \n",
            "4    86350    42  708.0  AMERICASH LOANS LLC   103 N WELLS ST 1ST  60606   \n",
            "5    86350    42  708.0  AMERICASH LOANS LLC   103 N WELLS ST 1ST  60606   \n",
            "6    86350    42  708.0  AMERICASH LOANS LLC   103 N WELLS ST 1ST  60606   \n",
            "\n",
            "  first_name  last_name           title  \n",
            "0      PEARL    SHERMAN       PRESIDENT  \n",
            "1      PEARL    SHERMAN       SECRETARY  \n",
            "2     WALTER     MROZEK         PARTNER  \n",
            "3     CELINA     BYRDAK         PARTNER  \n",
            "4      IRENE  ROSENFELD       PRESIDENT  \n",
            "5     STEVEN     JENSEN  VICE PRESIDENT  \n",
            "6     MANUEL    SALAZAR       SECRETARY  \n"
          ]
        }
      ],
      "source": [
        "import pandas as pd\n",
        "\n",
        "data = {\n",
        "    'account': [307071, 10, 10002, 10005, 10044, 8634, 86350, 86352, 86355, 86373],\n",
        "    'ward': [3, 10, 14, 12, 44, 10, 42, 23, 43, 20],\n",
        "    'aid': [743, 829, 775, None, 638, None, 708, 775, 638, 775],\n",
        "    'business': [\n",
        "        \"REGGIE'S BAR & GRILL\", \"HONEYBEERS\", \"CELINA DELI\", \"KRAFT FOODS NORTH AMERICA\",\n",
        "        \"NEYBOUR'S TAVERN & GRILLE\", \"J M V CORP\", \"AMERICASH LOANS LLC\", \"MC DONALD'S\",\n",
        "        \"VOSGES HAUT-CHOCOLAT\", \"ALMUFLIHI FOOD & LIQUOR\"\n",
        "    ],\n",
        "    'address': [\n",
        "        \"2105 S STATE ST\", \"13200 S HOUSTON AVE\", \"5089 S ARCHER AVE\", \"2005 W 43RD ST\",\n",
        "        \"3651 N SOUTHPORT AVE\", \"2717 E 95TH ST\", \"103 N WELLS ST 1ST\", \"6720 W ARCHER AVE 1\",\n",
        "        \"951 W ARMITAGE AVE 1\", \"5400-5404 S HALSTED ST 1ST\"\n",
        "    ],\n",
        "    'zip': [60616, 60633, 60632, 60609, 60613, 60617, 60606, 60638, 60614, 60609]\n",
        "}\n",
        "\n",
        "licenses = pd.DataFrame(data)\n",
        "\n",
        "data2 = {\n",
        "    'account': [10, 10, 10002, 10002, 86350, 9513, 9563, 86350, 86350, 9933],\n",
        "    'first_name': ['PEARL', 'PEARL', 'WALTER', 'CELINA', 'IRENE', 'THOMAS', 'GUADALUPE', 'STEVEN', 'MANUEL', 'MICHAEL'],\n",
        "    'last_name': ['SHERMAN', 'SHERMAN', 'MROZEK', 'BYRDAK', 'ROSENFELD', 'MAHLUM', 'PEREZ', 'JENSEN', 'SALAZAR', 'KNAB'],\n",
        "    'title': ['PRESIDENT', 'SECRETARY', 'PARTNER', 'PARTNER', 'PRESIDENT', 'SECRETARY', 'PRESIDENT', 'VICE PRESIDENT', 'SECRETARY', 'PRESIDENT']\n",
        "}\n",
        "\n",
        "# Create the dataframe\n",
        "biz_owners = pd.DataFrame(data2)\n",
        "\n",
        "# Merge the licenses and biz_owners table on account\n",
        "licenses_owners = licenses.merge(biz_owners, on=\"account\")\n",
        "\n",
        "print(licenses_owners)\n",
        "\n"
      ]
    },
    {
      "cell_type": "code",
      "source": [
        "import pandas as pd\n",
        "\n",
        "data = {\n",
        "    'account': [307071, 10, 10002, 10005, 10044, 8634, 86350, 86352, 86355, 86373],\n",
        "    'ward': [3, 10, 14, 12, 44, 10, 42, 23, 43, 20],\n",
        "    'aid': [743, 829, 775, None, 638, None, 708, 775, 638, 775],\n",
        "    'business': [\n",
        "        \"REGGIE'S BAR & GRILL\", \"HONEYBEERS\", \"CELINA DELI\", \"KRAFT FOODS NORTH AMERICA\",\n",
        "        \"NEYBOUR'S TAVERN & GRILLE\", \"J M V CORP\", \"AMERICASH LOANS LLC\", \"MC DONALD'S\",\n",
        "        \"VOSGES HAUT-CHOCOLAT\", \"ALMUFLIHI FOOD & LIQUOR\"\n",
        "    ],\n",
        "    'address': [\n",
        "        \"2105 S STATE ST\", \"13200 S HOUSTON AVE\", \"5089 S ARCHER AVE\", \"2005 W 43RD ST\",\n",
        "        \"3651 N SOUTHPORT AVE\", \"2717 E 95TH ST\", \"103 N WELLS ST 1ST\", \"6720 W ARCHER AVE 1\",\n",
        "        \"951 W ARMITAGE AVE 1\", \"5400-5404 S HALSTED ST 1ST\"\n",
        "    ],\n",
        "    'zip': [60616, 60633, 60632, 60609, 60613, 60617, 60606, 60638, 60614, 60609]\n",
        "}\n",
        "\n",
        "licenses = pd.DataFrame(data)\n",
        "\n",
        "data2 = {\n",
        "    'account': [10, 10, 10002, 10002, 86350, 9513, 9563, 86350, 86350, 9933],\n",
        "    'first_name': ['PEARL', 'PEARL', 'WALTER', 'CELINA', 'IRENE', 'THOMAS', 'GUADALUPE', 'STEVEN', 'MANUEL', 'MICHAEL'],\n",
        "    'last_name': ['SHERMAN', 'SHERMAN', 'MROZEK', 'BYRDAK', 'ROSENFELD', 'MAHLUM', 'PEREZ', 'JENSEN', 'SALAZAR', 'KNAB'],\n",
        "    'title': ['PRESIDENT', 'SECRETARY', 'PARTNER', 'PARTNER', 'PRESIDENT', 'SECRETARY', 'PRESIDENT', 'VICE PRESIDENT', 'SECRETARY', 'PRESIDENT']\n",
        "}\n",
        "\n",
        "# Create the dataframe\n",
        "biz_owners = pd.DataFrame(data2)\n",
        "\n",
        "# Merge the licenses and biz_owners table on account\n",
        "licenses_owners = licenses.merge(biz_owners, on=\"account\")\n",
        "\n",
        "# Group the results by title then count the number of accounts\n",
        "counted_df = licenses_owners.groupby(\"title\").agg({'account':'count'})\n",
        "print(counted_df)\n",
        "\n",
        "# Sort the counted_df in desending order\n",
        "sorted_df = counted_df.sort_values(\"account\", ascending=False)\n",
        "\n",
        "# Use .head() method to print the first few rows of sorted_df\n",
        "print(sorted_df.head())"
      ],
      "metadata": {
        "colab": {
          "base_uri": "https://localhost:8080/"
        },
        "id": "lgAJ1BJ1ekTY",
        "outputId": "52d4a218-5874-424b-d90a-d7c71632b757"
      },
      "execution_count": 4,
      "outputs": [
        {
          "output_type": "stream",
          "name": "stdout",
          "text": [
            "                account\n",
            "title                  \n",
            "PARTNER               2\n",
            "PRESIDENT             2\n",
            "SECRETARY             2\n",
            "VICE PRESIDENT        1\n",
            "                account\n",
            "title                  \n",
            "PARTNER               2\n",
            "PRESIDENT             2\n",
            "SECRETARY             2\n",
            "VICE PRESIDENT        1\n"
          ]
        }
      ]
    }
  ]
}