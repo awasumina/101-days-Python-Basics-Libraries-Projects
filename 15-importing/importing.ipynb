{
  "cells": [
    {
      "cell_type": "code",
      "execution_count": 6,
      "metadata": {
        "colab": {
          "base_uri": "https://localhost:8080/"
        },
        "id": "rxFcBRYNUIOu",
        "outputId": "5b6cc48d-d098-46d2-e497-fb8b75317220"
      },
      "outputs": [
        {
          "name": "stdout",
          "output_type": "stream",
          "text": [
            "3.0\n"
          ]
        }
      ],
      "source": [
        "import math\n",
        "print(math.sqrt(9))"
      ]
    },
    {
      "cell_type": "code",
      "execution_count": 4,
      "metadata": {
        "colab": {
          "base_uri": "https://localhost:8080/"
        },
        "id": "hXmIir3qWCz3",
        "outputId": "0a573efe-b97e-4b8b-be8e-f02de210ccff"
      },
      "outputs": [
        {
          "name": "stdout",
          "output_type": "stream",
          "text": [
            "3.0\n"
          ]
        }
      ],
      "source": [
        "import math as m\n",
        "print(m.sqrt(9))"
      ]
    },
    {
      "cell_type": "code",
      "execution_count": 5,
      "metadata": {
        "colab": {
          "base_uri": "https://localhost:8080/"
        },
        "id": "H2WZgn0QV_5w",
        "outputId": "35f6666c-0ed6-4275-9557-e52ac82b583a"
      },
      "outputs": [
        {
          "name": "stdout",
          "output_type": "stream",
          "text": [
            "3.0\n"
          ]
        }
      ],
      "source": [
        "from math import sqrt\n",
        "print(sqrt(9))"
      ]
    },
    {
      "cell_type": "code",
      "execution_count": null,
      "metadata": {
        "id": "cm66vQJmV5iU"
      },
      "outputs": [],
      "source": [
        "from math import sqrt as s\n",
        "print(s(9))  "
      ]
    },
    {
      "cell_type": "code",
      "execution_count": 8,
      "metadata": {
        "id": "K3UCghlBWL_h"
      },
      "outputs": [],
      "source": [
        "# to use own library\n",
        "\n",
        "\n",
        "# awa.py\n",
        "def add():\n",
        "  print(\"adding\")\n",
        "\n",
        "#main.py \n",
        "from awa import add\n",
        "add()\n",
        "print(\"donee\")"
      ]
    },
    {
      "cell_type": "code",
      "execution_count": null,
      "metadata": {
        "id": "XUW_DoX-WNcX"
      },
      "outputs": [],
      "source": []
    }
  ],
  "metadata": {
    "colab": {
      "provenance": []
    },
    "kernelspec": {
      "display_name": "Python 3",
      "name": "python3"
    },
    "language_info": {
      "name": "python"
    }
  },
  "nbformat": 4,
  "nbformat_minor": 0
}
