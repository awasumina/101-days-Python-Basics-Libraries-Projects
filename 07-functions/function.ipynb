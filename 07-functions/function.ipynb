{
  "nbformat": 4,
  "nbformat_minor": 0,
  "metadata": {
    "colab": {
      "provenance": []
    },
    "kernelspec": {
      "name": "python3",
      "display_name": "Python 3"
    },
    "language_info": {
      "name": "python"
    }
  },
  "cells": [
    {
      "cell_type": "code",
      "execution_count": 2,
      "metadata": {
        "colab": {
          "base_uri": "https://localhost:8080/"
        },
        "id": "QcXaUZJs0OzJ",
        "outputId": "75e1bcd3-1067-45cc-d656-5d9dd50cd8e3"
      },
      "outputs": [
        {
          "output_type": "stream",
          "name": "stdout",
          "text": [
            "5\n"
          ]
        }
      ],
      "source": [
        "def add(a,b):\n",
        "  print(a+b)\n",
        "add(2,3)\n",
        "\n",
        "def sub(a,b):\n",
        "  pass        #pass means this function would be continue later, currently ignore it\n",
        ""
      ]
    },
    {
      "cell_type": "code",
      "source": [
        "def calculateGmean(a, b):\n",
        "  mean = (a*b)/(a+b)\n",
        "  print(mean)\n",
        "\n",
        "def isGreater(a, b):\n",
        "  if(a>b):\n",
        "    print(\"First number is greater\")\n",
        "  else:\n",
        "    print(\"Second number is greater or equal\")\n",
        "\n",
        "\n",
        "\n",
        "a = 9\n",
        "b = 8\n",
        "isGreater(a, b)\n",
        "calculateGmean(a, b)\n",
        "\n",
        "print(\"next value\")\n",
        "c = 8\n",
        "d = 74\n",
        "isGreater(c, d)\n",
        "calculateGmean(c, d)\n"
      ],
      "metadata": {
        "colab": {
          "base_uri": "https://localhost:8080/"
        },
        "id": "eI2xuqmO0-49",
        "outputId": "e49d394d-6464-4897-96f9-bd3c48b9152d"
      },
      "execution_count": 7,
      "outputs": [
        {
          "output_type": "stream",
          "name": "stdout",
          "text": [
            "First number is greater\n",
            "4.235294117647059\n",
            "next value\n",
            "Second number is greater or equal\n",
            "7.219512195121951\n"
          ]
        }
      ]
    },
    {
      "cell_type": "code",
      "source": [
        "def add(a=100,b=500):\n",
        "  print(a+b)\n",
        "add(2,3)\n",
        "add()\n",
        "add(2)\n",
        "add(b=3)\n",
        "add(b=3,a=2)"
      ],
      "metadata": {
        "colab": {
          "base_uri": "https://localhost:8080/"
        },
        "id": "SgZyhAPd5O14",
        "outputId": "df1993db-97bc-440a-991e-b7b6a734f8df"
      },
      "execution_count": 16,
      "outputs": [
        {
          "output_type": "stream",
          "name": "stdout",
          "text": [
            "5\n",
            "600\n",
            "502\n",
            "103\n",
            "5\n"
          ]
        }
      ]
    },
    {
      "cell_type": "code",
      "source": [
        "def add(a,b=5):\n",
        "  print(a+b)\n",
        "add(2)"
      ],
      "metadata": {
        "colab": {
          "base_uri": "https://localhost:8080/"
        },
        "id": "TGqSuTz95r5g",
        "outputId": "47e83ece-8f0d-40cc-d5ab-813ebff87ebb"
      },
      "execution_count": 15,
      "outputs": [
        {
          "output_type": "stream",
          "name": "stdout",
          "text": [
            "7\n"
          ]
        }
      ]
    },
    {
      "cell_type": "code",
      "source": [
        "# tuple taken as arg\n",
        "def average(*numbers):\n",
        "  print(type(numbers))\n",
        "  sum = 0\n",
        "  for i in numbers:\n",
        "    print(i)\n",
        "    sum = sum + i\n",
        "  print(\"Average is: \", sum / len(numbers))\n",
        "\n",
        "average(5,6,10,14)"
      ],
      "metadata": {
        "colab": {
          "base_uri": "https://localhost:8080/"
        },
        "id": "zb8oY6C364Eb",
        "outputId": "0744ee99-d1de-48eb-eef7-0744f13b902e"
      },
      "execution_count": 20,
      "outputs": [
        {
          "output_type": "stream",
          "name": "stdout",
          "text": [
            "<class 'tuple'>\n",
            "5\n",
            "6\n",
            "10\n",
            "14\n",
            "Average is:  8.75\n"
          ]
        }
      ]
    },
    {
      "cell_type": "code",
      "source": [
        "# dictionary taken as arg\n",
        "\n",
        "def name(**name):\n",
        "  print(type(name))\n",
        "  print(\"Hello,\", name[\"fname\"], name[\"mname\"], name[\"lname\"])\n",
        "\n",
        "\n",
        "name(mname=\"Buchanan\", lname=\"Barnes\", fname=\"James\")"
      ],
      "metadata": {
        "colab": {
          "base_uri": "https://localhost:8080/"
        },
        "id": "YFxFANSA7aGr",
        "outputId": "bf693f3a-4c36-49aa-b08d-6b1fc3b24e75"
      },
      "execution_count": 22,
      "outputs": [
        {
          "output_type": "stream",
          "name": "stdout",
          "text": [
            "<class 'dict'>\n",
            "Hello, James Buchanan Barnes\n"
          ]
        }
      ]
    },
    {
      "cell_type": "code",
      "source": [
        "def add(a,b):\n",
        "  return(a+b)\n",
        "  return(a-b)   #only first return value is seen\n",
        "\n",
        "c=add(2,3)\n",
        "print(c)"
      ],
      "metadata": {
        "colab": {
          "base_uri": "https://localhost:8080/"
        },
        "id": "SG7xFi5g7wQL",
        "outputId": "6d946e7a-601a-4741-ec71-668544668620"
      },
      "execution_count": 24,
      "outputs": [
        {
          "output_type": "stream",
          "name": "stdout",
          "text": [
            "5\n"
          ]
        }
      ]
    }
  ]
}