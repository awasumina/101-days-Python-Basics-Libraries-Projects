{
  "cells": [
    {
      "cell_type": "code",
      "execution_count": 8,
      "metadata": {
        "colab": {
          "base_uri": "https://localhost:8080/"
        },
        "id": "NywVK6dz3uIw",
        "outputId": "4d84d18e-385e-43c8-8c6c-efc416fa2b94"
      },
      "outputs": [
        {
          "name": "stdout",
          "output_type": "stream",
          "text": [
            "{2, 4, 5}\n"
          ]
        }
      ],
      "source": [
        "#set dont contain repeated object\n",
        "s={5,4,2,5,4}\n",
        "print(s)  "
      ]
    },
    {
      "cell_type": "code",
      "execution_count": 23,
      "metadata": {
        "colab": {
          "base_uri": "https://localhost:8080/"
        },
        "id": "x5Lzm8NG5aT7",
        "outputId": "825d1544-f3d8-44f8-fa6b-d229bde2767d"
      },
      "outputs": [
        {
          "name": "stdout",
          "output_type": "stream",
          "text": [
            "<class 'dict'>\n"
          ]
        }
      ],
      "source": [
        "# sets are unordered\n",
        "# set are immutable\n",
        "y={} \n",
        "print(type(y))    #<class 'dict'>\n",
        "\n",
        "#this create the dictionary so to create set y = set() needed to do"
      ]
    },
    {
      "cell_type": "code",
      "execution_count": 34,
      "metadata": {
        "colab": {
          "base_uri": "https://localhost:8080/"
        },
        "id": "-MUfSMYB7OgV",
        "outputId": "fee25f00-4087-4d79-d439-a0f636df7ad2"
      },
      "outputs": [
        {
          "name": "stdout",
          "output_type": "stream",
          "text": [
            "{1, 2, 3, 5, 6, 7}\n",
            "{1, 2, 3, 5, 6, 7} {3, 6, 7}\n",
            "\n",
            "\n",
            "{6}\n",
            "{1, 2, 5, 6} {3, 6, 7}\n",
            "\n",
            "\n",
            "{1, 2, 3, 5, 7}\n",
            "{1, 2, 5, 6} {3, 6, 7}\n"
          ]
        }
      ],
      "source": [
        "s1={1,2,5,6}\n",
        "s2={3,6,7}\n",
        "print(s1.union(s2))   #repeated is removed and union done\n",
        "s1.update(s2)         #this means add value to s1 which are in s2 not in s1\n",
        "print(s1,s2)\n",
        "print(\"\\n\")\n",
        "\n",
        "s1={1,2,5,6}\n",
        "s2={3,6,7}\n",
        "print(s1.intersection(s2))\n",
        "print(s1,s2)                  #s1 doesnt get updated\n",
        "print(\"\\n\")\n",
        "\n",
        "s1={1,2,5,6}\n",
        "s2={3,6,7}\n",
        "print(s1.symmetric_difference(s2))"
      ]
    }
  ],
  "metadata": {
    "colab": {
      "provenance": []
    },
    "kernelspec": {
      "display_name": "Python 3",
      "name": "python3"
    },
    "language_info": {
      "name": "python"
    }
  },
  "nbformat": 4,
  "nbformat_minor": 0
}
