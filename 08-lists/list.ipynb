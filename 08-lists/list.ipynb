{
  "cells": [
    {
      "cell_type": "code",
      "execution_count": null,
      "metadata": {
        "colab": {
          "base_uri": "https://localhost:8080/"
        },
        "id": "Nrtuy7ut8dln",
        "outputId": "393fc693-75cb-4eea-b449-0c75110135ff"
      },
      "outputs": [
        {
          "name": "stdout",
          "output_type": "stream",
          "text": [
            "[1, 2, 3, 4, 5]\n",
            "<class 'list'>\n",
            "3\n"
          ]
        }
      ],
      "source": [
        "#ordered mutable\n",
        "l=[1,2,3,4,5]\n",
        "print(l)\n",
        "print(type(l))\n",
        "print(l[2]) \n"
      ]
    },
    {
      "cell_type": "code",
      "execution_count": null,
      "metadata": {
        "colab": {
          "base_uri": "https://localhost:8080/"
        },
        "id": "dXNbvr6m9Hjz",
        "outputId": "2e7e287c-eb04-4fec-fb70-c0630acba30f"
      },
      "outputs": [
        {
          "name": "stdout",
          "output_type": "stream",
          "text": [
            "awa\n"
          ]
        }
      ],
      "source": [
        "# list can contain all type of datatype\n",
        "l=[1,True,\"awa\"]\n",
        "print(l[2]) "
      ]
    },
    {
      "cell_type": "code",
      "execution_count": null,
      "metadata": {
        "colab": {
          "base_uri": "https://localhost:8080/"
        },
        "id": "RDuIwoogNWMm",
        "outputId": "699b340e-dbd6-45fb-fa91-c186b0ab840e"
      },
      "outputs": [
        {
          "name": "stdout",
          "output_type": "stream",
          "text": [
            "list has awa\n",
            "list doesnt have string 1\n"
          ]
        }
      ],
      "source": [
        "l=[1,True,\"awa\"]\n",
        "if \"awa\" in l:\n",
        "  print(\"list has awa\")\n",
        "\n",
        "if \"1\" in l:\n",
        "  print(\"list has string one\")\n",
        "else:\n",
        "  print(\"list doesnt have string 1\")"
      ]
    },
    {
      "cell_type": "code",
      "execution_count": null,
      "metadata": {
        "colab": {
          "base_uri": "https://localhost:8080/"
        },
        "id": "n_g67sAoNWqE",
        "outputId": "d8cf97d8-27bf-46fc-a08e-90dcb00f6a1a"
      },
      "outputs": [
        {
          "name": "stdout",
          "output_type": "stream",
          "text": [
            "same for string\n"
          ]
        }
      ],
      "source": [
        "if \"a\" in \"sumina\":\n",
        "  print(\"same for string\")"
      ]
    },
    {
      "cell_type": "code",
      "execution_count": null,
      "metadata": {
        "colab": {
          "base_uri": "https://localhost:8080/"
        },
        "id": "3oM6cLgDN0vG",
        "outputId": "bd264b79-21ec-408c-96a3-93b1d0e75c32"
      },
      "outputs": [
        {
          "name": "stdout",
          "output_type": "stream",
          "text": [
            "[1, True, 'awa']\n",
            "[True, 'awa', 3]\n",
            "[True, 3]\n"
          ]
        }
      ],
      "source": [
        "l=[1,True,\"awa\",3,5,\"miss\"]\n",
        "print(l[:3])\n",
        "print(l[1:-2])\n",
        "print(l[1:5:2])"
      ]
    },
    {
      "cell_type": "code",
      "execution_count": null,
      "metadata": {
        "colab": {
          "base_uri": "https://localhost:8080/"
        },
        "id": "F6wfrUPLOWrH",
        "outputId": "63a47172-9b6c-4552-d3e7-8b8ab68251e6"
      },
      "outputs": [
        {
          "name": "stdout",
          "output_type": "stream",
          "text": [
            "[0, 1, 2, 3]\n",
            "[0, 2]\n"
          ]
        }
      ],
      "source": [
        "#list comprehension\n",
        "\n",
        "lst = [i for i in range(4)]\n",
        "print(lst)\n",
        "\n",
        "lst = [i for i in range(4) if i%2==0]\n",
        "print(lst)\n"
      ]
    },
    {
      "cell_type": "code",
      "execution_count": null,
      "metadata": {
        "colab": {
          "base_uri": "https://localhost:8080/"
        },
        "id": "nwbHCgVIPWYH",
        "outputId": "550f7262-1adf-40f4-adec-212eda47357e"
      },
      "outputs": [
        {
          "name": "stdout",
          "output_type": "stream",
          "text": [
            "[1, 2, 6, 4, 2, 9, 6]\n",
            "[1, 2, 6, 4, 2, 9, 6, 8]\n",
            "[1, 2, 2, 4, 6, 6, 8, 9]\n",
            "[9, 8, 6, 6, 4, 2, 2, 1]\n",
            "[1, 2, 2, 4, 6, 6, 8, 9]\n",
            "4\n",
            "2\n"
          ]
        }
      ],
      "source": [
        "l=[1,2,6,4,2,9,6]\n",
        "print(l)\n",
        "\n",
        "l.append(8)\n",
        "print(l)\n",
        "\n",
        "l.sort()\n",
        "print(l)\n",
        "\n",
        "l.sort(reverse=True)\n",
        "print(l)\n",
        "\n",
        "l.reverse()\n",
        "print(l)\n",
        "\n",
        "print(l.index(6))\n",
        "\n",
        "print(l.count(2))\n",
        "\n",
        "\n"
      ]
    },
    {
      "cell_type": "code",
      "execution_count": null,
      "metadata": {
        "colab": {
          "base_uri": "https://localhost:8080/"
        },
        "id": "QjqKlpXCQEyW",
        "outputId": "630a5df0-9522-49d9-b5a7-d60e3f8ac25c"
      },
      "outputs": [
        {
          "name": "stdout",
          "output_type": "stream",
          "text": [
            "[0, 2, 6, 4, 2, 9, 6]\n"
          ]
        }
      ],
      "source": [
        "l=[1,2,6,4,2,9,6]\n",
        "m=l\n",
        "m[0]=0\n",
        "print(l)\n",
        "\n",
        "#the content of l is changed as m is reference of l so use copy if required\n"
      ]
    },
    {
      "cell_type": "code",
      "execution_count": null,
      "metadata": {
        "colab": {
          "base_uri": "https://localhost:8080/"
        },
        "id": "-Sx6SVTnQc9m",
        "outputId": "821b0736-196b-44a7-bbc5-8c6deba29b31"
      },
      "outputs": [
        {
          "name": "stdout",
          "output_type": "stream",
          "text": [
            "[1, 2, 6, 4, 2, 9, 6]\n"
          ]
        }
      ],
      "source": [
        "l=[1,2,6,4,2,9,6]\n",
        "m=l.copy()\n",
        "m[0]=0\n",
        "print(l)\n",
        "\n",
        "#use of copy doesnt change the content of l"
      ]
    },
    {
      "cell_type": "code",
      "execution_count": null,
      "metadata": {
        "colab": {
          "base_uri": "https://localhost:8080/"
        },
        "id": "nJmz3Fg5RBku",
        "outputId": "0845aee4-17e5-4f71-e2b2-7cf109710fb6"
      },
      "outputs": [
        {
          "name": "stdout",
          "output_type": "stream",
          "text": [
            "[55, 1, 2, 6, 4, 2, 9, 6]\n"
          ]
        }
      ],
      "source": [
        "l=[1,2,6,4,2,9,6]\n",
        "l.insert(0,55)      #inser 55 at index 0\n",
        "print(l)"
      ]
    },
    {
      "cell_type": "code",
      "execution_count": null,
      "metadata": {
        "colab": {
          "base_uri": "https://localhost:8080/"
        },
        "id": "t9IwHi1XRO29",
        "outputId": "ce2a19b1-d5e4-4fe5-9e16-6ebd8ba96028"
      },
      "outputs": [
        {
          "name": "stdout",
          "output_type": "stream",
          "text": [
            "[1, 2, 6, 4, 2, 9, 6, 44, 55, 66]\n",
            "\n",
            "\n",
            "[1, 2, 6, 4, 2, 9, 6]\n",
            "[1, 2, 6, 4, 2, 9, 6, 44, 55, 66]\n"
          ]
        }
      ],
      "source": [
        "l=[1,2,6,4,2,9,6]\n",
        "m=[44,55,66]\n",
        "l.extend(m)\n",
        "print(l)    #this changes content of l\n",
        "print(\"\\n\")\n",
        "\n",
        "l=[1,2,6,4,2,9,6]\n",
        "m=[44,55,66]\n",
        "k=l+m\n",
        "print(l)    #l content doesnt changeas k is created\n",
        "print(k)"
      ]
    }
  ],
  "metadata": {
    "colab": {
      "provenance": []
    },
    "kernelspec": {
      "display_name": "Python 3",
      "name": "python3"
    },
    "language_info": {
      "name": "python"
    }
  },
  "nbformat": 4,
  "nbformat_minor": 0
}
