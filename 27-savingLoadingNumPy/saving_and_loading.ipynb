{
  "cells": [
    {
      "cell_type": "code",
      "execution_count": null,
      "metadata": {
        "id": "efRUzlvo0FHG"
      },
      "outputs": [],
      "source": [
        "import numpy as np\n",
        "import matplotlib.pyplot as plt\n",
        "\n",
        "# Load the mystery_image.npy file\n",
        "with open(\"mystery_image.npy\",\"rb\") as f:\n",
        "    rgb_array = np.load(f)\n",
        " \n",
        "plt.imshow(rgb_array)\n",
        "plt.show()"
      ]
    },
    {
      "cell_type": "code",
      "execution_count": null,
      "metadata": {
        "id": "_gxhcS2-0xpx"
      },
      "outputs": [],
      "source": [
        "# Display the documentation for .astype()\n",
        "help(np.ndarray.astype)  "
      ]
    },
    {
      "cell_type": "code",
      "execution_count": null,
      "metadata": {
        "id": "2uFwNpDF1h2Q"
      },
      "outputs": [],
      "source": [
        "# Reduce every value in rgb_array by 50 percent\n",
        "darker_rgb_array = rgb_array * 0.5\n",
        "\n",
        "# Convert darker_rgb_array into an array of integers\n",
        "darker_rgb_int_array = darker_rgb_array.astype(np.int8)\n",
        "plt.imshow(darker_rgb_int_array)\n",
        "plt.show()\n",
        "\n",
        "# Save darker_rgb_int_array to an .npy file called darker_monet.npy\n",
        "with open(\"darker_rgb_int_array.npy\",\"wb\") as f:\n",
        "    darker_monet.npy = np.save(f)\n"
      ]
    },
    {
      "cell_type": "code",
      "execution_count": null,
      "metadata": {
        "id": "zWrXAnLx14kl"
      },
      "outputs": [],
      "source": [
        "# Update and save\n",
        "# Perhaps you are training a machine learning model to recognize ocean scenes. You'd like the model to understand that oceans are not only associated with bright, summery colors, so you're careful to include images of oceans in bad weather or evening light as well. You may have to manually transform some images in order to balance the data, so your task is to darken the Monet ocean scene rgb_array.\n",
        "\n",
        "# Recall from the video that white is associated with the maximum RGB value of 255, while darker colors are associated with lower values. numpy is loaded as np, and the 3D Monet rgb_array that you loaded in the last exercise is available.\n",
        "# Save darker_rgb_int_array as an .npy file called darker_monet.npy using the alias f.\n",
        "\n",
        "\n",
        "\n",
        "# Reduce every value in rgb_array by 50 percent\n",
        "darker_rgb_array = rgb_array * 0.5\n",
        "\n",
        "# Convert darker_rgb_array into an array of integers\n",
        "darker_rgb_int_array = darker_rgb_array.astype(np.int8)\n",
        "plt.imshow(darker_rgb_int_array)\n",
        "plt.show()    \n",
        "\n",
        "# Save darker_rgb_int_array to an .npy file called darker_monet.npy\n",
        "with open(\"darker_monet.npy\",\"wb\") as f:\n",
        "    np.save(f,darker_rgb_int_array)"
      ]
    }
  ],
  "metadata": {
    "colab": {
      "provenance": []
    },
    "kernelspec": {
      "display_name": "Python 3",
      "name": "python3"
    },
    "language_info": {
      "name": "python"
    }
  },
  "nbformat": 4,
  "nbformat_minor": 0
}
