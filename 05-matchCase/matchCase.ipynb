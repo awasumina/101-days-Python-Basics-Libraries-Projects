{
  "nbformat": 4,
  "nbformat_minor": 0,
  "metadata": {
    "colab": {
      "provenance": []
    },
    "kernelspec": {
      "name": "python3",
      "display_name": "Python 3"
    },
    "language_info": {
      "name": "python"
    }
  },
  "cells": [
    {
      "cell_type": "code",
      "execution_count": null,
      "metadata": {
        "colab": {
          "base_uri": "https://localhost:8080/"
        },
        "id": "cwVVu2LNMVIn",
        "outputId": "1d45d513-53fb-4eda-8158-257a541960e7"
      },
      "outputs": [
        {
          "output_type": "stream",
          "name": "stdout",
          "text": [
            "enter the value:5\n",
            "x is not 1 and 2\n"
          ]
        }
      ],
      "source": [
        "#no need of break statement as once case matched it stops\n",
        "x=input(\"enter the value:\")\n",
        "match x:\n",
        "  case 0:\n",
        "    print(\"x is\",0)\n",
        "  case 1:\n",
        "    print(\"x is \",1)\n",
        "  case _:       #default case\n",
        "    print(\"x is not 1 and 2\")\n"
      ]
    },
    {
      "cell_type": "code",
      "source": [
        "x = 4\n",
        "match x:\n",
        "    case 0:\n",
        "        print(\"x is zero\")\n",
        "\n",
        "    case 4 if x % 2 == 0:\n",
        "        print(\"x % 2 == 0 and case is 4\")\n",
        "\n",
        "    # Empty case with if-condition\n",
        "    case _ if x < 10:\n",
        "        print(\"x is < 10\")\n",
        "    case _:\n",
        "        print(x)"
      ],
      "metadata": {
        "colab": {
          "base_uri": "https://localhost:8080/"
        },
        "id": "B9QZD7k1bIzf",
        "outputId": "d09c2e4b-7f6b-4f42-f339-948e3b61291b"
      },
      "execution_count": 8,
      "outputs": [
        {
          "output_type": "stream",
          "name": "stdout",
          "text": [
            "x % 2 == 0 and case is 4\n"
          ]
        }
      ]
    }
  ]
}