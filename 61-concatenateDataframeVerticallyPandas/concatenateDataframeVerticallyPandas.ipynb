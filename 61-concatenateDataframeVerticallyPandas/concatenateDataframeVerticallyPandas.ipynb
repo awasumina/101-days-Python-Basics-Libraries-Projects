{
  "cells": [
    {
      "cell_type": "code",
      "execution_count": 1,
      "metadata": {
        "colab": {
          "base_uri": "https://localhost:8080/"
        },
        "id": "V5G45_EMlvva",
        "outputId": "f21ebf0f-8098-4487-91e9-4482cbdb032f"
      },
      "outputs": [
        {
          "name": "stdout",
          "output_type": "stream",
          "text": [
            "   aid             composer  gid  mtid                     name   tid  u_price\n",
            "0  152  J.Hetfield/L.Ulrich    3     1                  Battery  1853     0.99\n",
            "1  152            K.Hammett    3     1        Master Of Puppets  1854     0.99\n",
            "2  152  J.Hetfield/L.Ulrich    3     1        Disposable Heroes  1857     0.99\n",
            "0  154                  NaN    3     1     Fight Fire With Fire  1874     0.99\n",
            "1  154                  NaN    3     1       Ride The Lightning  1875     0.99\n",
            "2  154                  NaN    3     1  For Whom The Bell Tolls  1876     0.99\n",
            "3  154                  NaN    3     1            Fade To Black  1877     0.99\n",
            "4  154                  NaN    3     1        Trapped Under Ice  1878     0.99\n",
            "0  155                  NaN    3     1                  Frantic  1882     0.99\n",
            "1  155                  NaN    3     1                St. Anger  1883     0.99\n",
            "2  155                  NaN    3     1     Some Kind Of Monster  1884     0.99\n",
            "3  155                  NaN    3     1             Dirty Window  1885     0.99\n",
            "4  155                  NaN    3     1            Invisible Kid  1886     0.99\n"
          ]
        }
      ],
      "source": [
        "import pandas as pd\n",
        "\n",
        "data = {\n",
        "    'tid': [1853, 1854, 1857],\n",
        "    'name': ['Battery', 'Master Of Puppets', 'Disposable Heroes'],\n",
        "    'aid': [152, 152, 152],\n",
        "    'mtid': [1, 1, 1],\n",
        "    'gid': [3, 3, 3],\n",
        "    'composer': ['J.Hetfield/L.Ulrich', 'K.Hammett', 'J.Hetfield/L.Ulrich'],\n",
        "    'u_price': [0.99, 0.99, 0.99]\n",
        "}\n",
        "\n",
        "tracks_master = pd.DataFrame(data)\n",
        "\n",
        "data_ride = {\n",
        "    'tid': [1874, 1875, 1876, 1877, 1878],\n",
        "    'name': ['Fight Fire With Fire', 'Ride The Lightning', 'For Whom The Bell Tolls', 'Fade To Black', 'Trapped Under Ice'],\n",
        "    'aid': [154, 154, 154, 154, 154],\n",
        "    'mtid': [1, 1, 1, 1, 1],\n",
        "    'gid': [3, 3, 3, 3, 3],\n",
        "    'u_price': [0.99, 0.99, 0.99, 0.99, 0.99]\n",
        "}\n",
        "\n",
        "tracks_ride = pd.DataFrame(data_ride)\n",
        "\n",
        "data_st = {\n",
        "    'tid': [1882, 1883, 1884, 1885, 1886],\n",
        "    'name': ['Frantic', 'St. Anger', 'Some Kind Of Monster', 'Dirty Window', 'Invisible Kid'],\n",
        "    'aid': [155, 155, 155, 155, 155],\n",
        "    'mtid': [1, 1, 1, 1, 1],\n",
        "    'gid': [3, 3, 3, 3, 3],\n",
        "    'u_price': [0.99, 0.99, 0.99, 0.99, 0.99]\n",
        "}\n",
        "\n",
        "tracks_st = pd.DataFrame(data_st)\n",
        "\n",
        "# Concatenate the tracks\n",
        "tracks_from_albums = pd.concat([tracks_master,tracks_ride,tracks_st],\n",
        "                               sort=True)\n",
        "print(tracks_from_albums)"
      ]
    },
    {
      "cell_type": "code",
      "execution_count": 2,
      "metadata": {
        "colab": {
          "base_uri": "https://localhost:8080/"
        },
        "id": "acREyxummEbj",
        "outputId": "68f99855-ce39-4666-9066-af599bcc26be"
      },
      "outputs": [
        {
          "name": "stdout",
          "output_type": "stream",
          "text": [
            "    aid             composer  gid  mtid                     name   tid  \\\n",
            "0   152  J.Hetfield/L.Ulrich    3     1                  Battery  1853   \n",
            "1   152            K.Hammett    3     1        Master Of Puppets  1854   \n",
            "2   152  J.Hetfield/L.Ulrich    3     1        Disposable Heroes  1857   \n",
            "3   154                  NaN    3     1     Fight Fire With Fire  1874   \n",
            "4   154                  NaN    3     1       Ride The Lightning  1875   \n",
            "5   154                  NaN    3     1  For Whom The Bell Tolls  1876   \n",
            "6   154                  NaN    3     1            Fade To Black  1877   \n",
            "7   154                  NaN    3     1        Trapped Under Ice  1878   \n",
            "8   155                  NaN    3     1                  Frantic  1882   \n",
            "9   155                  NaN    3     1                St. Anger  1883   \n",
            "10  155                  NaN    3     1     Some Kind Of Monster  1884   \n",
            "11  155                  NaN    3     1             Dirty Window  1885   \n",
            "12  155                  NaN    3     1            Invisible Kid  1886   \n",
            "\n",
            "    u_price  \n",
            "0      0.99  \n",
            "1      0.99  \n",
            "2      0.99  \n",
            "3      0.99  \n",
            "4      0.99  \n",
            "5      0.99  \n",
            "6      0.99  \n",
            "7      0.99  \n",
            "8      0.99  \n",
            "9      0.99  \n",
            "10     0.99  \n",
            "11     0.99  \n",
            "12     0.99  \n"
          ]
        }
      ],
      "source": [
        "import pandas as pd\n",
        "\n",
        "data = {\n",
        "    'tid': [1853, 1854, 1857],\n",
        "    'name': ['Battery', 'Master Of Puppets', 'Disposable Heroes'],\n",
        "    'aid': [152, 152, 152],\n",
        "    'mtid': [1, 1, 1],\n",
        "    'gid': [3, 3, 3],\n",
        "    'composer': ['J.Hetfield/L.Ulrich', 'K.Hammett', 'J.Hetfield/L.Ulrich'],\n",
        "    'u_price': [0.99, 0.99, 0.99]\n",
        "}\n",
        "\n",
        "tracks_master = pd.DataFrame(data)\n",
        "\n",
        "data_ride = {\n",
        "    'tid': [1874, 1875, 1876, 1877, 1878],\n",
        "    'name': ['Fight Fire With Fire', 'Ride The Lightning', 'For Whom The Bell Tolls', 'Fade To Black', 'Trapped Under Ice'],\n",
        "    'aid': [154, 154, 154, 154, 154],\n",
        "    'mtid': [1, 1, 1, 1, 1],\n",
        "    'gid': [3, 3, 3, 3, 3],\n",
        "    'u_price': [0.99, 0.99, 0.99, 0.99, 0.99]\n",
        "}\n",
        "\n",
        "tracks_ride = pd.DataFrame(data_ride)\n",
        "\n",
        "data_st = {\n",
        "    'tid': [1882, 1883, 1884, 1885, 1886],\n",
        "    'name': ['Frantic', 'St. Anger', 'Some Kind Of Monster', 'Dirty Window', 'Invisible Kid'],\n",
        "    'aid': [155, 155, 155, 155, 155],\n",
        "    'mtid': [1, 1, 1, 1, 1],\n",
        "    'gid': [3, 3, 3, 3, 3],\n",
        "    'u_price': [0.99, 0.99, 0.99, 0.99, 0.99]\n",
        "}\n",
        "\n",
        "tracks_st = pd.DataFrame(data_st)\n",
        "\n",
        "# Concatenate the tracks so the index goes from 0 to n-1\n",
        "tracks_from_albums = pd.concat([tracks_master,tracks_ride,tracks_st],\n",
        "                               ignore_index=True,\n",
        "                               sort=True)\n",
        "print(tracks_from_albums)"
      ]
    },
    {
      "cell_type": "code",
      "execution_count": 3,
      "metadata": {
        "colab": {
          "base_uri": "https://localhost:8080/"
        },
        "id": "SCujbm36mJk3",
        "outputId": "aae0975a-f462-4d71-dba9-f148a621a6de"
      },
      "outputs": [
        {
          "name": "stdout",
          "output_type": "stream",
          "text": [
            "   aid  gid  mtid                     name   tid  u_price\n",
            "0  152    3     1                  Battery  1853     0.99\n",
            "1  152    3     1        Master Of Puppets  1854     0.99\n",
            "2  152    3     1        Disposable Heroes  1857     0.99\n",
            "0  154    3     1     Fight Fire With Fire  1874     0.99\n",
            "1  154    3     1       Ride The Lightning  1875     0.99\n",
            "2  154    3     1  For Whom The Bell Tolls  1876     0.99\n",
            "3  154    3     1            Fade To Black  1877     0.99\n",
            "4  154    3     1        Trapped Under Ice  1878     0.99\n",
            "0  155    3     1                  Frantic  1882     0.99\n",
            "1  155    3     1                St. Anger  1883     0.99\n",
            "2  155    3     1     Some Kind Of Monster  1884     0.99\n",
            "3  155    3     1             Dirty Window  1885     0.99\n",
            "4  155    3     1            Invisible Kid  1886     0.99\n"
          ]
        }
      ],
      "source": [
        "import pandas as pd\n",
        "\n",
        "data = {\n",
        "    'tid': [1853, 1854, 1857],\n",
        "    'name': ['Battery', 'Master Of Puppets', 'Disposable Heroes'],\n",
        "    'aid': [152, 152, 152],\n",
        "    'mtid': [1, 1, 1],\n",
        "    'gid': [3, 3, 3],\n",
        "    'composer': ['J.Hetfield/L.Ulrich', 'K.Hammett', 'J.Hetfield/L.Ulrich'],\n",
        "    'u_price': [0.99, 0.99, 0.99]\n",
        "}\n",
        "\n",
        "tracks_master = pd.DataFrame(data)\n",
        "\n",
        "data_ride = {\n",
        "    'tid': [1874, 1875, 1876, 1877, 1878],\n",
        "    'name': ['Fight Fire With Fire', 'Ride The Lightning', 'For Whom The Bell Tolls', 'Fade To Black', 'Trapped Under Ice'],\n",
        "    'aid': [154, 154, 154, 154, 154],\n",
        "    'mtid': [1, 1, 1, 1, 1],\n",
        "    'gid': [3, 3, 3, 3, 3],\n",
        "    'u_price': [0.99, 0.99, 0.99, 0.99, 0.99]\n",
        "}\n",
        "\n",
        "tracks_ride = pd.DataFrame(data_ride)\n",
        "\n",
        "data_st = {\n",
        "    'tid': [1882, 1883, 1884, 1885, 1886],\n",
        "    'name': ['Frantic', 'St. Anger', 'Some Kind Of Monster', 'Dirty Window', 'Invisible Kid'],\n",
        "    'aid': [155, 155, 155, 155, 155],\n",
        "    'mtid': [1, 1, 1, 1, 1],\n",
        "    'gid': [3, 3, 3, 3, 3],\n",
        "    'u_price': [0.99, 0.99, 0.99, 0.99, 0.99]\n",
        "}\n",
        "\n",
        "tracks_st = pd.DataFrame(data_st)\n",
        "\n",
        "# Concatenate the tracks, show only columns names that are in all tables\n",
        "tracks_from_albums = pd.concat([tracks_master,tracks_ride,tracks_st],\n",
        "                               join='inner',\n",
        "                               sort=True)\n",
        "print(tracks_from_albums)"
      ]
    },
    {
      "cell_type": "code",
      "execution_count": 4,
      "metadata": {
        "colab": {
          "base_uri": "https://localhost:8080/",
          "height": 452
        },
        "id": "vQ3mR_A5mOom",
        "outputId": "a1ece696-71dc-43cc-8b47-80974f8620ab"
      },
      "outputs": [
        {
          "data": {
            "image/png": "[encoded data removed]",
            "text/plain": [
              "<Figure size 640x480 with 1 Axes>"
            ]
          },
          "metadata": {},
          "output_type": "display_data"
        }
      ],
      "source": [
        "import pandas as pd\n",
        "import matplotlib.pyplot as plt\n",
        "\n",
        "data_jul = {\n",
        "    'iid': [42, 43, 44, 45, 46, 47, 48, 126, 127, 128, 129, 130, 131, 132, 209, 210, 211, 212, 213, 214, 215, 292, 293, 294, 295, 296, 297, 298, 371, 372, 373, 374, 375, 376, 377],\n",
        "    'cid': [51, 53, 55, 59, 6, 15, 29, 35, 37, 39, 43, 49, 58, 13, 18, 19, 21, 23, 27, 33, 42, 47, 2, 3, 5, 7, 11, 17, 8, 10, 12, 16, 22, 31, 45],\n",
        "    'invoice_date': ['2009-07-06', '2009-07-06', '2009-07-07', '2009-07-08', '2009-07-11', '2009-07-16', '2009-07-24', '2010-07-13', '2010-07-13', '2010-07-14', '2010-07-15', '2010-07-18', '2010-07-23', '2010-07-31', '2011-07-07', '2011-07-20', '2011-07-20', '2011-07-21', '2011-07-22', '2011-07-25', '2011-07-30', '2012-07-05', '2012-07-13', '2012-07-26', '2012-07-26', '2012-07-27', '2012-07-28', '2012-07-31', '2013-07-02', '2013-07-02', '2013-07-03', '2013-07-04', '2013-07-07', '2013-07-12', '2013-07-20'],\n",
        "    'total': [1.98, 1.98, 3.96, 5.94, 8.91, 13.86, 0.99, 1.98, 1.98, 3.96, 5.94, 8.91, 13.86, 0.99, 0.99, 1.98, 1.98, 3.96, 5.94, 8.91, 13.86, 13.86, 0.99, 1.98, 1.98, 3.96, 5.94, 10.91, 1.98, 1.98, 3.96, 5.94, 8.91, 13.86, 0.99],\n",
        "    'bill_ctry': ['Sweden', 'UK', 'Australia', 'India', 'Czech Republic', 'Canada', 'Canada', 'Portugal', 'Germany', 'France', 'France', 'Poland', 'India', 'Brazil', 'USA', 'USA', 'USA', 'USA', 'USA', 'Canada', 'France', 'Italy', 'Germany', 'Canada', 'Czech Republic', 'Austria', 'Brazil', 'USA', 'Belgium', 'Brazil', 'Brazil', 'USA', 'USA', 'Canada', 'Hungary']\n",
        "}\n",
        "\n",
        "inv_jul = pd.DataFrame(data_jul)\n",
        "\n",
        "data_aug = {\n",
        "    'iid': [49, 50, 51, 52, 53, 54, 55, 133, 134, 135, 136, 137, 138, 139, 216, 217, 218, 219, 220, 221, 222, 299, 300, 301, 302, 303, 304, 305, 378, 379, 380, 381, 382, 383, 384],\n",
        "    'cid': [30, 32, 34, 38, 44, 53, 8, 14, 16, 18, 22, 28, 37, 51, 56, 57, 59, 2, 6, 12, 21, 26, 40, 41, 43, 45, 49, 55, 46, 48, 50, 54, 1, 10, 24],\n",
        "    'invoice_date': ['2009-08-06', '2009-08-06', '2009-08-07', '2009-08-08', '2009-08-11', '2009-08-16', '2009-08-24', '2010-08-13', '2010-08-13', '2010-08-14', '2010-08-15', '2010-08-18', '2010-08-23', '2010-08-31', '2011-08-07', '2011-08-20', '2011-08-20', '2011-08-21', '2011-08-22', '2011-08-25', '2011-08-30', '2012-08-05', '2012-08-13', '2012-08-26', '2012-08-26', '2012-08-27', '2012-08-28', '2012-08-31', '2013-08-02', '2013-08-02', '2013-08-03', '2013-08-04', '2013-08-07', '2013-08-12', '2013-08-20'],\n",
        "    'total': [1.98, 1.98, 3.96, 5.94, 8.91, 13.86, 0.99, 1.98, 1.98, 3.96, 5.94, 8.91, 13.86, 0.99, 0.99, 1.98, 1.98, 3.96, 5.94, 8.91, 13.86, 23.86, 0.99, 1.98, 1.98, 3.96, 5.94, 8.91, 1.98, 1.98, 3.96, 5.94, 8.91, 13.86, 0.99],\n",
        "    'bill_ctry': ['Canada', 'Canada', 'Portugal', 'Germany', 'Finland', 'UK', 'Belgium', 'Canada', 'USA', 'USA', 'USA', 'USA', 'Germany', 'Sweden', 'Argentina', 'Chile', 'India', 'Germany', 'Czech Republic', 'Brazil', 'USA', 'USA', 'France', 'France', 'France', 'Hungary', 'Poland', 'Australia', 'Ireland', 'Netherlands', 'Spain', 'UK', 'Brazil', 'Brazil', 'USA']\n",
        "}\n",
        "\n",
        "inv_aug = pd.DataFrame(data_aug)\n",
        "\n",
        "data_sep = {\n",
        "    'iid': [56, 57, 58, 59, 60, 61, 62, 140, 141, 142, 143, 144, 145, 223, 224, 225, 226, 227, 228, 229, 306, 307, 308, 309, 310, 311, 385, 386, 387, 388, 389, 390, 391],\n",
        "    'cid': [9, 11, 13, 17, 23, 32, 46, 52, 54, 56, 1, 7, 16, 35, 36, 38, 40, 44, 50, 59, 5, 19, 20, 22, 24, 28, 25, 27, 29, 33, 39, 48, 3],\n",
        "    'invoice_date': ['2009-09-06', '2009-09-06', '2009-09-07', '2009-09-08', '2009-09-11', '2009-09-16', '2009-09-24', '2010-09-13', '2010-09-13', '2010-09-14', '2010-09-15', '2010-09-18', '2010-09-23', '2011-09-07', '2011-09-20', '2011-09-20', '2011-09-21', '2011-09-22', '2011-09-25', '2011-09-30', '2012-09-05', '2012-09-13', '2012-09-26', '2012-09-26', '2012-09-27', '2012-09-28', '2013-09-02', '2013-09-02', '2013-09-03', '2013-09-04', '2013-09-07', '2013-09-12', '2013-09-20'],\n",
        "    'total': [1.98, 1.98, 3.96, 5.94, 8.91, 13.86, 0.99, 1.98, 1.98, 3.96, 5.94, 8.91, 13.86, 0.99, 1.98, 1.98, 3.96, 5.94, 8.91, 13.86, 16.86, 1.99, 3.98, 3.98, 7.96, 11.94, 1.98, 1.98, 3.96, 5.94, 8.91, 13.86, 0.99],\n",
        "    'bill_ctry': ['Denmark', 'Brazil', 'Brazil', 'USA', 'USA', 'Canada', 'Ireland', 'UK', 'UK', 'Argentina', 'Brazil', 'Austria', 'USA', 'Portugal', 'Germany', 'Germany', 'France', 'Finland', 'Spain', 'India', 'Czech Republic', 'USA', 'USA', 'USA', 'USA', 'USA', 'USA', 'USA', 'Canada', 'Canada', 'France', 'Netherlands', 'Canada']\n",
        "}\n",
        "\n",
        "inv_sep = pd.DataFrame(data_sep)\n",
        "\n",
        "\n",
        "# Concatenate the tables and add keys\n",
        "inv_jul_thr_sep = pd.concat([inv_jul,inv_aug,inv_sep],\n",
        "                            keys=['7Jul', '8Aug', '9Sep'])\n",
        "   \n",
        "# Group the invoices by the index keys and find avg of the total column\n",
        "\n",
        "\n",
        "avg_inv_by_month = inv_jul_thr_sep.groupby(level=0).agg({'total': 'mean'})\n",
        "\n",
        "# Bar plot of avg_inv_by_month\n",
        "avg_inv_by_month.plot(kind='bar')\n",
        "plt.show()\n"
      ]
    }
  ],
  "metadata": {
    "colab": {
      "provenance": []
    },
    "kernelspec": {
      "display_name": "Python 3",
      "name": "python3"
    },
    "language_info": {
      "name": "python"
    }
  },
  "nbformat": 4,
  "nbformat_minor": 0
}
