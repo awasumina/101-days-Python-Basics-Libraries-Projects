{
  "nbformat": 4,
  "nbformat_minor": 0,
  "metadata": {
    "colab": {
      "provenance": []
    },
    "kernelspec": {
      "name": "python3",
      "display_name": "Python 3"
    },
    "language_info": {
      "name": "python"
    }
  },
  "cells": [
    {
      "cell_type": "code",
      "execution_count": 3,
      "metadata": {
        "colab": {
          "base_uri": "https://localhost:8080/"
        },
        "id": "tNwNc7xiXNK_",
        "outputId": "5bfe93a9-5946-49d4-cd7b-3a8e30e468fc"
      },
      "outputs": [
        {
          "output_type": "stream",
          "name": "stdout",
          "text": [
            "10\n"
          ]
        }
      ],
      "source": [
        "def double(x):\n",
        "  return x*2\n",
        "print(double(5))\n"
      ]
    },
    {
      "cell_type": "code",
      "source": [
        "\n",
        "\n",
        "double = lambda x: x * 2\n",
        "cube = lambda x: x * x * x\n",
        "avg = lambda x, y, z: (x + y + z) / 3\n",
        "\n",
        "print(double(5))\n",
        "print(cube(5))\n",
        "print(avg(3, 5, 10))"
      ],
      "metadata": {
        "colab": {
          "base_uri": "https://localhost:8080/"
        },
        "id": "wPKj8Cr5YzCK",
        "outputId": "d5456692-e50c-4db8-d025-d691a0cb4950"
      },
      "execution_count": 5,
      "outputs": [
        {
          "output_type": "stream",
          "name": "stdout",
          "text": [
            "10\n",
            "125\n",
            "6.0\n"
          ]
        }
      ]
    },
    {
      "cell_type": "code",
      "source": [
        "def appl(fx, value):\n",
        "  return 6 + fx(value)\n",
        "print(appl(lambda x: x * x , 2))\n"
      ],
      "metadata": {
        "colab": {
          "base_uri": "https://localhost:8080/"
        },
        "id": "PjSuL8hCY44x",
        "outputId": "e2658040-efe5-40da-ccc9-8962420ae713"
      },
      "execution_count": 4,
      "outputs": [
        {
          "output_type": "stream",
          "name": "stdout",
          "text": [
            "10\n"
          ]
        }
      ]
    }
  ]
}